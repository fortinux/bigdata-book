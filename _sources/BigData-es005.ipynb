{
 "cells": [
  {
   "cell_type": "markdown",
   "id": "149cb3a8",
   "metadata": {
    "slideshow": {
     "slide_type": "slide"
    }
   },
   "source": [
    "# Big Data tema 5"
   ]
  },
  {
   "cell_type": "markdown",
   "id": "b6a4ea0b",
   "metadata": {
    "slideshow": {
     "slide_type": "slide"
    }
   },
   "source": [
    "## Aplicaciones para Big Data"
   ]
  },
  {
   "cell_type": "markdown",
   "id": "1083ffca",
   "metadata": {
    "slideshow": {
     "slide_type": "slide"
    }
   },
   "source": [
    "- Hadoop: HDFS & MapReduce\n",
    "- Apache Storm\n",
    "- Apache Spark\n",
    "- Apache Kafka"
   ]
  },
  {
   "cell_type": "markdown",
   "id": "b180fa70",
   "metadata": {
    "slideshow": {
     "slide_type": "slide"
    }
   },
   "source": [
    "## Hadoop"
   ]
  },
  {
   "cell_type": "markdown",
   "id": "65fd69cf",
   "metadata": {
    "slideshow": {
     "slide_type": "slide"
    }
   },
   "source": [
    "- El proyecto Apache™ Hadoop® desarrolla software de código abierto para computación distribuida, escalable y confiable.\n",
    "    - Extraído de: <https://hadoop.apache.org/>."
   ]
  },
  {
   "cell_type": "markdown",
   "id": "922ca41e",
   "metadata": {
    "slideshow": {
     "slide_type": "slide"
    }
   },
   "source": [
    "- Es un framework para el procesamiento distribuido de grandes conjuntos de datos en grupos de computadoras que utilizan modelos de programación simples.\n",
    "- Diseñado para escalar desde servidores individuales a miles de máquinas, cada una de las cuales ofrece computación y almacenamiento locales."
   ]
  },
  {
   "cell_type": "markdown",
   "id": "75ecd98a",
   "metadata": {
    "slideshow": {
     "slide_type": "slide"
    }
   },
   "source": [
    "- En lugar de depender del hardware para brindar alta disponibilidad, la biblioteca en sí está diseñada para detectar y manejar fallas en la capa de la aplicación, por lo que brinda un servicio de alta disponibilidad sobre un grupo de computadoras, cada una de las cuales puede ser propensa a fallas."
   ]
  },
  {
   "cell_type": "markdown",
   "id": "117d7340",
   "metadata": {
    "slideshow": {
     "slide_type": "slide"
    }
   },
   "source": [
    "## Módulos de Apache Hadoop "
   ]
  },
  {
   "cell_type": "markdown",
   "id": "f309b9ff",
   "metadata": {
    "slideshow": {
     "slide_type": "slide"
    }
   },
   "source": [
    "- Apache Hadoop cuenta con una serie de módulos que le permiten extender sus funcionalidades.\n",
    "- Los más utilizados son *Hadoop Common, HDFS, YARN y MapReduce*."
   ]
  },
  {
   "cell_type": "markdown",
   "id": "2e30bec8",
   "metadata": {
    "slideshow": {
     "slide_type": "slide"
    }
   },
   "source": [
    "- Hadoop Common: \n",
    "    - Las *common utilities* que soportan los otros módulos de Hadoop.\n",
    "- Hadoop Distributed File System (HDFS™): \n",
    "    - Un sistema de archivos distribuido que proporciona acceso de alto rendimiento a los datos de la aplicación."
   ]
  },
  {
   "cell_type": "markdown",
   "id": "d61390c3",
   "metadata": {
    "slideshow": {
     "slide_type": "slide"
    }
   },
   "source": [
    "- Hadoop YARN\n",
    "    - Un framework para job scheduling y gestión de recursos de los clusters. \n",
    "    - Tecnología de gestión de clústeres en Hadoop de segunda generación.\n",
    "    - Extraído de: <https://hadoop.apache.org/docs/current/hadoop-yarn/hadoop-yarn-site/YARN.html>."
   ]
  },
  {
   "cell_type": "markdown",
   "id": "6a7bb6a9",
   "metadata": {
    "slideshow": {
     "slide_type": "slide"
    }
   },
   "source": [
    "- MapReduce\n",
    "    - Un sistema basado en YARN para el procesamiento en paralelo de grandes volúmenes de datos.    \n",
    "    - Este framework procesa cantidades masivas de datos no estructurados en paralelo en un clúster distribuido.\n",
    "    - Extraído de: <https://hadoop.apache.org/docs/r1.2.1/mapred_tutorial.html>."
   ]
  },
  {
   "cell_type": "markdown",
   "id": "4092b0ba",
   "metadata": {
    "slideshow": {
     "slide_type": "slide"
    }
   },
   "source": [
    "## Apache Hadoop YARN"
   ]
  },
  {
   "cell_type": "markdown",
   "id": "9ad30ffe",
   "metadata": {
    "slideshow": {
     "slide_type": "slide"
    }
   },
   "source": [
    "- Tecnología de gestión de clústeres en Hadoop de segunda generación.\n",
    "- La idea de YARN es dividir las funcionalidades de gestión de recursos y programación/supervisión de trabajos en demonios separados: un ResourceManager (RM) global y un ApplicationMaster (AM) por aplicación.\n",
    "- Una aplicación es un solo trabajo o un DAG de trabajos.\n",
    "- El ResourceManager y el NodeManager forman el framework de cálculo de datos. "
   ]
  },
  {
   "cell_type": "markdown",
   "id": "81955e2c",
   "metadata": {
    "slideshow": {
     "slide_type": "fragment"
    }
   },
   "source": [
    "- Fuente: <https://hadoop.apache.org/docs/current/hadoop-yarn/hadoop-yarn-site/YARN.html>"
   ]
  },
  {
   "cell_type": "markdown",
   "id": "e3337ce9",
   "metadata": {
    "slideshow": {
     "slide_type": "slide"
    }
   },
   "source": [
    "- El ResourceManager arbitra los recursos entre todas las aplicaciones del sistema.\n",
    "- El NodeManager es el agente del framework por máquina que es responsable de los contenedores, monitorea el uso de sus recursos (cpu, memoria, disco, red) e informa al ResourceManager / Scheduler. "
   ]
  },
  {
   "cell_type": "markdown",
   "id": "e70c52c4",
   "metadata": {
    "slideshow": {
     "slide_type": "slide"
    }
   },
   "source": [
    "- La aplicación ApplicationMaster es en efecto una biblioteca específica del framework y tiene la tarea de negociar recursos del ResourceManager y trabajar con los NodeManager(s) para ejecutar y monitorear las tareas."
   ]
  },
  {
   "cell_type": "markdown",
   "id": "05bf9d0d",
   "metadata": {
    "slideshow": {
     "slide_type": "slide"
    }
   },
   "source": [
    "## Apache Hadoop MapReduce"
   ]
  },
  {
   "cell_type": "markdown",
   "id": "87f7c2b5",
   "metadata": {
    "slideshow": {
     "slide_type": "slide"
    }
   },
   "source": [
    "- Es un framework de software para escribir fácilmente aplicaciones que procesan grandes cantidades de datos (conjuntos de datos de varios terabytes) en paralelo en grandes clústeres (miles de nodos) de hardware básico de manera confiable y tolerante a fallas."
   ]
  },
  {
   "cell_type": "markdown",
   "id": "532514bf-f4bc-4320-919d-bb1b9cec7cde",
   "metadata": {},
   "source": [
    "Fuente: {cite:ps}`Turkington2013`"
   ]
  },
  {
   "cell_type": "markdown",
   "id": "49b67417",
   "metadata": {
    "slideshow": {
     "slide_type": "slide"
    }
   },
   "source": [
    "- Consta de un único ResourceManager maestro, un NodeManager trabajador por nodo de clúster y MRAppMaster por aplicación.\n",
    "- Las aplicaciones especifican las ubicaciones de entrada/salida y el mapa de suministro y reducen las funciones a través de implementaciones de interfaces apropiadas y/o clases abstractas.\n",
    "- Estos y otros parámetros del trabajo comprenden la configuración del trabajo."
   ]
  },
  {
   "cell_type": "markdown",
   "id": "edbb4efc",
   "metadata": {
    "slideshow": {
     "slide_type": "slide"
    }
   },
   "source": [
    "- El cliente de trabajo de Hadoop luego envía el trabajo (jar/ejecutable, etc.) y la configuración al ResourceManager, que entonces asume la responsabilidad de distribuir el software/configuración a los trabajadores, programar tareas y monitorearlas, proporcionando estado e información de diagnóstico al trabajo-cliente."
   ]
  },
  {
   "cell_type": "markdown",
   "id": "385349f7",
   "metadata": {
    "slideshow": {
     "slide_type": "slide"
    }
   },
   "source": [
    "- Las aplicaciones de MapReduce no necesitan estar escritas en Java.\n",
    "- Hadoop Streaming es una utilidad que permite a los usuarios crear y ejecutar trabajos con cualquier ejecutable (por ejemplo, utilidades de shell) como mapeador y/o reductor.\n",
    "- Hadoop Pipes es una API C++ compatible con SWIG para implementar aplicaciones MapReduce (no basadas en JNI™)."
   ]
  },
  {
   "cell_type": "markdown",
   "id": "88654b0b",
   "metadata": {
    "slideshow": {
     "slide_type": "slide"
    }
   },
   "source": [
    "- Entradas y salidas:\n",
    "- El framework MapReduce opera exclusivamente en pares <clave, valor>, es decir, el framework ve la entrada del trabajo como un conjunto de pares <clave, valor> y produce un conjunto de pares <clave, valor> como la salida de el trabajo, posiblemente de diferentes tipos."
   ]
  },
  {
   "cell_type": "markdown",
   "id": "2db8786f",
   "metadata": {
    "slideshow": {
     "slide_type": "slide"
    }
   },
   "source": [
    "- Tipos de entradas y salidas de un MapReduce job:\n",
    "\n",
    "    `(input) <k1, v1> -> map -> <k2, v2> -> combine -> <k2, v2> -> reduce -> <k3, v3> (output)`"
   ]
  },
  {
   "cell_type": "markdown",
   "id": "8b2d9fdf",
   "metadata": {
    "slideshow": {
     "slide_type": "slide"
    }
   },
   "source": [
    "## Sistema de ficheros HDFS"
   ]
  },
  {
   "cell_type": "markdown",
   "id": "0102de44",
   "metadata": {
    "slideshow": {
     "slide_type": "slide"
    }
   },
   "source": [
    "- HDFS es un sistema de ficheros basado en Java que provee almacenamiento confiable y escalable.\n",
    "- Fue diseñado para abarcar grandes grupos de servidores básicos (commodity servers).\n",
    "- HDFS contiene una gran cantidad de datos y proporciona un acceso a los mismos de manera sencilla y fácil.\n",
    "    - Extraído de: <https://hadoop.apache.org/docs/current/hadoop-project-dist/hadoop-hdfs/HdfsDesign.html>. "
   ]
  },
  {
   "cell_type": "markdown",
   "id": "58634f0a",
   "metadata": {
    "slideshow": {
     "slide_type": "slide"
    }
   },
   "source": [
    "- HDFS proporciona acceso de alto rendimiento a los datos de la aplicación y es adecuado para aplicaciones que tienen grandes conjuntos de datos.\n",
    "- HDFS relaja algunos requisitos de POSIX para permitir el acceso de transmisión a los datos del sistema de archivos.\n",
    "- HDFS se creó originalmente como infraestructura para el proyecto de motor de búsqueda web Apache Nutch."
   ]
  },
  {
   "cell_type": "markdown",
   "id": "5f641c9d",
   "metadata": {
    "slideshow": {
     "slide_type": "slide"
    }
   },
   "source": [
    "- Supuestos y objetivos de HDFS:\n",
    "- La falla de hardware es la norma y no la excepción, por lo que la detección de fallas y la recuperación rápida y automática de ellas es un objetivo arquitectónico central de HDFS.\n",
    "- Las aplicaciones que se ejecutan en HDFS necesitan acceso de transmisión a sus conjuntos de datos. \n",
    "- HDFS está diseñado más para el procesamiento por lotes que para el uso interactivo por parte de los usuarios."
   ]
  },
  {
   "cell_type": "markdown",
   "id": "bb1ffa25",
   "metadata": {
    "slideshow": {
     "slide_type": "slide"
    }
   },
   "source": [
    "- Las aplicaciones que se ejecutan en HDFS tienen grandes conjuntos de datos.\n",
    "- Las aplicaciones HDFS necesitan un modelo de acceso de escritura única, lectura múltiple para archivos, lo que permite un acceso de datos de alto rendimiento. \n",
    "- Una aplicación MapReduce o una aplicación de rastreo web encaja perfectamente con este modelo."
   ]
  },
  {
   "cell_type": "markdown",
   "id": "934200cf",
   "metadata": {
    "slideshow": {
     "slide_type": "slide"
    }
   },
   "source": [
    "- Mover computación es más barato que mover datos. \n",
    "- HDFS proporciona interfaces para que las aplicaciones se muevan más cerca de donde se encuentran los datos.\n",
    "- Portabilidad a través de plataformas heterogéneas de hardware y software."
   ]
  },
  {
   "cell_type": "markdown",
   "id": "29dbe764",
   "metadata": {
    "slideshow": {
     "slide_type": "slide"
    }
   },
   "source": [
    "## Características de HDFS"
   ]
  },
  {
   "cell_type": "markdown",
   "id": "ef144cb6",
   "metadata": {
    "slideshow": {
     "slide_type": "slide"
    }
   },
   "source": [
    "- Para almacenar una inmensa cantidad de datos, los ficheros son guardados en varias máquinas. \n",
    "- Estos ficheros son guardados de forma redundante para poder rescatar el sistema en caso de pérdida de datos a causa de fallos."
   ]
  },
  {
   "cell_type": "markdown",
   "id": "ccbaed68",
   "metadata": {
    "slideshow": {
     "slide_type": "slide"
    }
   },
   "source": [
    "- HDFS también proporciona la disponibilidad de aplicaciones para procesamiento en paralelo durante el paso de *Data ingestion*. \n",
    "- HDFS fue construido para soportar aplicaciones con grandes conjuntos de datos, incluyendo ficheros con *terabytes* de tamaño."
   ]
  },
  {
   "cell_type": "markdown",
   "id": "6aacd376",
   "metadata": {
    "slideshow": {
     "slide_type": "slide"
    }
   },
   "source": [
    "- Utiliza una arquitectura maestro/esclavo, en la que cada clúster consta de un solo NameNode que administra las operaciones del sistema de archivos y admite DataNodes que administran el almacenamiento de datos en nodos de cómputo individuales. "
   ]
  },
  {
   "cell_type": "markdown",
   "id": "66417552",
   "metadata": {
    "slideshow": {
     "slide_type": "slide"
    }
   },
   "source": [
    "- Cuando HDFS toma datos, divide la información en partes separadas y las distribuye a diferentes nodos en un clúster, lo que permite el procesamiento paralelo. \n",
    "- El sistema de archivos en Ingestión de datos también copia cada pieza de datos varias veces y distribuye las copias a nodos individuales, colocando al menos una copia en un rack de servidor diferente. "
   ]
  },
  {
   "cell_type": "markdown",
   "id": "f8f5955e",
   "metadata": {
    "slideshow": {
     "slide_type": "slide"
    }
   },
   "source": [
    "## Proyectos relacionados con Apache Hadoop"
   ]
  },
  {
   "cell_type": "markdown",
   "id": "d11018eb",
   "metadata": {
    "slideshow": {
     "slide_type": "slide"
    }
   },
   "source": [
    "- Ambari™: una herramienta basada en web para aprovisionar, administrar y monitorear clústeres de Apache Hadoop.\n",
    "- Avro™: Un sistema de serialización de datos.\n",
    "- Cassandra™: una base de datos multimaestro escalable sin puntos únicos de falla.\n",
    "- Chukwa™: un sistema de recopilación de datos para gestionar grandes sistemas distribuidos.\n",
    "- HBase™: una base de datos distribuida escalable que admite el almacenamiento de datos estructurados para tablas grandes.\n",
    "- Hive™: una infraestructura de almacenamiento de datos que proporciona resúmenes de datos y consultas ad hoc.\n",
    "- Mahout™: una biblioteca escalable de aprendizaje automático y minería de datos."
   ]
  },
  {
   "cell_type": "markdown",
   "id": "5717acfa",
   "metadata": {
    "slideshow": {
     "slide_type": "slide"
    }
   },
   "source": [
    "- Ozone™: un almacén de objetos escalable, redundante y distribuido para Hadoop.\n",
    "- Pig™: un lenguaje de flujo de datos de alto nivel y un marco de ejecución para computación paralela.\n",
    "- Spark™: un motor de cómputo rápido y general para datos de Hadoop. .\n",
    "- Submarine: una plataforma de IA unificada que permite a los ingenieros y científicos de datos ejecutar cargas de trabajo de ML y DL en un clúster distribuido.\n",
    "- Tez™: un marco de programación de flujo de datos generalizado, basado en Hadoop YARN, que proporciona un motor potente y flexible para ejecutar un DAG arbitrario de tareas para procesar datos tanto para casos de uso por lotes como interactivos. Tez está siendo adoptado por Hive™, Pig™ y otros marcos en el ecosistema de Hadoop, y también por otro software comercial (por ejemplo, herramientas ETL), para reemplazar a Hadoop™ MapReduce como el motor de ejecución subyacente.\n",
    "- ZooKeeper™: un servicio de coordinación de alto rendimiento para aplicaciones distribuidas."
   ]
  },
  {
   "cell_type": "markdown",
   "id": "1f328541",
   "metadata": {
    "slideshow": {
     "slide_type": "slide"
    }
   },
   "source": [
    "## Tutorial Apache Hadoop"
   ]
  },
  {
   "cell_type": "markdown",
   "id": "a6fe9b82",
   "metadata": {
    "slideshow": {
     "slide_type": "slide"
    }
   },
   "source": [
    "- Instalación de Hadoop en CentOS 8\n",
    "- Fuente: <https://fortinux.com/linux-2-tutoriales/hadoop-installation-centos8/#more-1750>"
   ]
  },
  {
   "cell_type": "markdown",
   "id": "7f2d2f7c",
   "metadata": {
    "slideshow": {
     "slide_type": "slide"
    }
   },
   "source": [
    "## Apache Spark"
   ]
  },
  {
   "cell_type": "markdown",
   "id": "28fe46e3",
   "metadata": {
    "slideshow": {
     "slide_type": "slide"
    }
   },
   "source": [
    "- Framework de procesamiento paralelo y de código abierto para ejecutar aplicaciones de análisis de datos a gran escala en sistemas agrupados.\n",
    "- Proporciona APIs de alto nivel en Java, Scala, Python y R, y un motor optimizado que soporta grafos de ejecución general.\n",
    "    - Extraído de: <https://spark.apache.org/>."
   ]
  },
  {
   "cell_type": "markdown",
   "id": "41e63a7c",
   "metadata": {
    "slideshow": {
     "slide_type": "slide"
    }
   },
   "source": [
    "- También es compatible con un amplio conjunto de herramientas de alto nivel, que incluyen Spark SQL para SQL y procesamiento de datos estructurados, MLlib para aprendizaje automático, GraphX para procesamiento de gráficos y transmisión estructurada para procesamiento incremental y de streaming."
   ]
  },
  {
   "cell_type": "markdown",
   "id": "1c48e9af",
   "metadata": {
    "slideshow": {
     "slide_type": "slide"
    }
   },
   "source": [
    "- Spark SQL incluye un optimizador basado en costes, almacenamiento en columnas y generación de código para agilizar las consultas.\n",
    "- Al mismo tiempo, se escala a miles de nodos y consultas de varias horas mediante el motor Spark, que proporciona tolerancia completa a fallas en la mitad de la consulta. "
   ]
  },
  {
   "cell_type": "markdown",
   "id": "9c7f31b5",
   "metadata": {
    "slideshow": {
     "slide_type": "slide"
    }
   },
   "source": [
    "- Facilidad de uso: Es posible escribir aplicaciones rápidamente en Java, Scala, Python, R y SQL.\n",
    "- Spark ofrece más de 80 operadores de alto nivel que facilitan la creación de aplicaciones paralelas.\n",
    "- Además se puede usar de forma interactiva desde los shells de Scala, Python, R y SQL."
   ]
  },
  {
   "cell_type": "markdown",
   "id": "4dec1d0f",
   "metadata": {
    "slideshow": {
     "slide_type": "slide"
    }
   },
   "source": [
    "- Velocidad: Se ejecutan cargas de trabajo 100 veces más rápidas.\n",
    "- Apache Spark logra un alto rendimiento tanto para datos por lotes como en streaming, utilizando un programador DAG de última generación, un optimizador de consultas y un motor de ejecución física."
   ]
  },
  {
   "cell_type": "markdown",
   "id": "858b6a0c",
   "metadata": {
    "slideshow": {
     "slide_type": "slide"
    }
   },
   "source": [
    "- Se ejecuta en todas partes: Se puede ejecutar Spark utilizando su modo de clúster independiente, en EC2, en Hadoop YARN, en Mesos o en Kubernetes.\n",
    "- Se acceden a los datos en HDFS, Alluxio, Apache Cassandra, Apache HBase, Apache Hive y cientos de otras fuentes de datos."
   ]
  },
  {
   "cell_type": "markdown",
   "id": "459a696e",
   "metadata": {
    "slideshow": {
     "slide_type": "slide"
    }
   },
   "source": [
    "## Características de Apache Spark"
   ]
  },
  {
   "cell_type": "markdown",
   "id": "183d60d2",
   "metadata": {
    "slideshow": {
     "slide_type": "slide"
    }
   },
   "source": [
    "- La máquina en la que se ejecuta la aplicación Spark (*Spark Context*) se denomina nodo de controlador (*driver node*), que ejecuta varias operaciones paralelas en los nodos de trabajo del clúster."
   ]
  },
  {
   "cell_type": "markdown",
   "id": "3f03c2d5",
   "metadata": {
    "slideshow": {
     "slide_type": "slide"
    }
   },
   "source": [
    "- Spark utiliza el concepto de un conjunto de datos distribuido resiliente (RDD), que representa una colección de objetos de solo lectura particionados en un conjunto de máquinas que se pueden reconstruir si se pierde una partición."
   ]
  },
  {
   "cell_type": "markdown",
   "id": "650fc34c",
   "metadata": {
    "slideshow": {
     "slide_type": "slide"
    }
   },
   "source": [
    "- La seguridad en Spark está DESACTIVADA de forma predeterminada.\n",
    "- Esto podría significar que se es vulnerable a un ataque por defecto.\n",
    "- Es necesario leer la documentación sobre seguridad antes de descargar y ejecutar Spark."
   ]
  },
  {
   "cell_type": "markdown",
   "id": "c5e0f6e1",
   "metadata": {
    "slideshow": {
     "slide_type": "slide"
    }
   },
   "source": [
    "## Casos de uso de Spark"
   ]
  },
  {
   "cell_type": "markdown",
   "id": "d9930a33",
   "metadata": {
    "slideshow": {
     "slide_type": "slide"
    }
   },
   "source": [
    "- Se utiliza para realizar trabajos informáticos con grandes cargas de datos junto a Apache Kafka. \n",
    "- Fue desarrollado en la University of California, Berkeley."
   ]
  },
  {
   "cell_type": "markdown",
   "id": "5c507c3e",
   "metadata": {
    "slideshow": {
     "slide_type": "slide"
    }
   },
   "source": [
    "- Con Spark ejecutándose en Apache Hadoop YARN, los desarrolladores pueden crear aplicaciones para explotar el poder de Spark, obtener información y enriquecer sus cargas de trabajo de ciencia de datos dentro de un único conjunto de datos compartidos en Hadoop."
   ]
  },
  {
   "cell_type": "markdown",
   "id": "87669664",
   "metadata": {
    "slideshow": {
     "slide_type": "slide"
    }
   },
   "source": [
    "- Monitoramento del tránsito automotor utilizando IoT, Kafka y Spark Streaming."
   ]
  },
  {
   "cell_type": "markdown",
   "id": "7015fb03",
   "metadata": {
    "slideshow": {
     "slide_type": "slide"
    }
   },
   "source": [
    "## Apache Storm"
   ]
  },
  {
   "cell_type": "markdown",
   "id": "01001816",
   "metadata": {
    "slideshow": {
     "slide_type": "slide"
    }
   },
   "source": [
    "- Es un sistema distribuido open source para procesar datos en tiempo real durante la ingesta de datos. \n",
    "- Es escalable, tiene tolerancia a fallos, y es fácil de configurar y operar.\n",
    "- Facilita el procesamiento confiable de flujos ilimitados de datos, haciendo para el procesamiento en tiempo real lo que Hadoop hizo para el procesamiento por lotes.\n",
    "    - Extraído de: <https://storm.apache.org/>."
   ]
  },
  {
   "cell_type": "markdown",
   "id": "4d25c3bb",
   "metadata": {
    "slideshow": {
     "slide_type": "slide"
    }
   },
   "source": [
    "- No existe ningún truco que convierta a Hadoop en un sistema en tiempo real.\n",
    "- El procesamiento de datos en tiempo real tiene un conjunto de requisitos fundamentalmente diferente al procesamiento por lotes.\n",
    "- Apache Storm agrega a Hadoop esta funcionalidad de manera sencilla."
   ]
  },
  {
   "cell_type": "markdown",
   "id": "786fecb5",
   "metadata": {
    "slideshow": {
     "slide_type": "slide"
    }
   },
   "source": [
    "- Apache Storm en YARN es poderoso para escenarios que requieren análisis en tiempo real, aprendizaje automático (ML) y monitoreo continuo de operaciones."
   ]
  },
  {
   "cell_type": "markdown",
   "id": "1f89507b",
   "metadata": {
    "slideshow": {
     "slide_type": "slide"
    }
   },
   "source": [
    "- Casos de uso:\n",
    "    - Análisis en tiempo real\n",
    "    - Aprendizaje automático\n",
    "    - Monitoreo continuo de operaciones\n",
    "    - RPC distribuido, ETL, y más."
   ]
  },
  {
   "cell_type": "markdown",
   "id": "e9918909",
   "metadata": {
    "slideshow": {
     "slide_type": "slide"
    }
   },
   "source": [
    "## Características de Apache Storm"
   ]
  },
  {
   "cell_type": "markdown",
   "id": "486d0928",
   "metadata": {
    "slideshow": {
     "slide_type": "slide"
    }
   },
   "source": [
    "- Es rápido: un *benchmark* registró más de un millón de tuplas procesadas por segundo por nodo.\n",
    "- Es escalable, tolerante a fallas, garantiza que los datos serán procesados y es fácil de configurar y operar."
   ]
  },
  {
   "cell_type": "markdown",
   "id": "d9f31af1",
   "metadata": {
    "slideshow": {
     "slide_type": "slide"
    }
   },
   "source": [
    "- Se integra con las tecnologías de colas (*queueing*) y bases de datos que ya se utilizan.\n",
    "- Una topología de Apache Storm consume flujos de datos y procesa esos flujos de formas arbitrariamente complejas, repartiendo los flujos entre cada etapa del cálculo según sea necesario."
   ]
  },
  {
   "cell_type": "markdown",
   "id": "69baf8a0",
   "metadata": {
    "slideshow": {
     "slide_type": "slide"
    }
   },
   "source": [
    "- Storm se puede utilizar para:\n",
    "     - Procesamiento de mensajes y actualización de bases de datos (stream processing).\n",
    "     - Consulta continua sobre flujos de datos y transmisión de los resultados a los clientes (computación continua).\n",
    "     - Paralelizar una consulta intensa como una consulta de búsqueda sobre la marcha (RPC distribuido), y más."
   ]
  },
  {
   "cell_type": "markdown",
   "id": "08e5a435",
   "metadata": {
    "slideshow": {
     "slide_type": "slide"
    }
   },
   "source": [
    "- Escalable: Storm se escala a cantidades masivas de mensajes por segundo.\n",
    "- Para escalar una topología, todo lo que se tiene que hacer es agregar máquinas y aumentar la configuración de paralelismo de la topología."
   ]
  },
  {
   "cell_type": "markdown",
   "id": "ec778489",
   "metadata": {
    "slideshow": {
     "slide_type": "slide"
    }
   },
   "source": [
    "- Como ejemplo de la escala de Storm, una de las aplicaciones iniciales de Storm procesó 1000000 de mensajes por segundo en un clúster de 10 nodos, incluidos cientos de llamadas a la base de datos por segundo como parte de la topología.\n",
    "- El uso de Zookeeper por parte de Storm para la coordinación de clústeres lo hace escalar a tamaños de clúster mucho más grandes."
   ]
  },
  {
   "cell_type": "markdown",
   "id": "cfd30d1f",
   "metadata": {
    "slideshow": {
     "slide_type": "slide"
    }
   },
   "source": [
    "- Garantías de no pérdida de datos: un sistema en tiempo real debe tener fuertes garantías de que los datos se procesarán con éxito.\n",
    "- Un sistema que distribuye datos tiene un conjunto muy limitado de casos de uso.\n",
    "- Storm garantiza que todos los mensajes serán procesados, y esto contrasta directamente con otros sistemas como S4."
   ]
  },
  {
   "cell_type": "markdown",
   "id": "497ce4da",
   "metadata": {
    "slideshow": {
     "slide_type": "slide"
    }
   },
   "source": [
    "- Extremadamente robusto: a diferencia de sistemas como Hadoop, que son conocidos por ser difíciles de administrar, los clústeres de Storm simplemente funcionan.\n",
    "- Es un objetivo explícito del proyecto Storm hacer que la experiencia del usuario al administrar los clústeres de Storm sea lo menos dolorosa posible."
   ]
  },
  {
   "cell_type": "markdown",
   "id": "e479d622",
   "metadata": {
    "slideshow": {
     "slide_type": "slide"
    }
   },
   "source": [
    "- Tolerante a fallas: si hay fallas durante la ejecución de cálculos, Storm reasignará las tareas según sea necesario.\n",
    "- Storm se asegura de que un cómputo pueda ejecutarse para siempre (o hasta que éste se elimine)."
   ]
  },
  {
   "cell_type": "markdown",
   "id": "67e338e5",
   "metadata": {
    "slideshow": {
     "slide_type": "slide"
    }
   },
   "source": [
    "- Independiente del lenguaje de programación: el procesamiento en tiempo real robusto y escalable no debe limitarse a una sola plataforma.\n",
    "- Las topologías y los componentes de procesamiento de Storm se pueden definir en cualquier idioma, lo que hace que Storm sea accesible para casi cualquier persona."
   ]
  },
  {
   "cell_type": "markdown",
   "id": "f14c26e0",
   "metadata": {
    "slideshow": {
     "slide_type": "slide"
    }
   },
   "source": [
    "## Storm vs. Spark"
   ]
  },
  {
   "cell_type": "markdown",
   "id": "0f90c48b",
   "metadata": {
    "slideshow": {
     "slide_type": "slide"
    }
   },
   "source": [
    "| Situación | Spark | Storm |\n",
    "|------- | ---------------- | -------- | \t\t\t\n",
    "| Stream processing | Batch processing | Micro-batch processing |\n",
    "| Latency | Latency of a few seconds | Latency of milliseconds |\n",
    "| Multi-language support | Lesser language support | Multiple language support |\n",
    "| Languages | Java – Scala | Java – Scala – Clojure |\n",
    "| Stream sources | HDFS | Spout |\n",
    "| Resource management | Yarn, Mesos | Yarn, Mesos |\n",
    "| Provisioning | Basic using Ganglia | Apache Ambari |\n",
    "| Messaging | Netty, Akka | ZeroMQ, Netty |"
   ]
  },
  {
   "cell_type": "markdown",
   "id": "d8754350",
   "metadata": {
    "slideshow": {
     "slide_type": "slide"
    }
   },
   "source": [
    "## Apache Kafka"
   ]
  },
  {
   "cell_type": "markdown",
   "id": "061591d4",
   "metadata": {
    "slideshow": {
     "slide_type": "slide"
    }
   },
   "source": [
    "- Apache Kafka es una plataforma de transmisión de eventos distribuidos de código abierto utilizada por miles de empresas para canalizaciones de datos de alto rendimiento, análisis de streaming, integración de datos y aplicaciones de misión crítica.\n",
    "- Es un sistema de mensajería escalable que permite a los usuarios publicar y consumir grandes cantidades de mensajes en tiempo real por suscripción.\n",
    "    - Extraído de: <https://kafka.apache.org/>. "
   ]
  },
  {
   "cell_type": "markdown",
   "id": "2e85ad91",
   "metadata": {
    "slideshow": {
     "slide_type": "slide"
    }
   },
   "source": [
    "## Características de Apache Kafka"
   ]
  },
  {
   "cell_type": "markdown",
   "id": "f59b4c53",
   "metadata": {
    "slideshow": {
     "slide_type": "slide"
    }
   },
   "source": [
    "- Alto rendimiento: \n",
    "    - Entregue mensajes con un rendimiento limitado de la red utilizando un grupo de máquinas (cluster) con una latencia de tan solo 2 ms."
   ]
  },
  {
   "cell_type": "markdown",
   "id": "19da143f",
   "metadata": {
    "slideshow": {
     "slide_type": "slide"
    }
   },
   "source": [
    "- Escalable\n",
    "     - Es posible escalar clústeres de producción con hasta mil brokers, billones de mensajes por día, petabytes de datos, cientos de miles de particiones.\n",
    "     - También expandir y contraer elásticamente el almacenamiento y procesamiento."
   ]
  },
  {
   "cell_type": "markdown",
   "id": "f4ccc84e",
   "metadata": {
    "slideshow": {
     "slide_type": "slide"
    }
   },
   "source": [
    "- Almacenamiento permanente\n",
    "     - Almacene flujos de datos de forma segura en un clúster distribuido, duradero y tolerante a fallas."
   ]
  },
  {
   "cell_type": "markdown",
   "id": "e8038ca5",
   "metadata": {
    "slideshow": {
     "slide_type": "slide"
    }
   },
   "source": [
    "- Alta disponibilidad\n",
    "     - Estire los clústeres de manera eficiente sobre las zonas de disponibilidad o conecte clústeres separados en regiones geográficas."
   ]
  },
  {
   "cell_type": "markdown",
   "id": "35c0745f",
   "metadata": {
    "slideshow": {
     "slide_type": "slide"
    }
   },
   "source": [
    "- Procesamiento de flujo incorporado\n",
    "     - Procese secuencias de eventos con uniones, agregaciones, filtros, transformaciones y más, utilizando el procesamiento solo una vez con el tiempo de evento."
   ]
  },
  {
   "cell_type": "markdown",
   "id": "8122cb08",
   "metadata": {
    "slideshow": {
     "slide_type": "slide"
    }
   },
   "source": [
    "- Conéctese a casi cualquier cosa\n",
    "     - La interfaz *Connect* lista para usar de Kafka se integra con cientos de orígenes de eventos y receptores de eventos, incluidos PostgreSQL, JMS, Elasticsearch, AWS S3 y más."
   ]
  },
  {
   "cell_type": "markdown",
   "id": "39e6aceb",
   "metadata": {
    "slideshow": {
     "slide_type": "slide"
    }
   },
   "source": [
    "- Bibliotecas de clientes\n",
    "     - Posibilidad de Leer, escribir y procesar flujos de eventos en una amplia gama de lenguajes de programación."
   ]
  },
  {
   "cell_type": "markdown",
   "id": "42ce8c4f",
   "metadata": {
    "slideshow": {
     "slide_type": "slide"
    }
   },
   "source": [
    "- Herramientas de código abierto para grandes ecosistemas\n",
    "     - Gran ecosistema de herramientas de código abierto: existe una amplia gama de herramientas impulsadas por la comunidad."
   ]
  },
  {
   "cell_type": "markdown",
   "id": "16b20d2a",
   "metadata": {
    "slideshow": {
     "slide_type": "slide"
    }
   },
   "source": [
    "## Transmisión de eventos"
   ]
  },
  {
   "cell_type": "markdown",
   "id": "595e6032",
   "metadata": {
    "slideshow": {
     "slide_type": "slide"
    }
   },
   "source": [
    "- La transmisión de eventos es el equivalente digital del sistema nervioso central del cuerpo humano.\n",
    "- Es la base tecnológica para el mundo 'siempre activo' donde las empresas están cada vez más definidas por software y automatizadas, y donde el usuario de software es más software (Inteligencia Artificial)."
   ]
  },
  {
   "cell_type": "markdown",
   "id": "a5fdf85c",
   "metadata": {
    "slideshow": {
     "slide_type": "slide"
    }
   },
   "source": [
    "- Técnicamente hablando, la transmisión de eventos es la práctica de capturar datos en tiempo real de fuentes de eventos como bases de datos, sensores, dispositivos móviles, servicios en la nube y aplicaciones de software en forma de flujos de eventos; almacenar estos flujos de eventos de forma duradera para su posterior recuperación; manipular, procesar y reaccionar a los flujos de eventos en tiempo real y retrospectivamente; y enrutar los flujos de eventos a diferentes tecnologías de destino según sea necesario."
   ]
  },
  {
   "cell_type": "markdown",
   "id": "30e95ad2",
   "metadata": {
    "slideshow": {
     "slide_type": "slide"
    }
   },
   "source": [
    "- La transmisión de eventos garantiza un flujo continuo y una interpretación de los datos para que la información correcta esté en el lugar correcto, en el momento correcto. "
   ]
  },
  {
   "cell_type": "markdown",
   "id": "584ec017",
   "metadata": {
    "slideshow": {
     "slide_type": "slide"
    }
   },
   "source": [
    "- Kafka combina tres capacidades clave para que pueda implementar sus casos de uso para la transmisión de eventos de extremo a extremo con una única solución exitosamente testeada."
   ]
  },
  {
   "cell_type": "markdown",
   "id": "611ab1bf",
   "metadata": {
    "slideshow": {
     "slide_type": "fragment"
    }
   },
   "source": [
    "- Para publicar (escribir) y suscribirse a (leer) flujos de eventos, incluida la importación/exportación continua de sus datos desde otros sistemas.\n",
    "- Para almacenar secuencias de eventos de forma duradera y fiable durante el tiempo que desee.\n",
    "- Procesar flujos de eventos a medida que ocurren o retrospectivamente."
   ]
  },
  {
   "cell_type": "markdown",
   "id": "788eed78",
   "metadata": {
    "slideshow": {
     "slide_type": "slide"
    }
   },
   "source": [
    "- Toda esta funcionalidad se proporciona de forma distribuida, altamente escalable, elástica, tolerante a fallos y segura.\n",
    "- Kafka se puede implementar en hardware básico, máquinas virtuales y contenedores, tanto en las instalaciones propias como en la nube.\n",
    "- Es posible elegir entre la autogestión de los entornos Kafka y el uso de servicios totalmente gestionados ofrecidos por una variedad de proveedores."
   ]
  },
  {
   "cell_type": "markdown",
   "id": "4eb20ef5",
   "metadata": {
    "slideshow": {
     "slide_type": "slide"
    }
   },
   "source": [
    "## Procesos de Apache Kafka"
   ]
  },
  {
   "cell_type": "markdown",
   "id": "7ad08e88",
   "metadata": {
    "slideshow": {
     "slide_type": "slide"
    }
   },
   "source": [
    "- Kafka se ejecuta como un clúster de uno o más servidores que pueden abarcar varios centros de datos o regiones de la nube.\n",
    "- Algunos de estos servidores forman la capa de almacenamiento, llamados intermediarios (*brokers*). "
   ]
  },
  {
   "cell_type": "markdown",
   "id": "1b73dfe9",
   "metadata": {
    "slideshow": {
     "slide_type": "slide"
    }
   },
   "source": [
    "- Clientes: le permiten escribir aplicaciones distribuidas y microservicios que leen, escriben y procesan flujos de eventos en paralelo, a escala y con tolerancia a fallas, incluso en el caso de problemas de red o fallas de máquinas."
   ]
  },
  {
   "cell_type": "markdown",
   "id": "14b73559",
   "metadata": {
    "slideshow": {
     "slide_type": "slide"
    }
   },
   "source": [
    "- Un evento registra el hecho de que \"algo pasó\" en el mundo o en el negocio.\n",
    "- También se le llama registro o mensaje en la documentación.\n",
    "- Cuando lee o escribe datos en Kafka, lo hace en forma de eventos.\n",
    "- Conceptualmente, un evento tiene una clave, un valor, una marca de tiempo, y encabezados de metadatos opcionales."
   ]
  },
  {
   "cell_type": "markdown",
   "id": "65e29bbe",
   "metadata": {
    "slideshow": {
     "slide_type": "slide"
    }
   },
   "source": [
    "- Los productores son aquellas aplicaciones cliente que publican (escriben) eventos en Kafka, y los consumidores son los que se suscriben (leen y procesan) estos eventos."
   ]
  },
  {
   "cell_type": "markdown",
   "id": "22cd62e5",
   "metadata": {
    "slideshow": {
     "slide_type": "slide"
    }
   },
   "source": [
    "- Los eventos se organizan y almacenan de forma duradera en temas (*topics*).\n",
    "- Muy simplificado, un tema es similar a una carpeta en un sistema de archivos, y los eventos son los archivos en esa carpeta.\n",
    "- Un nombre de tema de ejemplo podría ser \"pagos\"."
   ]
  },
  {
   "cell_type": "markdown",
   "id": "143713e1",
   "metadata": {
    "slideshow": {
     "slide_type": "slide"
    }
   },
   "source": [
    "- Los temas están particionados, lo que significa que un tema se distribuye en varios \"cubos\" (*buckets*) ubicados en diferentes *brokers* de Kafka.\n",
    "- Esta ubicación distribuida de los datos es muy importante para la escalabilidad porque permite que las aplicaciones cliente lean y escriban los datos desde/hacia muchos *brokers* al mismo tiempo."
   ]
  },
  {
   "cell_type": "markdown",
   "id": "1892820e",
   "metadata": {
    "slideshow": {
     "slide_type": "slide"
    }
   },
   "source": [
    "## Tutorial Apache Kafka "
   ]
  },
  {
   "cell_type": "markdown",
   "id": "8c752be4",
   "metadata": {
    "slideshow": {
     "slide_type": "slide"
    }
   },
   "source": [
    "- Descargar e instalar Kafka en una máquina virtual\n",
    "- <https://kafka.apache.org/quickstart>."
   ]
  }
 ],
 "metadata": {
  "celltoolbar": "Slideshow",
  "kernelspec": {
   "display_name": "Python 3 (ipykernel)",
   "language": "python",
   "name": "python3"
  },
  "language_info": {
   "codemirror_mode": {
    "name": "ipython",
    "version": 3
   },
   "file_extension": ".py",
   "mimetype": "text/x-python",
   "name": "python",
   "nbconvert_exporter": "python",
   "pygments_lexer": "ipython3",
   "version": "3.8.10"
  },
  "widgets": {
   "application/vnd.jupyter.widget-state+json": {
    "state": {},
    "version_major": 2,
    "version_minor": 0
   }
  }
 },
 "nbformat": 4,
 "nbformat_minor": 5
}
