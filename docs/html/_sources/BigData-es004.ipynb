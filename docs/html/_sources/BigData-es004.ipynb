{
 "cells": [
  {
   "cell_type": "markdown",
   "id": "149cb3a8",
   "metadata": {
    "slideshow": {
     "slide_type": "slide"
    }
   },
   "source": [
    "# Big Data tema 4"
   ]
  },
  {
   "cell_type": "markdown",
   "id": "b6a4ea0b",
   "metadata": {
    "slideshow": {
     "slide_type": "slide"
    }
   },
   "source": [
    "## Formatos de archivos para Big Data"
   ]
  },
  {
   "cell_type": "markdown",
   "id": "bb5e7d12",
   "metadata": {
    "slideshow": {
     "slide_type": "slide"
    }
   },
   "source": [
    "- Beneficios de elegir un formato apropiado de archivos:\n",
    "    - Tiempos de lectura y escritura más veloces.\n",
    "    - Se pueden dividir en múltiples discos.\n",
    "    - Compatibilidad con la evolución del esquema.\n",
    "    - Soporte de compresión."
   ]
  },
  {
   "cell_type": "markdown",
   "id": "a1e99cae",
   "metadata": {
    "slideshow": {
     "slide_type": "slide"
    }
   },
   "source": [
    "- Formatos de archivos optimizados para Apache Hadoop:\n",
    "    - Apache Optimized Row Columnar (ORC) <https://orc.apache.org/>\n",
    "    - Apache Parquet (almacenamiento en columnas) <https://parquet.apache.org/documentation/latest/>\n",
    "    - Apache Avro (almacenamiento en fila) <https://avro.apache.org/>\n",
    "    - Avro es popular en sistemas de streaming con Kafka y Schema Registry gracias a su rendimiento. "
   ]
  },
  {
   "cell_type": "markdown",
   "id": "fc32c9da",
   "metadata": {
    "slideshow": {
     "slide_type": "slide"
    }
   },
   "source": [
    "- Otros formatos de archivos:\n",
    "    - JSON <https://www.json.org/json-en.html>.\n",
    "    - CSV / TSV.\n",
    "    - XML."
   ]
  },
  {
   "cell_type": "markdown",
   "id": "fcbf3cf5",
   "metadata": {
    "slideshow": {
     "slide_type": "slide"
    }
   },
   "source": [
    "## Bases de datos para Big Data"
   ]
  },
  {
   "cell_type": "markdown",
   "id": "1b477228",
   "metadata": {
    "slideshow": {
     "slide_type": "slide"
    }
   },
   "source": [
    "## Bases de datos NoSQL"
   ]
  },
  {
   "cell_type": "markdown",
   "id": "360768c8",
   "metadata": {
    "slideshow": {
     "slide_type": "slide"
    }
   },
   "source": [
    "- Las bases de datos NoSQL, (no solo SQL) o no relacionales, se utilizan mayoritariamente para la recopilación y análisis de Big Data.\n",
    "- Permiten la organización dinámica de datos no estructurados.\n",
    "- Las bases de datos relacionales, por otro lado, tienen un diseño estructurado y tabular."
   ]
  },
  {
   "cell_type": "markdown",
   "id": "89d6425b",
   "metadata": {
    "slideshow": {
     "slide_type": "slide"
    }
   },
   "source": [
    "- Bases de datos basadas en columnas están optimizadas para los trabajos analíticos intensivos de lectura.\n",
    "    - *Online Analytical Processing (OLAP)*\n",
    "- Bases de datos basadas en filas son mejores para trabajos intensivos de escritura transaccional.\n",
    "    - *Online Transactional Processing (OLTP)*"
   ]
  },
  {
   "cell_type": "markdown",
   "id": "3c851634",
   "metadata": {
    "slideshow": {
     "slide_type": "slide"
    }
   },
   "source": [
    "- Existen diversos tipos de bases de datos No SQL:\n",
    "    - Bases de datos de documentos (MongoDB, Couch DB)\n",
    "    - Pares de valores (Amazon DynamoDB, Redis)\n",
    "    - Columnares (Apache Cassandra, Apache HBase)\n",
    "    - Gráficas (Neo4j, Stardog)"
   ]
  },
  {
   "cell_type": "markdown",
   "id": "cfb7cfb5",
   "metadata": {
    "slideshow": {
     "slide_type": "slide"
    }
   },
   "source": [
    "## Bases de datos de documentos"
   ]
  },
  {
   "cell_type": "markdown",
   "id": "bd19e787",
   "metadata": {
    "slideshow": {
     "slide_type": "slide"
    }
   },
   "source": [
    "## MongoDB"
   ]
  },
  {
   "cell_type": "markdown",
   "id": "fe888dd6",
   "metadata": {
    "slideshow": {
     "slide_type": "slide"
    }
   },
   "source": [
    "- Las bases de datos NoSQL, (no solo SQL) o no relacionales, se utilizan mayoritariamente para la recopilación y análisis de big data.\n",
    "- Permiten la organización dinámica de datos no estructurados.\n",
    "- Las bases de datos relacionales, por otro lado, tienen un diseño estructurado y tabular."
   ]
  },
  {
   "cell_type": "markdown",
   "id": "3f4340b2",
   "metadata": {
    "slideshow": {
     "slide_type": "slide"
    }
   },
   "source": [
    "- MongoDB es una base de datos distribuida de propósito general y basada en documentos.\n",
    "- Fue creada para el desarrollo de aplicaciones modernas y para la era de la nube.\n",
    "- Es una base de datos de documentos, lo que significa que almacena datos en documentos similares a JSON. \n",
    "    - Fuente: <https://www.mongodb.com/>"
   ]
  },
  {
   "cell_type": "markdown",
   "id": "b3b6cf3f",
   "metadata": {
    "slideshow": {
     "slide_type": "slide"
    }
   },
   "source": [
    "## Versiones de MongoDB"
   ]
  },
  {
   "cell_type": "markdown",
   "id": "8db6d888",
   "metadata": {
    "slideshow": {
     "slide_type": "slide"
    }
   },
   "source": [
    "- MongoDB Community es la fuente disponible y la edición de uso gratuito de MongoDB.\n",
    "- MongoDB Enterprise está disponible como parte de la suscripción MongoDB Enterprise Advanced e incluye soporte integral para su implementación de MongoDB.\n",
    "- MongoDB Enterprise también agrega funciones centradas en la empresa, como compatibilidad con LDAP y Kerberos, cifrado en disco y auditoría."
   ]
  },
  {
   "cell_type": "markdown",
   "id": "2799373e",
   "metadata": {
    "slideshow": {
     "slide_type": "slide"
    }
   },
   "source": [
    "- MongoDB también ofrece Atlas, una opción de servicio alojado de MongoDB Enterprise en la nube que no requiere gastos generales de instalación y ofrece un nivel gratuito para comenzar.\n",
    "- <https://www.mongodb.com/cloud/atlas/signup>"
   ]
  },
  {
   "cell_type": "markdown",
   "id": "abc3061f",
   "metadata": {
    "slideshow": {
     "slide_type": "slide"
    }
   },
   "source": [
    "## Características de MongoDB"
   ]
  },
  {
   "cell_type": "markdown",
   "id": "ec0269d7",
   "metadata": {
    "slideshow": {
     "slide_type": "slide"
    }
   },
   "source": [
    "- Un registro en MongoDB es un documento, que es una estructura de datos compuesta por pares de campo y valor.\n",
    "- Los documentos MongoDB son similares a los objetos JSON.\n",
    "- Los valores de los campos pueden incluir otros documentos, matrices y matrices de documentos.\n",
    "    - Extraído de: MongoDB Documentation & website: <https://docs.mongodb.com/> "
   ]
  },
  {
   "cell_type": "markdown",
   "id": "072b74b8",
   "metadata": {
    "slideshow": {
     "slide_type": "slide"
    }
   },
   "source": [
    "- Las ventajas de utilizar documentos son:\n",
    "     - Los documentos (es decir, los objetos) corresponden a tipos de datos nativos en muchos lenguajes de programación.\n",
    "     - Los documentos y matrices integrados reducen la necesidad de uniones costosas.\n",
    "     - El esquema dinámico admite polimorfismo fluido."
   ]
  },
  {
   "cell_type": "markdown",
   "id": "a6c3fe16",
   "metadata": {
    "slideshow": {
     "slide_type": "slide"
    }
   },
   "source": [
    "- MongoDB almacena documentos en colecciones.\n",
    "- Las colecciones son análogas a las tablas en las bases de datos relacionales."
   ]
  },
  {
   "cell_type": "markdown",
   "id": "8cfd3258",
   "metadata": {
    "slideshow": {
     "slide_type": "slide"
    }
   },
   "source": [
    "- Además de las colecciones, MongoDB admite:\n",
    "     - Vistas de solo lectura (a partir de MongoDB 3.4).\n",
    "     - Vistas materializadas bajo demanda (a partir de MongoDB 4.2)."
   ]
  },
  {
   "cell_type": "markdown",
   "id": "cfbada30",
   "metadata": {
    "slideshow": {
     "slide_type": "slide"
    }
   },
   "source": [
    "## Principales funcionalidades"
   ]
  },
  {
   "cell_type": "markdown",
   "id": "ba77a0fa",
   "metadata": {
    "slideshow": {
     "slide_type": "slide"
    }
   },
   "source": [
    "- Alto rendimiento\n",
    "     - MongoDB proporciona persistencia de datos de alto rendimiento.\n",
    "     - La compatibilidad con modelos de datos integrados reduce la actividad de E/S en el sistema de base de datos.\n",
    "     - Los índices admiten consultas más rápidas y pueden incluir claves de documentos incrustados y matrices."
   ]
  },
  {
   "cell_type": "markdown",
   "id": "759636e6",
   "metadata": {
    "slideshow": {
     "slide_type": "slide"
    }
   },
   "source": [
    "- Lenguaje de consulta enriquecido\n",
    "     - MongoDB admite un lenguaje de consulta enriquecido para admitir operaciones de lectura y escritura (CRUD), así como:\n",
    "         - Agregación de datos.\n",
    "         - Búsqueda de Texto y Consultas Geoespaciales."
   ]
  },
  {
   "cell_type": "markdown",
   "id": "786e3754",
   "metadata": {
    "slideshow": {
     "slide_type": "slide"
    }
   },
   "source": [
    "- Alta disponibilidad\n",
    "     - La función de replicación de MongoDB, denominada conjunto de réplicas (*replica set*), proporciona:\n",
    "         - Conmutación por error automática.\n",
    "         - Redundancia de datos. "
   ]
  },
  {
   "cell_type": "markdown",
   "id": "60b85ea0",
   "metadata": {
    "slideshow": {
     "slide_type": "slide"
    }
   },
   "source": [
    "- Escalabilidad Horizontal\n",
    "     - MongoDB proporciona escalabilidad horizontal como parte de su funcionalidad principal:\n",
    "         - La fragmentación (*sharding*) distribuye datos a través de un grupo de máquinas.\n",
    "         - A partir de 3.4, MongoDB admite la creación de zonas de datos basadas en la clave del fragmento (*shard*).\n",
    "         - En un clúster equilibrado, MongoDB dirige las lecturas y escrituras de una zona solo a los fragmentos dentro de la zona."
   ]
  },
  {
   "cell_type": "markdown",
   "id": "5930acad",
   "metadata": {
    "slideshow": {
     "slide_type": "slide"
    }
   },
   "source": [
    "- Soporte para Múltiples Motores de Almacenamiento\n",
    "     - MongoDB admite múltiples motores de almacenamiento:\n",
    "         - Motor de almacenamiento *WiredTiger* (incluida la compatibilidad con el cifrado en reposo).\n",
    "         - Motor de almacenamiento en memoria.\n",
    "         - Además, MongoDB proporciona una API de motor de almacenamiento conectable que permite a terceros desarrollar motores de almacenamiento para MongoDB."
   ]
  },
  {
   "cell_type": "markdown",
   "id": "fe44ded7",
   "metadata": {
    "slideshow": {
     "slide_type": "slide"
    }
   },
   "source": [
    "## Tutorial MongoDB"
   ]
  },
  {
   "cell_type": "markdown",
   "id": "d7e16af7",
   "metadata": {
    "slideshow": {
     "slide_type": "slide"
    }
   },
   "source": [
    "- Crear una cuenta gratuita en:\n",
    "    - MongoDB Atlas: <https://account.mongodb.com/account/login?>.\n",
    "    - <https://docs.atlas.mongodb.com/tutorial/deploy-free-tier-cluster/>."
   ]
  },
  {
   "cell_type": "markdown",
   "id": "39d1dfff",
   "metadata": {
    "slideshow": {
     "slide_type": "slide"
    }
   },
   "source": [
    "## Bases de datos con pares de valores"
   ]
  },
  {
   "cell_type": "markdown",
   "id": "d8754350",
   "metadata": {
    "slideshow": {
     "slide_type": "slide"
    }
   },
   "source": [
    "## Redis"
   ]
  },
  {
   "cell_type": "markdown",
   "id": "061591d4",
   "metadata": {
    "slideshow": {
     "slide_type": "slide"
    }
   },
   "source": [
    "- Redis es un almacén de estructura de datos en memoria (*in-memory data structure store*) de código abierto (con licencia BSD), que se utiliza como base de datos, caché y agente de mensajes. \n",
    "    - Fuente: <https://redislabs.com/>."
   ]
  },
  {
   "cell_type": "markdown",
   "id": "f59b4c53",
   "metadata": {
    "slideshow": {
     "slide_type": "slide"
    }
   },
   "source": [
    "- Su estructura de datos soporta:\n",
    "- Cadenas, hashes, listas, conjuntos, conjuntos ordenados con consultas de rango, mapas de bits, hiperloglogs, índices geoespaciales con consultas de radio y flujos."
   ]
  },
  {
   "cell_type": "markdown",
   "id": "19da143f",
   "metadata": {
    "slideshow": {
     "slide_type": "slide"
    }
   },
   "source": [
    "- Tiene replicación integrada, secuencias de comandos Lua, LRU eviction, transacciones y diferentes niveles de persistencia en disco.\n",
    "- Proporciona alta disponibilidad a través de Redis Sentinel.\n",
    "- Particionamiento automático con Redis Cluster."
   ]
  },
  {
   "cell_type": "markdown",
   "id": "f4ccc84e",
   "metadata": {
    "slideshow": {
     "slide_type": "slide"
    }
   },
   "source": [
    "- Redis Enterprise:\n",
    "- Es una sólida plataforma de base de datos en memoria creada por las mismas personas que desarrollan Redis de código abierto.\n",
    "    - Fuente: <https://redislabs.com/redis-enterprise-software/overview/>."
   ]
  },
  {
   "cell_type": "markdown",
   "id": "35c0745f",
   "metadata": {
    "slideshow": {
     "slide_type": "slide"
    }
   },
   "source": [
    "- Agrega muchas capacidades de nivel empresarial, que incluyen:\n",
    "     - Escalado lineal a cientos de millones de operaciones por segundo.\n",
    "     - Distribución global Activo-Activo con latencia local.\n",
    "     - Redis en Flash para admitir grandes conjuntos de datos y minimizar los costos de infraestructura.\n",
    "     - 99,999% de tiempo de actividad."
   ]
  },
  {
   "cell_type": "markdown",
   "id": "8122cb08",
   "metadata": {
    "slideshow": {
     "slide_type": "slide"
    }
   },
   "source": [
    "- Redis Enterprise está disponible como software y como servicio de nube alojado.\n",
    "- Se puede ejecutar Redis Enterprise Software (RS) en un centro de datos local o en plataformas de nube.\n",
    "- RS también funciona con varios sistemas de orquestación de contenedores, como Kubernetes.\n",
    "- Para desarrollo y pruebas, también se puede ejecutar RS usando contenedores Docker. "
   ]
  },
  {
   "cell_type": "markdown",
   "id": "39e6aceb",
   "metadata": {
    "slideshow": {
     "slide_type": "slide"
    }
   },
   "source": [
    "- Redis Enterprise Software facilita la ejecución de Redis a escala.\n",
    "- Se puede usar un único clúster empresarial de Redis para aprovisionar tantas bases de datos de Redis como se necesitan, y cada una de estas bases de datos se puede ajustar y escalar de forma independiente.\n",
    "- Además, Redis Enterprise admite muchas funciones de seguridad empresarial, incluido el control de acceso basado en funciones."
   ]
  },
  {
   "cell_type": "markdown",
   "id": "288a575f",
   "metadata": {
    "slideshow": {
     "slide_type": "slide"
    }
   },
   "source": [
    "## Arquitectura de Redis "
   ]
  },
  {
   "cell_type": "markdown",
   "id": "c15821ce",
   "metadata": {
    "slideshow": {
     "slide_type": "slide"
    }
   },
   "source": [
    "- Bases de datos Redis replicadas Activo-Activo (CRDB).\n",
    "- Proporciona replicación de base de datos global y distribuida geográficamente con escrituras locales sin conflictos.\n",
    "- Esto simplifica enormemente el desarrollo de aplicaciones distribuidas globalmente.\n",
    "- Las bases de datos activas-activas distribuidas geográficamente combinan tipos de datos replicados sin conflictos con tipos de datos Redis para proporcionar una resolución automática de conflictos basada en la semántica de cada tipo de datos."
   ]
  },
  {
   "cell_type": "markdown",
   "id": "0892dcde",
   "metadata": {
    "slideshow": {
     "slide_type": "slide"
    }
   },
   "source": [
    "- Redis en flash:\n",
    "- Ayuda a ahorrar costes para bases de datos Redis extra grandes.\n",
    "- Las bases de datos Redis estándar mantienen todos sus datos en RAM\n",
    "- Las DB Redis on Flash (RoF) distribuyen datos a través de RAM y memoria flash dedicada (SSD).\n",
    "- Esto reduce los costes y mantiene un rendimiento similar al de las DB completamente basadas en RAM.\n",
    "    - Fuente: <https://redislabs.com/redis-enterprise/technology/redis-on-flash/>."
   ]
  },
  {
   "cell_type": "markdown",
   "id": "370bc649",
   "metadata": {
    "slideshow": {
     "slide_type": "slide"
    }
   },
   "source": [
    "- Con RS, un conjunto de datos puede crecer más allá del tamaño del nodo más grande del clúster y ser procesado por cualquier cantidad de núcleos.\n",
    "- Al particionar el conjunto de datos en varios nodos mediante una política de fragmentación, RS supera las limitaciones de memoria de un solo nodo y las limitaciones de rendimiento de un solo núcleo.\n",
    "- Se puede escalar dinámicamente las bases de datos de Redis aumentando los límites de memoria o aumentando la cantidad de fragmentos, todo usando la interfaz de usuario integrada."
   ]
  },
  {
   "cell_type": "markdown",
   "id": "9dffbb96",
   "metadata": {
    "slideshow": {
     "slide_type": "slide"
    }
   },
   "source": [
    "- Además de replicar una base de datos dentro del mismo centro de datos, también se puede replicar un conjunto de datos entre centros de datos y entre regiones.\n",
    "- Esto proporciona alta disponibilidad, recuperación ante desastres y mejoras de rendimiento para aplicaciones distribuidas globalmente."
   ]
  },
  {
   "cell_type": "markdown",
   "id": "611ab1bf",
   "metadata": {
    "slideshow": {
     "slide_type": "slide"
    }
   },
   "source": [
    "- Si un nodo falla, los datos se entregan sin problemas desde un nodo de reemplazo en el clúster sin intervención humana.\n",
    "- Redis Enterprise puede manejar automáticamente fallas de nodos, fallas de procesos de Redis y fallas de proxy.\n",
    "- La conmutación por error generalmente se completa en unos pocos segundos."
   ]
  },
  {
   "cell_type": "markdown",
   "id": "788eed78",
   "metadata": {
    "slideshow": {
     "slide_type": "slide"
    }
   },
   "source": [
    "- RS permite el uso de Redis AOF (*Append-Only File*) cada segundo o en cada escritura, o instantáneas (RDB) del conjunto de datos cada 1, 6 o 12 horas para almacenamiento persistente.\n",
    "- Además, se puede hacer una copia de seguridad del conjunto de datos periódicamente o bajo demanda en un servidor FTP, almacenamiento en red o servicio de almacenamiento en la nube."
   ]
  },
  {
   "cell_type": "markdown",
   "id": "7ad08e88",
   "metadata": {
    "slideshow": {
     "slide_type": "slide"
    }
   },
   "source": [
    "- Las solicitudes son procesadas por múltiples núcleos para garantizar el mejor rendimiento.\n",
    "- Se pueden ejecutar varias bases de datos en un único clúster empresarial de Redis.\n",
    "- Cada base de datos se ejecuta con sus propios procesos dedicados sin bloqueo."
   ]
  },
  {
   "cell_type": "markdown",
   "id": "1b73dfe9",
   "metadata": {
    "slideshow": {
     "slide_type": "slide"
    }
   },
   "source": [
    "- Un clúster de Redis Enterprise se compone de nodos idénticos que se implementan dentro de un centro de datos o se extienden a través de zonas de disponibilidad local.\n",
    "- La arquitectura de Redis Enterprise se compone de una ruta de administración y una ruta de acceso a los datos."
   ]
  },
  {
   "cell_type": "markdown",
   "id": "14b73559",
   "metadata": {
    "slideshow": {
     "slide_type": "slide"
    }
   },
   "source": [
    "- La ruta de administración incluye el administrador de clústeres, el proxy y la interfaz de usuario/API REST segura para la administración programática.\n",
    "- En resumen, el administrador de clústeres es responsable de orquestar el clúster, colocar fragmentos de bases de datos y detectar y mitigar fallas.\n",
    "- El proxy por otro lado ayuda a escalar la gestión de conexiones."
   ]
  },
  {
   "cell_type": "markdown",
   "id": "65e29bbe",
   "metadata": {
    "slideshow": {
     "slide_type": "slide"
    }
   },
   "source": [
    "- La ruta de acceso a datos se compone de fragmentos (*shards*) de Redis maestros y esclavos.\n",
    "- Los clientes realizan operaciones de datos en el fragmento maestro.\n",
    "- Los fragmentos maestros mantienen fragmentos esclavos mediante la replicación en memoria para la protección contra fallas que pueden hacer que el fragmento maestro sea inaccesible."
   ]
  },
  {
   "cell_type": "markdown",
   "id": "22cd62e5",
   "metadata": {
    "slideshow": {
     "slide_type": "slide"
    }
   },
   "source": [
    "- Redis Enterprise utiliza la replicación en memoria para mantener réplicas maestras y esclavas.\n",
    "- Viene con varios *watchdogs* que detectan y protegen contra varios tipos de fallas.\n",
    "- En las fallas en nodo, red, y fallas de proceso que hacen que la réplica maestra sea inaccesible; promueve automáticamente la réplica esclava para que sea una réplica maestra y redirige la conexión del cliente de forma transparente a la nueva réplica maestra."
   ]
  },
  {
   "cell_type": "markdown",
   "id": "143713e1",
   "metadata": {
    "slideshow": {
     "slide_type": "slide"
    }
   },
   "source": [
    "- Además de la replicación dentro del clúster, Redis Enterprise también tiene una replicación basada en WAN integrada para implementaciones de Redis en varios centros de datos.\n",
    "- Los mecanismos de replicación basados en WAN en Redis Enterprise están diseñados para proteger contra fallas totales del centro de datos o de redes más amplias."
   ]
  },
  {
   "cell_type": "markdown",
   "id": "78cabec2",
   "metadata": {
    "slideshow": {
     "slide_type": "slide"
    }
   },
   "source": [
    "- Cada clúster de Redis Enterprise puede contener varias bases de datos.\n",
    "- En Redis, las bases de datos representan datos que pertenecen a una sola aplicación, inquilino (*tenant*) o microservicio.\n",
    "- Redis Enterprise está diseñado para escalar a cientos de bases de datos por clúster para proporcionar modelos de tenencia múltiple flexibles y eficientes."
   ]
  },
  {
   "cell_type": "markdown",
   "id": "3833c8b6",
   "metadata": {
    "slideshow": {
     "slide_type": "slide"
    }
   },
   "source": [
    "- Cada base de datos puede contener pocos o muchos fragmentos (*shards*) de Redis.\n",
    "- La fragmentación es transparente para las aplicaciones de Redis.\n",
    "- Shards maestros en las base de datos procesan operaciones de datos para un subconjunto dado de claves.\n",
    "- La cantidad de shards por base de datos es configurable y depende de las necesidades de rendimiento de las aplicaciones."
   ]
  },
  {
   "cell_type": "markdown",
   "id": "7299983b",
   "metadata": {
    "slideshow": {
     "slide_type": "slide"
    }
   },
   "source": [
    "- Las bases de datos en Redis Enterprise se pueden volver a dividir en más fragmentos de Redis para escalar el rendimiento mientras se mantienen latencias de menos de un milisegundo.\n",
    "- La fragmentación se realiza sin tiempo de inactividad."
   ]
  },
  {
   "cell_type": "markdown",
   "id": "756d067b",
   "metadata": {
    "slideshow": {
     "slide_type": "slide"
    }
   },
   "source": [
    "- En Redis Enterprise, cada base de datos tiene una cuota de RAM.\n",
    "- La cuota no puede exceder los límites de la RAM disponible en el nodo.\n",
    "- Sin embargo, con Redis Enterprise Flash, la memoria RAM se extiende a la unidad flash local (SATA, SSD NVMe, etc.)."
   ]
  },
  {
   "cell_type": "markdown",
   "id": "41d3f045",
   "metadata": {
    "slideshow": {
     "slide_type": "slide"
    }
   },
   "source": [
    "- La cuota total de la base de datos puede aprovechar tanto la memoria RAM como la unidad flash.\n",
    "- El administrador puede elegir la relación RAM vs Flash y ajustarla en cualquier momento durante la vida útil de la base de datos sin tiempo de inactividad."
   ]
  },
  {
   "cell_type": "markdown",
   "id": "01001816",
   "metadata": {
    "slideshow": {
     "slide_type": "slide"
    }
   },
   "source": [
    "- Con Redis en Flash, en lugar de almacenar todas las claves y datos para un fragmento determinado en la RAM,  se envían a flash los valores a los que se accede con menos frecuencia.\n",
    "- Si las aplicaciones necesitan acceder a un valor que está en flash, Redis Enterprise trae automáticamente el valor a la RAM."
   ]
  },
  {
   "cell_type": "markdown",
   "id": "6635a6c7",
   "metadata": {
    "slideshow": {
     "slide_type": "slide"
    }
   },
   "source": [
    "- Dependiendo del hardware flash en uso, las aplicaciones experimentan una latencia ligeramente más alta al devolver valores a la RAM desde flash.\n",
    "- Sin embargo, los accesos posteriores al mismo valor son rápidos, una vez que el valor está en la RAM."
   ]
  },
  {
   "cell_type": "markdown",
   "id": "4d25c3bb",
   "metadata": {
    "slideshow": {
     "slide_type": "slide"
    }
   },
   "source": [
    "- Redis Enterprise tiene dos opciones de durabilidad:\n",
    "     - Durabilidad basada en disco.\n",
    "     - Durabilidad basada en replicación."
   ]
  },
  {
   "cell_type": "markdown",
   "id": "786fecb5",
   "metadata": {
    "slideshow": {
     "slide_type": "slide"
    }
   },
   "source": [
    "- Durabilidad basada en disco:\n",
    "     - Redis Enterprise aún mantiene una copia duradera en el disco.\n",
    "     - Al igual que los sistemas basados en disco, esta ruta de E/S se coloca en un dispositivo de almacenamiento conectado a la red más lento y duradero.\n",
    "     - Las bases de datos de Redis brindan opciones ajustables para mantener esta copia duradera y mantenerla actualizada con escrituras periódicas frecuentes hasta cada operación de escritura."
   ]
  },
  {
   "cell_type": "markdown",
   "id": "1f89507b",
   "metadata": {
    "slideshow": {
     "slide_type": "slide"
    }
   },
   "source": [
    "- Durabilidad basada en replicación:\n",
    "     - Redis Enterprise también mantiene una réplica, un fragmento esclavo, para mayor durabilidad.\n",
    "     - Esta durabilidad replicada protege contra fallas de nodo, rack o de zona.\n",
    "     - La durabilidad replicada proporciona un mejor rendimiento de escritura sobre las escrituras de almacenamiento conectado a la red."
   ]
  },
  {
   "cell_type": "markdown",
   "id": "486d0928",
   "metadata": {
    "slideshow": {
     "slide_type": "slide"
    }
   },
   "source": [
    "- Esto significa que bajo una interrupción no planificada, es más probable que la réplica esté más actualizada en comparación con la copia duradera en el disco.\n",
    "- Para aprovechar al máximo la durabilidad replicada, Redis proporciona el comando WAIT."
   ]
  },
  {
   "cell_type": "markdown",
   "id": "d9f31af1",
   "metadata": {
    "slideshow": {
     "slide_type": "slide"
    }
   },
   "source": [
    "- WAIT se asegura de que una escritura pueda esperar el reconocimiento hasta que varias réplicas confirmen esa escritura.\n",
    "- Esto garantiza que una escritura confirmada con WAIT en las réplicas sea duradera incluso si un nodo se incendia y nunca más vuelve al clúster."
   ]
  },
  {
   "cell_type": "markdown",
   "id": "5af03b23",
   "metadata": {
    "slideshow": {
     "slide_type": "slide"
    }
   },
   "source": [
    "## Tutorial Redis"
   ]
  },
  {
   "cell_type": "markdown",
   "id": "69baf8a0",
   "metadata": {
    "slideshow": {
     "slide_type": "slide"
    }
   },
   "source": [
    "- Free plan 30MB: <https://redis.com/redis-enterprise-cloud/pricing/>.\n",
    "- Free plan 5MB: <https://redistogo.com/>.\n",
    "- Tutorial: <https://try.redis.io/>."
   ]
  },
  {
   "cell_type": "markdown",
   "id": "8250940f",
   "metadata": {
    "slideshow": {
     "slide_type": "slide"
    }
   },
   "source": [
    "## Bases de datos columnares"
   ]
  },
  {
   "cell_type": "markdown",
   "id": "ac4f7d95",
   "metadata": {
    "slideshow": {
     "slide_type": "slide"
    }
   },
   "source": [
    "## Apache Cassandra"
   ]
  },
  {
   "cell_type": "markdown",
   "id": "912fd895",
   "metadata": {
    "slideshow": {
     "slide_type": "slide"
    }
   },
   "source": [
    "- Apache Cassandra es una base de datos distribuida NoSQL de código abierto.\n",
    "- La escalabilidad lineal y la tolerancia a fallas comprobada en hardware básico o infraestructura en la nube la convierten en la plataforma perfecta para datos de misión crítica.\n",
    "    - Extraído de: <https://cassandra.apache.org/_/index.html>."
   ]
  },
  {
   "cell_type": "markdown",
   "id": "93dd9074",
   "metadata": {
    "slideshow": {
     "slide_type": "slide"
    }
   },
   "source": [
    "- Híbrida\n",
    "- La arquitectura sin servidor maestro y la baja latencia significan que Cassandra resistirá una interrupción completa del centro de datos sin pérdida de datos, en nubes públicas o privadas, o en las instalaciones."
   ]
  },
  {
   "cell_type": "markdown",
   "id": "01e8a311",
   "metadata": {
    "slideshow": {
     "slide_type": "slide"
    }
   },
   "source": [
    "- Tolerante a fallos\n",
    "- El soporte de Cassandra para la replicación en varios centros de datos es el mejor de su clase, lo que proporciona una latencia más baja para sus usuarios y la tranquilidad de saber que puede sobrevivir a las interrupciones regionales.\n",
    "- Los nodos con fallas se pueden reemplazar sin tiempo de inactividad."
   ]
  },
  {
   "cell_type": "markdown",
   "id": "b35cbc77",
   "metadata": {
    "slideshow": {
     "slide_type": "slide"
    }
   },
   "source": [
    "- Centrada en la calidad\n",
    "- Para garantizar la confiabilidad y la estabilidad, Cassandra se prueba en clústeres de hasta 1,000 nodos y con cientos de casos de uso y esquemas del mundo real probados con pruebas de reproducción, fuzz, basadas en propiedades, inyección de fallas y de rendimiento."
   ]
  },
  {
   "cell_type": "markdown",
   "id": "37e54800",
   "metadata": {
    "slideshow": {
     "slide_type": "slide"
    }
   },
   "source": [
    "- Desempeño\n",
    "- Cassandra supera sistemáticamente a las populares alternativas de NoSQL en pruebas comparativas y aplicaciones reales, principalmente debido a las elecciones de arquitectura tomadas.\n",
    "- <https://vldb.org/pvldb/vol5/p1724_tilmannrabl_vldb2012.pdf>.\n"
   ]
  },
  {
   "cell_type": "markdown",
   "id": "4e46b93c",
   "metadata": {
    "slideshow": {
     "slide_type": "slide"
    }
   },
   "source": [
    "- Cassandra transmite datos entre nodos durante las operaciones de escalado, como agregar un nuevo nodo o centro de datos durante las horas pico de tráfico.\n",
    "- Zero Copy Streaming lo hace hasta 5 veces más rápido sin *vnodes* para una arquitectura más elástica, especialmente en entornos de nube y Kubernetes."
   ]
  },
  {
   "cell_type": "markdown",
   "id": "e961b6a8",
   "metadata": {
    "slideshow": {
     "slide_type": "slide"
    }
   },
   "source": [
    "- Distribuida\n",
    "- Cassandra es adecuada para aplicaciones que no pueden darse el lujo de perder datos, incluso cuando un centro de datos completo deja de funcionar.\n",
    "- No hay puntos únicos de falla. No hay cuellos de botella en la red. Todos los nodos del clúster son idénticos."
   ]
  },
  {
   "cell_type": "markdown",
   "id": "9b69ce6c",
   "metadata": {
    "slideshow": {
     "slide_type": "slide"
    }
   },
   "source": [
    "- Opciones\n",
    "- Se puede elegir entre replicación síncrona o asíncrona para cada actualización. Las operaciones asincrónicas de alta disponibilidad se optimizan con funciones como *Hinted Handoff* y *Read Repair*.\n",
    "- La función de registro de auditoría para operadores rastrea la actividad DML, DDL y DCL con un impacto mínimo en el rendimiento normal de la carga de trabajo, mientras que *fqltool* permite la captura y reproducción de cargas de trabajo de producción para su análisis."
   ]
  },
  {
   "cell_type": "markdown",
   "id": "acbf2c03",
   "metadata": {
    "slideshow": {
     "slide_type": "slide"
    }
   },
   "source": [
    "## Tutorial Cassandra "
   ]
  },
  {
   "cell_type": "markdown",
   "id": "d3d99b50",
   "metadata": {
    "slideshow": {
     "slide_type": "slide"
    }
   },
   "source": [
    "- Se utilizará una imagen de Docker con Cassandra para realizar el tutorial\n",
    "- <https://cassandra.apache.org/_/quickstart.html>"
   ]
  },
  {
   "cell_type": "markdown",
   "id": "eb840625",
   "metadata": {
    "slideshow": {
     "slide_type": "slide"
    }
   },
   "source": [
    "## Apache HBase"
   ]
  },
  {
   "cell_type": "markdown",
   "id": "12baac03",
   "metadata": {
    "slideshow": {
     "slide_type": "slide"
    }
   },
   "source": [
    "- Es una base de datos distribuida no relacional open source modelada en base al artículo científico Google's Bigtable: A Distributed Storage System for Structured Data de Chang et al."
   ]
  },
  {
   "cell_type": "markdown",
   "id": "4cce228b",
   "metadata": {
    "slideshow": {
     "slide_type": "fragment"
    }
   },
   "source": [
    "- Así como Bigtable aprovecha el almacenamiento de datos distribuido proporcionado por el sistema de archivos de Google, Apache HBase proporciona capacidades similares a las de Bigtable junto con Hadoop y HDFS."
   ]
  },
  {
   "cell_type": "markdown",
   "id": "35821661",
   "metadata": {
    "slideshow": {
     "slide_type": "fragment"
    }
   },
   "source": [
    "- Extraído de: Apache HBase Docs & website: <https://hbase.apache.com/>. "
   ]
  },
  {
   "cell_type": "markdown",
   "id": "da749aa7",
   "metadata": {
    "slideshow": {
     "slide_type": "slide"
    }
   },
   "source": [
    "- Se utiliza Apache HBase cuando se necesita acceso de lectura/escritura aleatorio y en tiempo real a Big Data.\n",
    "- El objetivo de HBase es el alojamiento de tablas muy grandes:\n",
    "     - Miles de millones de filas por millones de columnas.\n",
    "     - Utilizando clusters con hardware de bajo coste."
   ]
  },
  {
   "cell_type": "markdown",
   "id": "3406c42c",
   "metadata": {
    "slideshow": {
     "slide_type": "slide"
    }
   },
   "source": [
    "- BerkeleyDB es un ejemplo de una base de datos NoSQL local, mientras que HBase es en gran medida una base de datos distribuida.\n",
    "- Técnicamente hablando, HBase es más un \"almacén de datos\" que una \"base de datos\" porque carece de muchas de las funciones que se encuentran en un RDBMS, como columnas escritas, índices secundarios, activadores y lenguajes de consulta avanzados, etc."
   ]
  },
  {
   "cell_type": "markdown",
   "id": "50bbc8e2",
   "metadata": {
    "slideshow": {
     "slide_type": "slide"
    }
   },
   "source": [
    "- HBase tiene muchas características que admiten escalado tanto lineal como modular.\n",
    "- Los clústeres de HBase se expanden agregando *Region Servers* que están alojados en servidores con hardware de bajo coste.\n",
    "- Si un clúster se expande de 10 a 20 *Region Servers*, por ejemplo, se duplica tanto en términos de almacenamiento como de capacidad de procesamiento."
   ]
  },
  {
   "cell_type": "markdown",
   "id": "c74ed008",
   "metadata": {
    "slideshow": {
     "slide_type": "slide"
    }
   },
   "source": [
    "## Características de HBase "
   ]
  },
  {
   "cell_type": "markdown",
   "id": "8cffdaa7",
   "metadata": {
    "slideshow": {
     "slide_type": "slide"
    }
   },
   "source": [
    "- Lecturas/escrituras consistentes: HBase no es un DataStore \"eventualmente consistente\". Esto lo hace muy adecuado para tareas como la agregación de contadores de alta velocidad.\n",
    "- Fragmentación automática: las tablas de HBase se distribuyen en el clúster a través de regiones, y las regiones se dividen y redistribuyen automáticamente a medida que aumentan los datos."
   ]
  },
  {
   "cell_type": "markdown",
   "id": "55cfee43",
   "metadata": {
    "slideshow": {
     "slide_type": "slide"
    }
   },
   "source": [
    "- Conmutación por error automática de *Region Server*\n",
    "- Integración de Hadoop/HDFS: HBase es compatible con HDFS de fábrica como su sistema de archivos distribuido.\n",
    "- MapReduce: HBase admite procesamiento en paralelo masivo a través de MapReduce para usar HBase como fuente y receptor."
   ]
  },
  {
   "cell_type": "markdown",
   "id": "c36c3a06",
   "metadata": {
    "slideshow": {
     "slide_type": "slide"
    }
   },
   "source": [
    "- API de cliente de Java: HBase admite una API de Java fácil de usar para el acceso programático.\n",
    "- API Thrift/REST: HBase también es compatible con Thrift y REST para front-ends que no son de Java.\n",
    "- Block Cache y Bloom Filters: HBase admite *Block Cache* y *Bloom Filters* para la optimización de consultas de gran volumen.\n",
    "- Gestión operativa: HBase proporciona páginas web integradas para obtener información operativa y métricas JMX."
   ]
  },
  {
   "cell_type": "markdown",
   "id": "ef09f84a",
   "metadata": {
    "slideshow": {
     "slide_type": "slide"
    }
   },
   "source": [
    "- HBase, se basa en HDFS y proporciona búsquedas rápidas de registros (y actualizaciones) para tablas grandes.\n",
    "- Esto a veces puede ser un punto de confusión conceptual.\n",
    "- HBase coloca internamente sus datos en \"StoreFiles\" indexados que existen en HDFS para búsquedas de alta velocidad."
   ]
  },
  {
   "cell_type": "markdown",
   "id": "adbedc5d",
   "metadata": {
    "slideshow": {
     "slide_type": "slide"
    }
   },
   "source": [
    "## Usos de Apache HBase"
   ]
  },
  {
   "cell_type": "markdown",
   "id": "46068d13",
   "metadata": {
    "slideshow": {
     "slide_type": "slide"
    }
   },
   "source": [
    "- HDFS es un sistema de archivos distribuido muy adecuado para el almacenamiento de archivos de gran tamaño.\n",
    "- Su documentación establece que, sin embargo, no es un sistema de archivos de propósito general y no proporciona búsquedas rápidas de registros individuales en archivos."
   ]
  },
  {
   "cell_type": "markdown",
   "id": "740934b7",
   "metadata": {
    "slideshow": {
     "slide_type": "slide"
    }
   },
   "source": [
    "- Si se tienen cientos de millones o miles de millones de filas, HBase es un buen candidato.\n",
    "- Si solo se tienen unos pocos miles/millones de filas, entonces usar un RDBMS tradicional podría ser una mejor opción debido al hecho de que todos los datos pueden terminar en un solo nodo (o dos) y el resto del clúster puede estar sentado inactivo."
   ]
  },
  {
   "cell_type": "markdown",
   "id": "3fa7e7b5",
   "metadata": {
    "slideshow": {
     "slide_type": "slide"
    }
   },
   "source": [
    "- Una aplicación construida contra un RDBMS no se puede \"portar\" a HBase simplemente cambiando un controlador JDBC, por ejemplo.\n",
    "- Considere pasar de un RDBMS a HBase como un rediseño completo en lugar de un puerto."
   ]
  },
  {
   "cell_type": "markdown",
   "id": "f9d09e56",
   "metadata": {
    "slideshow": {
     "slide_type": "slide"
    }
   },
   "source": [
    "## Requisitos de Apache HBase"
   ]
  },
  {
   "cell_type": "markdown",
   "id": "0fd451d0",
   "metadata": {
    "slideshow": {
     "slide_type": "slide"
    }
   },
   "source": [
    "- Asegurarse de tener suficiente hardware.\n",
    "- HDFS no funciona bien con menos de 5 DataNodes (debido a cosas como la replicación de bloques de HDFS que tiene un valor predeterminado de 3), más un NameNode.\n",
    "- HBase puede funcionar bastante bien de forma independiente en una computadora portátil, pero esto debe considerarse solo como una configuración de desarrollo."
   ]
  },
  {
   "cell_type": "markdown",
   "id": "91bd1694",
   "metadata": {
    "slideshow": {
     "slide_type": "fragment"
    }
   },
   "source": [
    "- Tutorial: <https://hbase.apache.org/book.html#quickstart>."
   ]
  },
  {
   "cell_type": "markdown",
   "id": "80a5f755",
   "metadata": {
    "slideshow": {
     "slide_type": "slide"
    }
   },
   "source": [
    "## Bases de datos gráficas"
   ]
  },
  {
   "cell_type": "markdown",
   "id": "cc460847",
   "metadata": {
    "slideshow": {
     "slide_type": "slide"
    }
   },
   "source": [
    "## Neo4j"
   ]
  },
  {
   "cell_type": "markdown",
   "id": "bfddf45e",
   "metadata": {
    "slideshow": {
     "slide_type": "slide"
    }
   },
   "source": [
    "- Neo4j permite construir aplicaciones y flujos de trabajos de ML.\n",
    "- Almacena y administra datos manteniendo relaciones que brindan consultas veloces, un contexto más profundo para el análisis y un modelo de datos modificable sin complicaciones.\n",
    "    - Fuente: <https://neo4j.com/>."
   ]
  }
 ],
 "metadata": {
  "celltoolbar": "Slideshow",
  "kernelspec": {
   "display_name": "Python 3 (ipykernel)",
   "language": "python",
   "name": "python3"
  },
  "language_info": {
   "codemirror_mode": {
    "name": "ipython",
    "version": 3
   },
   "file_extension": ".py",
   "mimetype": "text/x-python",
   "name": "python",
   "nbconvert_exporter": "python",
   "pygments_lexer": "ipython3",
   "version": "3.8.10"
  },
  "widgets": {
   "application/vnd.jupyter.widget-state+json": {
    "state": {},
    "version_major": 2,
    "version_minor": 0
   }
  }
 },
 "nbformat": 4,
 "nbformat_minor": 5
}
