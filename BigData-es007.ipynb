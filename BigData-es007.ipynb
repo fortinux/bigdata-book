{
 "cells": [
  {
   "cell_type": "markdown",
   "id": "bd411fcf-0755-40a4-8be9-ead77d17982b",
   "metadata": {},
   "source": [
    "# Big Data Science"
   ]
  },
  {
   "cell_type": "markdown",
   "id": "3d02653e-073e-44a1-8c86-d9dd1709f904",
   "metadata": {},
   "source": [
    "## Introducción a la ciencia de datos"
   ]
  },
  {
   "cell_type": "markdown",
   "id": "c0784c8f-4686-4fbe-a0a3-6ddd4ee65a42",
   "metadata": {},
   "source": [
    "- El NIST Big Data interoperability Framework (NBDIF) - Version 3.0 Final {cite:ps}`249226` define ciencia de datos (*data science*) como:"
   ]
  },
  {
   "cell_type": "markdown",
   "id": "6d5c954f-5920-47fa-ae13-b9f371ce50fd",
   "metadata": {},
   "source": [
    "*la metodología para la síntesis de conocimientos útiles (obtenidos) directamente a partir de datos a través de un proceso de descubrimiento o de formulación y prueba de hipótesis.*"
   ]
  },
  {
   "cell_type": "markdown",
   "id": "5fa8a9dc-8d57-40e6-b25c-800066f35427",
   "metadata": {},
   "source": [
    "- Big Data en este contexto está estrechamente ligada a la ciencia de datos.\n",
    "- El análisis de grandes cantidades de datos sirve para validar hipótesis, reformularlas, o generar nuevas.\n",
    "- Como toda ciencia empírica, se aprende directamente de los datos adquiridos."
   ]
  },
  {
   "cell_type": "markdown",
   "id": "4cb2020b-c4e0-42d2-8ae0-ac19df11de96",
   "metadata": {},
   "source": [
    "- El proceso de resolución de problemas puede tomar dos vías:\n",
    "    - Recolectar datos y hacer un análisis abierto sobre ellos sin hipótesis preconcebidas (*discovery or data exploration*).\n",
    "    - Formular una hipótesis y recoger datos para la misma. Confirmar o refutar la hipótesis (o se determina que se necesitan más estudios)."
   ]
  },
  {
   "cell_type": "markdown",
   "id": "d4f961e7-782c-43ff-8213-047255c6e813",
   "metadata": {},
   "source": [
    "- Es importante aclarar que la ciencia de datos está en contraste con los modelos climáticos simulados (*physics-based modeling and simulation - M&S*).\n",
    "- Éstos usan datos como condición inicial para crear, siguiendo el modelo, nuevos datos. Los mismos se verificarán (o no) con la realidad en el futuro. \n",
    "- Por el contrario, la ciencia de datos analizaría los datos para predecir el clima basándose en los patrones detectados de esos datos."
   ]
  },
  {
   "cell_type": "markdown",
   "id": "2776f0dd-3f20-46ad-b258-3930822ec246",
   "metadata": {},
   "source": [
    "- Fuente: NIST Big Data interoperability Framework (NBDIF) - Version 3.0 Final {cite:ps}`249226`. Pág.25."
   ]
  },
  {
   "cell_type": "markdown",
   "id": "f71c04d4-8e84-40fa-a88b-94e901768d1b",
   "metadata": {},
   "source": [
    "## Alcance de la ciencia de datos"
   ]
  },
  {
   "cell_type": "markdown",
   "id": "58bf0bf9-cbee-457a-b187-31d14e22162e",
   "metadata": {},
   "source": [
    "- La ciencia de datos es un campo académico interdisciplinario.\n",
    "- Utiliza elementos de estadística, computación y sistemas científicos para obtener, analizar y presentar datos en forma de información y conocimiento.\n",
    "- Para ello se hace con un conjunto heterogéneo de métodos y procesos que la pueden convertir, según la Wikipedia {cite:ps}`eswiki:154154961` en *una ciencia, un paradigma de investigación, un método de investigación, una disciplina, un flujo de trabajo o una profesión*.​ "
   ]
  },
  {
   "cell_type": "markdown",
   "id": "1bdad2f7-5df9-408e-817a-aa5998b22881",
   "metadata": {},
   "source": [
    "## KDD"
   ]
  },
  {
   "cell_type": "markdown",
   "id": "c2de1f5f-aa86-4548-ad87-d9a969630947",
   "metadata": {},
   "source": [
    "- El proceso KDD (*knowledge discovery in databases*) o descubrimiento de conocimiento en bases de datos sirve para extraer conocimiento de los datos en el contexto de grandes bases de datos.\n",
    "- Es utilizado por los investigadores para aprendizaje automático, reconocimiento de patrones en bases de datos, estadísticas, inteligencia artificial, adquisición de conocimiento para sistemas expertos, y visualización de datos.\n",
    "- En este contexto, emplea métodos de minería de datos para extraer lo que se considera conocimiento mediante preprocesamiento, submuestreo y las transformaciones necesarias en los datos."
   ]
  },
  {
   "cell_type": "markdown",
   "id": "912bba51-53c8-40e4-8b9e-a612fe8f1e43",
   "metadata": {},
   "source": [
    "- El proceso KDD puede envolver la repetición de los siguientes pasos:"
   ]
  },
  {
   "cell_type": "markdown",
   "id": "dfa04dd8-80dd-4008-8ae1-b49da674e13d",
   "metadata": {},
   "source": [
    "- Desarrollar el conocimiento del dominio de la aplicación, los conocimientos previos, y el objetivo del usuario final.\n",
    "- Establecer un conjunto de datos o un subconjunto de variables, o datos de ejemplo donde el descubrimiento va a ser realizado.\n",
    "- Limpiar *outliers*, gestionar campos vacíos, eliminar datos innecesarios, etc.\n",
    "- Utilizar métodos de reducción de dimensionalidad o transformación para reducir el número de variables o para encontrar representaciones invariantes de los datos."
   ]
  },
  {
   "cell_type": "markdown",
   "id": "1dc513b8-e78a-4fff-ab08-a395ec7103c0",
   "metadata": {},
   "source": [
    "- Decidir la tarea de minería de daatos a realizar: clasificación, regresión, clustering, etc.\n",
    "- Seleccionar el algoritmo de minería de datos (modelos y parámetros, métodos).\n",
    "- Realizar la minería de datos buscando patrones de interés.\n",
    "- Interpretar los patrones obtenidos.\n",
    "- Consolidad el conocimiento adquirido."
   ]
  },
  {
   "cell_type": "markdown",
   "id": "0590a942-212f-450f-b449-fc75e44c796f",
   "metadata": {},
   "source": [
    "- Fuente: <https://www2.cs.uregina.ca/~dbd/cs831/notes/kdd/1_kdd.html>."
   ]
  },
  {
   "cell_type": "markdown",
   "id": "31adf484-1a3b-416c-91ae-71e628290eb8",
   "metadata": {},
   "source": [
    "- Recursos:\n",
    "    - <https://www.geeksforgeeks.org/kdd-process-in-data-mining/>.\n",
    "    - <https://www.javatpoint.com/kdd-process-in-data-mining>. "
   ]
  },
  {
   "cell_type": "markdown",
   "id": "9f749210-e842-4bcf-a8b7-fe15b1fc543d",
   "metadata": {},
   "source": [
    "## Minería de datos"
   ]
  },
  {
   "cell_type": "markdown",
   "id": "5273437a-085f-4f0a-8b35-a5d1eba95fad",
   "metadata": {},
   "source": [
    "- La minería de datos (*data mining*) nació a finales de los años '90 cuando las grandes organizaciones ya contaban con una sustancial cantidad de datos.\n",
    "- El objetivo de la minería de datos es descubrir patrones en grandes volúmenes de conjuntos de datos (Big Data)."
   ]
  },
  {
   "cell_type": "markdown",
   "id": "5c5da653-1ab3-4a7f-9a73-c17548910c65",
   "metadata": {},
   "source": [
    "- Se podría también definir *data mining* como *la aplicación de algoritmos específicos para extraer patrones de los datos* (NIST {cite:ps}`249226`. Pág.26."
   ]
  },
  {
   "cell_type": "markdown",
   "id": "72ac90cc-c0b7-4aa9-b822-3b0cb9536ad3",
   "metadata": {},
   "source": [
    "- La minería de datos no solamente necesita conocimientos de estadística y matemática sino además saber como los datos fueron producidos y de que manera se pueden utilizar."
   ]
  },
  {
   "cell_type": "markdown",
   "id": "1c5753a4-8e31-4ff8-9d89-dcae08e8aa90",
   "metadata": {},
   "source": [
    "- En este contexto, a mediados de los 2000 nació la ciencia de datos que juntaba varias disciplinas para poder extraer información:\n",
    "    - Conocimiento de los datos y procesos.\n",
    "    - Minería de datos.\n",
    "    - Estadística.\n",
    "    - Matemática.\n",
    "    - Machine Learning.\n",
    "    - Algoritmos.\n",
    "    - Sistemas analíticos.\n",
    "    - Ingeniería de software y sistemas. "
   ]
  },
  {
   "cell_type": "markdown",
   "id": "9c6820fb-c1b7-4db0-acad-49b738c27e4b",
   "metadata": {},
   "source": [
    "## Consideraciones"
   ]
  },
  {
   "cell_type": "markdown",
   "id": "2df28793-d58d-4610-9d76-16dd9dc40816",
   "metadata": {},
   "source": [
    "- Algunas consideraciones a tener en cuenta con respecto a la ciencia de datos son:"
   ]
  },
  {
   "cell_type": "markdown",
   "id": "1373b05f-5d7d-4a18-a3d4-e1e7102e1e46",
   "metadata": {},
   "source": [
    "- Se requiere un muestreo cuidadoso de los datos para garantizar que La población esté siendo representada adecuadamente. En la ciencia de datos, normalmente todos los datos son procesados y analizados mediante escalamiento.\n",
    "- En algunos problemas se supone que en el gran volumen de datos, los pequeños errores tenderán a cancelarse, reduciendo o eliminando así la necesidad de limpiar los mismos.\n",
    "- En grandes conjuntos de datos a veces los algoritmos más simples pueden producir resultados aceptables. Esto ha llevado al debate sobre si más datos son superiores a mejores algoritmos.\n",
    "- Muchas hipótesis pueden ser difíciles de analizar, por lo que la ciencia de datos también se centra en determinar una pregunta sustituta que no aborda la hipótesis original, pero cuyo resultado analítico puede aplicarse a la misión original.\n",
    "- La riqueza de las fuentes de datos ha aumentado la necesidad de explorar datos para determinar qué podría ser de utilidad ya que puede conducir al descubrimiento de ideas o a la formulación de hipótesis para probar."
   ]
  },
  {
   "cell_type": "markdown",
   "id": "f952aaa3-abfc-4da8-a9c3-37f2663d4c17",
   "metadata": {},
   "source": [
    "- Fuente: NIST Big Data interoperability Framework (NBDIF) - Version 3.0 Final {cite:ps}`249226`. Pág.27."
   ]
  },
  {
   "cell_type": "markdown",
   "id": "4fedce75-19cc-48b8-834b-baa02d1bc490",
   "metadata": {},
   "source": [
    "## Cientistas de datos"
   ]
  },
  {
   "cell_type": "markdown",
   "id": "33f248de-ab37-4ecd-9c09-0cecbad91540",
   "metadata": {},
   "source": [
    "- Las/os cientistas de datos suelen resolver problemas complejos empleando conocimientos de las disciplinas de matemática, estadística, ciencias de la computación y de la materia a analizar en cuestión.\n",
    "- Se necesitan además habilidades de comunicación, presentación y análisis para poder gestionar la complejidad de las interacciones de los sistemas de Big Data.\n",
    "- Por este motivo se suele trabajar en equipos multidisciplinarios donde cada integrante aporta su perspectiva profesional.\n",
    "- En este caso se considera al perfil de un/a cientista de datos como generalista u horizontal (perfil T).  "
   ]
  },
  {
   "cell_type": "markdown",
   "id": "3ce3931d-d975-49dd-a55d-f75d401b5bd7",
   "metadata": {},
   "source": [
    "- Quienes se especializan en una técnica particular se prodrían considerar expertos en la materia aunque estén involucrados en el proceso general de la ciencia de datos.\n",
    "- Un ejemplo pueden ser los expertos en *machine learning*, ingenieros en Big Data que gestionan bases de datos distribuidas, ingenieros de datos que los transforman (ETL, ELT) para ser analizados, o especialistas que dominan los modelos semánticos a utilizar en los metadatos.\n",
    "- Estos perfiles se consideran especialistas o verticales (perfil I). "
   ]
  },
  {
   "cell_type": "markdown",
   "id": "7c322f29-b900-4a7f-88d5-a791484f766e",
   "metadata": {},
   "source": [
    "- La universidad de Amsterdam ha creado el proyecto EDISON Data Science Framework (EDISON) con el objetivo de definir en la educación y habilidades necesarias para la ciencia de datos.\n",
    "- La documentación <https://github.com/EDISONcommunity/EDSF> que ha producido es la siguiente:\n",
    "    - Data Science Competence Framework (CF-DS)\n",
    "    - Data Science Body of Knowledge (DS-BoK)\n",
    "    - Data Science Model Curriculum (MC-DS)\n",
    "    - Data Science Professional Profiles (DSPP)\n"
   ]
  },
  {
   "cell_type": "markdown",
   "id": "2fd5a0fa-b543-4935-aac8-4782cb06b93d",
   "metadata": {},
   "source": [
    "- Fuente: NIST Big Data interoperability Framework (NBDIF) - Version 3.0 Final {cite:ps}`249226`. Pág.28."
   ]
  },
  {
   "cell_type": "markdown",
   "id": "61f5208c-2373-48cb-ab29-8e372f3f836a",
   "metadata": {},
   "source": [
    "(content:references:CRISP-DM)=\n",
    "## Procesos en la ciencia de datos"
   ]
  },
  {
   "cell_type": "markdown",
   "id": "0eaba610-4a07-4af3-bd25-cde9da17b713",
   "metadata": {},
   "source": [
    "- La ciencia de datos se encarga del entero ciclo de vida del análisis de los datos y sus actividades.\n",
    "- Sus actividades incluyen:\n",
    "    - Gobernanza.\n",
    "    - Políticas y reglamentos.\n",
    "    - Operaciones.\n",
    "    - Seguridad de los datos.\n",
    "    - Gestión y procesamiento de los datos.\n",
    "    - Archivado y/o eliminación de los mismos. "
   ]
  },
  {
   "cell_type": "markdown",
   "id": "36c87ad6-3ebe-4806-8d5c-55efa5a21e2a",
   "metadata": {},
   "source": [
    "- Para el NIST Big Data interoperability Framework (NBDIF) - Version 3.0 Final {cite:ps}`249226` (Pág.29), el ciclo de vida del análisis de los datos se compone de cinco pasos:\n",
    "    - Captura de los datos en su formato original.\n",
    "    - Preparación y modelado.\n",
    "    - Análisis de los datos.\n",
    "    - Visualización de los datos.\n",
    "    - Acción con el uso de los mismos."
   ]
  },
  {
   "cell_type": "markdown",
   "id": "e93d2eb0-840f-4772-b962-44936b5136a5",
   "metadata": {},
   "source": [
    "- Es importante diferenciar el análisis de datos con el proceso del ciclo de vida del análisis de datos.\n",
    "- El análisis de datos (*data analytics*) es una técnica para examinar datos en bruto y así obtener información.\n",
    "- Para ello se aplican algoritmos que buscan en los datos correlaciones significativas entre ellos. "
   ]
  },
  {
   "cell_type": "markdown",
   "id": "3d63f2d2-f759-4e23-8c14-52e9d43d2d68",
   "metadata": {},
   "source": [
    "- Generalmente este proceso analítico incluye el descubrimiento necesario para la hipótesis inicial, el desarrollo de esa hipótesis y la aplicación para su análisis."
   ]
  },
  {
   "cell_type": "markdown",
   "id": "b6110326-50c1-4bcf-a1ad-b433714fe844",
   "metadata": {},
   "source": [
    "- En Big Data la/os analistas pueden actuar de maneras que no eran posibles previamente.\n",
    "- Las técnicas tradicionales de análisis estadístico reducían, muestreaban o resumían los datos antes de análisis ya que en grandes conjuntos de datos el hardware no podía escalarse al tamaño de los mismos.\n",
    "- Los análisis en estadística y minería de datos se centran en la causalidad: ser capaces de describir por qué sucede algo. Descubrir la causa ayuda a los actores a cambiar una tendencia o un resultado.\n",
    "- Big Data en cambio puede determinar la correlación (y no necesariamente la causalidad) aunque hacen que sea más factible implementar análisis complejos de tipo causal para datos grandes, complejos y heterogéneos."
   ]
  },
  {
   "cell_type": "markdown",
   "id": "000cc142-2206-4e30-8f17-57ae43f98ca9",
   "metadata": {},
   "source": [
    "## CRISP-DM "
   ]
  },
  {
   "cell_type": "markdown",
   "id": "23082618-67c1-4649-aa5f-beb70a785fd6",
   "metadata": {},
   "source": [
    "- Existen varias metodologías y modelos disponibles en el mercado para la recopilación, almacenamiento, consulta, visualización de datos, y su posterior acción.\n",
    "- Provienen del mundo de la minería de datos y de la comunidad KDD (*Knowledge Discovery in Databases*).\n",
    "- CRISP-DM (*Cross Industry Standard Process for Data Mining*) por ejemplo, es un modelo de procesos estandarizado e iterativo centrado en el negocio.\n",
    "- Fue desarrollado para ser distribuido libremente y promueve las mejores prácticas en minería de datos."
   ]
  },
  {
   "cell_type": "markdown",
   "id": "ca6efbe9-097a-4603-a336-e4e2b14aba0c",
   "metadata": {},
   "source": [
    "- Sus seis fases son: \n",
    "    - Comprensión del negocio. \n",
    "    - Comprensión de los datos.\n",
    "    - Preparación de los datos.\n",
    "    - Fase de Modelado.\n",
    "    - Evaluación.\n",
    "    - Implantación."
   ]
  },
  {
   "cell_type": "markdown",
   "id": "6f3b8aef-3b5a-4098-95a7-33decd741a08",
   "metadata": {},
   "source": [
    "- Fuente:  Shearer, C. (2000) The CRISP-DM Model: The New Blueprint for Data Mining. Journal of Data Warehousing, 5, 13-22. {cite:ps}`Shearer2000-jz` "
   ]
  },
  {
   "cell_type": "markdown",
   "id": "2560fb66-b3a8-477a-842f-d74e98198a9d",
   "metadata": {},
   "source": [
    "## SEMMA"
   ]
  },
  {
   "cell_type": "markdown",
   "id": "e3ca6779-125c-4083-b9d1-026d9cbbdc16",
   "metadata": {},
   "source": [
    "- El modelo SEMMA (*Sample,Explore, Modify, Model, Assess*) fue desarrollado por la empresa SAS para tareas de *datamining* y consta de cinco pasos:"
   ]
  },
  {
   "cell_type": "markdown",
   "id": "a0177780-329a-43f6-8ec3-4ee965b0da18",
   "metadata": {},
   "source": [
    "- *Sample*: identifica, combina, particiona, y obtiene muestras de conjuntos de datos, entre otras tareas.\n",
    "- *Explore*: Explora los conjuntos de datos de forma estadística y gráfica; graficando los datos, onteniendo estadísticas descriptivas, identificando variables importantes y realizando análisis de asociación.\n",
    "- *Modify*: Prepara los datos para el análisis; creando variables adicionales, transformando variables existentes, identificando *outliers*, reemplazando valores inexistentes, desempeñando *cluster analysis*, y analizando datos con SOMs (*self-organizing maps*) o redes *Kohonen*."
   ]
  },
  {
   "cell_type": "markdown",
   "id": "0fc49ad4-fcdf-4927-a00f-9a5f13c5074b",
   "metadata": {},
   "source": [
    "- *Model*: Ajusta un modelo predictivo a una variable objetivo. Entre los modelos disponibles se encuentran los árboles de decisión, redes neuronales, *least angle regressions*, *support vector machines*, regresión lineal, y regresiones logísticas.\n",
    "- *Assess*: Compara los modelos predictivos que compiten entre sí y generan gráficos que representan el porcentaje de encuestados, el porcentaje de *respondents captures*, el aumento y las ganancias."
   ]
  },
  {
   "cell_type": "markdown",
   "id": "c34d831e-7248-41ea-b58d-6e8de104fde0",
   "metadata": {},
   "source": [
    "- Fuente: <https://documentation.sas.com/doc/en/emcs/14.3/n0pejm83csbja4n1xueveo2uoujy.htm>."
   ]
  }
 ],
 "metadata": {
  "kernelspec": {
   "display_name": "Python 3 (ipykernel)",
   "language": "python",
   "name": "python3"
  },
  "language_info": {
   "codemirror_mode": {
    "name": "ipython",
    "version": 3
   },
   "file_extension": ".py",
   "mimetype": "text/x-python",
   "name": "python",
   "nbconvert_exporter": "python",
   "pygments_lexer": "ipython3",
   "version": "3.10.12"
  }
 },
 "nbformat": 4,
 "nbformat_minor": 5
}
