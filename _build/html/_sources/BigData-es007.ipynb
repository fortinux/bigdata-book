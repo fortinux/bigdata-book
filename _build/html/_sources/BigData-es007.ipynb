{
 "cells": [
  {
   "cell_type": "markdown",
   "id": "bd411fcf-0755-40a4-8be9-ead77d17982b",
   "metadata": {},
   "source": [
    "# Big Data Science"
   ]
  },
  {
   "cell_type": "markdown",
   "id": "3d02653e-073e-44a1-8c86-d9dd1709f904",
   "metadata": {},
   "source": [
    "## Introducción a la ciencia de datos"
   ]
  },
  {
   "cell_type": "markdown",
   "id": "c0784c8f-4686-4fbe-a0a3-6ddd4ee65a42",
   "metadata": {},
   "source": [
    "- El NIST Big Data interoperability Framework (NBDIF) - Version 3.0 Final {cite:ps}`249226` define ciencia de datos (*data science*) como:"
   ]
  },
  {
   "cell_type": "markdown",
   "id": "6d5c954f-5920-47fa-ae13-b9f371ce50fd",
   "metadata": {},
   "source": [
    "*la metodología para la síntesis de conocimientos útiles (obtenidos) directamente a partir de datos a través de un proceso de descubrimiento o de formulación y prueba de hipótesis.*"
   ]
  },
  {
   "cell_type": "markdown",
   "id": "5fa8a9dc-8d57-40e6-b25c-800066f35427",
   "metadata": {},
   "source": [
    "- Big Data en este contexto está estrechamente ligada a la ciencia de datos.\n",
    "- El análisis de grandes cantidades de datos sirve para validar hipótesis, reformularlas, o generar nuevas.\n",
    "- Como toda ciencia empírica, se aprende directamente de los datos adquiridos."
   ]
  },
  {
   "cell_type": "markdown",
   "id": "4cb2020b-c4e0-42d2-8ae0-ac19df11de96",
   "metadata": {},
   "source": [
    "- El proceso de resolución de problemas puede tomar dos vías:\n",
    "    - Recolectar datos y hacer un análisis abierto sobre ellos sin hipótesis preconcebidas (*discovery or data exploration*).\n",
    "    - Formular una hipótesis y recoger datos para la misma. Confirmar o refutar la hipótesis (o se determina que se necesitan más estudios)."
   ]
  },
  {
   "cell_type": "markdown",
   "id": "d4f961e7-782c-43ff-8213-047255c6e813",
   "metadata": {},
   "source": [
    "- Es importante aclarar que la ciencia de datos está en contraste con los modelos climáticos simulados (*physics-based modeling and simulation - M&S*).\n",
    "- Éstos usan datos como condición inicial para crear, siguiendo el modelo, nuevos datos. Los mismos se verificarán (o no) con la realidad en el futuro. \n",
    "- Por el contrario, la ciencia de datos analizaría los datos para predecir el clima basándose en los patrones detectados de esos datos."
   ]
  },
  {
   "cell_type": "markdown",
   "id": "2776f0dd-3f20-46ad-b258-3930822ec246",
   "metadata": {},
   "source": [
    "- Fuente: NIST Big Data interoperability Framework (NBDIF) - Version 3.0 Final {cite:ps}`249226`. Pág.25."
   ]
  },
  {
   "cell_type": "markdown",
   "id": "f71c04d4-8e84-40fa-a88b-94e901768d1b",
   "metadata": {},
   "source": [
    "## Alcance de la ciencia de datos"
   ]
  },
  {
   "cell_type": "markdown",
   "id": "58bf0bf9-cbee-457a-b187-31d14e22162e",
   "metadata": {},
   "source": [
    "- La ciencia de datos es un campo académico interdisciplinario.\n",
    "- Utiliza elementos de estadística, computación y sistemas científicos para obtener, analizar y presentar datos en forma de información y conocimiento.\n",
    "- Para ello se hace con un conjunto heterogéneo de métodos y procesos que la pueden convertir, según la Wikipedia {cite:ps}`154154961` en *una ciencia, un paradigma de investigación, un método de investigación, una disciplina, un flujo de trabajo o una profesión*.​ "
   ]
  },
  {
   "cell_type": "markdown",
   "id": "9f749210-e842-4bcf-a8b7-fe15b1fc543d",
   "metadata": {},
   "source": [
    "## Minería de datos"
   ]
  },
  {
   "cell_type": "markdown",
   "id": "5273437a-085f-4f0a-8b35-a5d1eba95fad",
   "metadata": {},
   "source": [
    "- La minería de datos (*data mining*) nació a finales de los años '90 cuando las grandes organizaciones ya contaban con una sustancial cantidad de datos.\n",
    "- También llamada exploración de datos (*knowledge discovery in databases - KDD*) es un campo de la estadística y las ciencias de la computación.\n",
    "- El objetivo de la minería de datos es descubrir patrones en grandes volúmenes de conjuntos de datos (big data)."
   ]
  },
  {
   "cell_type": "markdown",
   "id": "5c5da653-1ab3-4a7f-9a73-c17548910c65",
   "metadata": {},
   "source": [
    "- Se podría también definir *data mining* como *la aplicación de algoritmos específicos para extraer patrones de los datos* (NIST {cite:ps}`249226`. Pág.26."
   ]
  },
  {
   "cell_type": "markdown",
   "id": "72ac90cc-c0b7-4aa9-b822-3b0cb9536ad3",
   "metadata": {},
   "source": [
    "- La minería de datos no solamente necesita conocimientos de estadística y matemática sino además saber como los datos fueron producidos y de que manera se pueden utilizar.\n",
    "- En este contexto, a mediados de los 2000 nació la ciencia de datos que juntaba varias disciplinas para poder extraer información:\n",
    "    - Conocimiento de los datos y procesos.\n",
    "    - Minería de datos.\n",
    "    - Estadística.\n",
    "    - Matemática.\n",
    "    - Machine Learning.\n",
    "    - Algoritmos.\n",
    "    - Sistemas analíticos.\n",
    "    - Ingeniería de software y sistemas. "
   ]
  },
  {
   "cell_type": "markdown",
   "id": "9c6820fb-c1b7-4db0-acad-49b738c27e4b",
   "metadata": {},
   "source": [
    "## Consideraciones"
   ]
  },
  {
   "cell_type": "markdown",
   "id": "2df28793-d58d-4610-9d76-16dd9dc40816",
   "metadata": {},
   "source": [
    "- Algunas consideraciones a tener en cuenta con respecto a la ciencia de datos son:"
   ]
  },
  {
   "cell_type": "markdown",
   "id": "1373b05f-5d7d-4a18-a3d4-e1e7102e1e46",
   "metadata": {},
   "source": [
    "- Se requiere un muestreo cuidadoso de los datos para garantizar que La población esté siendo representada adecuadamente. En la ciencia de datos, normalmente todos los datos son procesados y analizados mediante escalamiento.\n",
    "- En algunos problemas se supone que en el gran volumen de datos, los pequeños errores tenderán a cancelarse, reduciendo o eliminando así la necesidad de limpiar los mismos.\n",
    "- En grandes conjuntos de datos a veces los algoritmos más simples pueden producir resultados aceptables. Esto ha llevado al debate sobre si más datos son superiores a mejores algoritmos.\n",
    "- Muchas hipótesis pueden ser difíciles de analizar, por lo que la ciencia de datos también se centra en determinar una pregunta sustituta que no aborda la hipótesis original, pero cuyo resultado analítico puede aplicarse a la misión original.\n",
    "- La riqueza de las fuentes de datos ha aumentado la necesidad de explorar datos para determinar qué podría ser de utilidad ya que puede conducir al descubrimiento de ideas o a la formulación de hipótesis para probar."
   ]
  },
  {
   "cell_type": "markdown",
   "id": "f952aaa3-abfc-4da8-a9c3-37f2663d4c17",
   "metadata": {},
   "source": [
    "- Fuente: NIST Big Data interoperability Framework (NBDIF) - Version 3.0 Final {cite:ps}`249226`. Pág.27."
   ]
  },
  {
   "cell_type": "markdown",
   "id": "4fedce75-19cc-48b8-834b-baa02d1bc490",
   "metadata": {},
   "source": [
    "## Cientistas de datos"
   ]
  },
  {
   "cell_type": "markdown",
   "id": "33f248de-ab37-4ecd-9c09-0cecbad91540",
   "metadata": {},
   "source": [
    "- Las/os cientistas de datos suelen resolver problemas complejos empleando conocimientos de las disciplinas de matemática, estadística, ciencias de la computación y de la materia a analizar en cuestión.\n",
    "- Se necesitan además habilidades de comunicación, presentación y análisis para poder gestionar la complejidad de las interacciones de los sistemas de Big Data.\n",
    "- Por este motivo se suele trabajar en equipos multidisciplinarios donde cada integrante aporta su perspectiva profesional.\n",
    "- En este caso se considera al perfil de un/a cientista de datos como generalista u horizontal (perfil T).  "
   ]
  },
  {
   "cell_type": "markdown",
   "id": "3ce3931d-d975-49dd-a55d-f75d401b5bd7",
   "metadata": {},
   "source": [
    "- Quienes se especializan en una técnica particular se prodrían considerar expertos en la materia aunque estén involucrados en el proceso general de la ciencia de datos.\n",
    "- Un ejemplo pueden ser los expertos en *machine learning*, ingenieros en Big Data que gestionan bases de datos distribuidas, ingenieros de datos que los transforman (ETL, ELT) para ser analizados, o especialistas que dominan los modelos semánticos a utilizar en los metadatos.\n",
    "- Estos perfiles se consideran especialistas o verticales (perfil I). "
   ]
  },
  {
   "cell_type": "markdown",
   "id": "7c322f29-b900-4a7f-88d5-a791484f766e",
   "metadata": {},
   "source": [
    "- La universidad de Amsterdam ha creado el proyecto EDISON Data Science Framework (EDISON) con el objetivo de definir en la educación y habilidades necesarias para la ciencia de datos.\n",
    "- La documentación <https://github.com/EDISONcommunity/EDSF> que ha producido es la siguiente:\n",
    "    - Data Science Competence Framework (CF-DS)\n",
    "    - Data Science Body of Knowledge (DS-BoK)\n",
    "    - Data Science Model Curriculum (MC-DS)\n",
    "    - Data Science Professional Profiles (DSPP)\n"
   ]
  },
  {
   "cell_type": "markdown",
   "id": "2fd5a0fa-b543-4935-aac8-4782cb06b93d",
   "metadata": {},
   "source": [
    "- Fuente: NIST Big Data interoperability Framework (NBDIF) - Version 3.0 Final {cite:ps}`249226`. Pág.29."
   ]
  }
 ],
 "metadata": {
  "kernelspec": {
   "display_name": "Python 3 (ipykernel)",
   "language": "python",
   "name": "python3"
  },
  "language_info": {
   "codemirror_mode": {
    "name": "ipython",
    "version": 3
   },
   "file_extension": ".py",
   "mimetype": "text/x-python",
   "name": "python",
   "nbconvert_exporter": "python",
   "pygments_lexer": "ipython3",
   "version": "3.10.12"
  }
 },
 "nbformat": 4,
 "nbformat_minor": 5
}
