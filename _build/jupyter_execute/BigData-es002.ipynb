{
 "cells": [
  {
   "cell_type": "markdown",
   "id": "149cb3a8",
   "metadata": {
    "slideshow": {
     "slide_type": "slide"
    }
   },
   "source": [
    "# Ingesta y almacenamiento de datos"
   ]
  },
  {
   "cell_type": "markdown",
   "id": "b6a4ea0b",
   "metadata": {
    "slideshow": {
     "slide_type": "slide"
    }
   },
   "source": [
    "## Procesos en Big Data "
   ]
  },
  {
   "cell_type": "markdown",
   "id": "92282828",
   "metadata": {
    "slideshow": {
     "slide_type": "slide"
    }
   },
   "source": [
    "- Existen varias metodologías disponibles en el mercado para la recopilación, almacenamiento, consulta y visualización de datos.\n",
    "- Provienen del mundo de la minería de datos, y entre ellas se pueden mencionar KDD (*Knowledge Discovery in Databases*), SEMMA y CRISP-DM.\n",
    "- CRISP-DM (*Cross Industry Standard Process for Data Mining*) por ejemplo, es un proceso iterativo centrado en el negocio. \n",
    "- Sus fases son: comprensión del negocio, Comprensión de los datos, Preparación de los datos, Fase de Modelado, Evaluación e Implantación.\n",
    "    - Fuente: Metodología para el Desarrollo de proyectos en Minería de Datos CRISP-DM\n",
    "    - <http://www.oldemarrodriguez.com/yahoo_site_admin/assets/docs/Documento_CRISP-DM.2385037.pdf>."
   ]
  },
  {
   "cell_type": "markdown",
   "id": "3c851634",
   "metadata": {
    "slideshow": {
     "slide_type": "slide"
    }
   },
   "source": [
    "- Para proyectos de Big Data los procesos básicamente se pueden dividir en cuatro fases: \n",
    "    - Ingestión de datos (*Data Ingestion*).\n",
    "    - Almacenamiento de datos (*Data Storage*).\n",
    "    - Procesamiento, análisis y consulta de datos (*Data Processing / Data Query*).\n",
    "    - Visalización de datos (*Data Visualization*)."
   ]
  },
  {
   "cell_type": "markdown",
   "id": "d8754350",
   "metadata": {
    "slideshow": {
     "slide_type": "slide"
    }
   },
   "source": [
    "## Ingestión de datos"
   ]
  },
  {
   "cell_type": "markdown",
   "id": "061591d4",
   "metadata": {
    "slideshow": {
     "slide_type": "slide"
    }
   },
   "source": [
    "- Obtención, procesado (separación, agrupación, filtrado) y limpieza de datos (eliminar duplicados y errores). \n",
    "- Es el primer paso donde se obtienen los datos que provienen de varias fuentes y que irán a dispositivos de almacenamiento para su posterior acceso, uso y análisis por parte de la organización.\n",
    "- En esta etapa los datos son priorizados y categorizados."
   ]
  },
  {
   "cell_type": "markdown",
   "id": "c15f3ff3",
   "metadata": {
    "slideshow": {
     "slide_type": "slide"
    }
   },
   "source": [
    "- Su destinación es generalmente:\n",
    "    - Un almacén de datos (*data warehouse*): *Snowflake, Amazon Redshift, Google BigQuery, Azure Synapse*, o\n",
    "    - Un lago de datos: (*data lake*): *Databricks* con datos estructurados, semi estructurados y no estructurados."
   ]
  },
  {
   "cell_type": "markdown",
   "id": "35be758b",
   "metadata": {
    "slideshow": {
     "slide_type": "slide"
    }
   },
   "source": [
    "## Cuestiones a considerar"
   ]
  },
  {
   "cell_type": "markdown",
   "id": "05bb1f5a",
   "metadata": {
    "slideshow": {
     "slide_type": "slide"
    }
   },
   "source": [
    "- Velocidad de la entrada de datos (frecuencia: *Batch, Real-Time*).\n",
    "- Volumen de los datos.\n",
    "- Variedad (formato: datos estructurados, Semi-estructurados, no estructurados)."
   ]
  },
  {
   "cell_type": "markdown",
   "id": "eea743e8",
   "metadata": {
    "slideshow": {
     "slide_type": "slide"
    }
   },
   "source": [
    "- Otras cuestiones a tener en cuenta son la veracidad de esos datos (si son confiables) y el valor de los mismos. "
   ]
  },
  {
   "cell_type": "markdown",
   "id": "f6fb23aa",
   "metadata": {
    "slideshow": {
     "slide_type": "slide"
    }
   },
   "source": [
    "- La velocidad de datos se ocupa de la velocidad a la que fluyen los datos desde diferentes fuentes, como máquinas, redes, IoT, interacción humana, sitios de medios, redes sociales.\n",
    "- El movimiento de datos puede ser masivo o continuo en la ingestión de datos. "
   ]
  },
  {
   "cell_type": "markdown",
   "id": "cb00e284",
   "metadata": {
    "slideshow": {
     "slide_type": "slide"
    }
   },
   "source": [
    "- El volumen de los datos gestionados puede ser enorme.\n",
    "- Los datos son generados desde diversas fuentes. \n",
    "- Éstas pueden aumentar cada día tanto en cantidad como en volumen de datos."
   ]
  },
  {
   "cell_type": "markdown",
   "id": "9a74f465",
   "metadata": {
    "slideshow": {
     "slide_type": "slide"
    }
   },
   "source": [
    "- Frecuencia de datos:\n",
    "- Los datos se pueden procesar en tiempo real o por lotes.\n",
    "- En tiempo real, el procesamiento ocurre cuando los datos se reciben al mismo tiempo que se generan.\n",
    "- Los datos por lotes se almacenan mediante un proceso por lotes fijo en algún intervalo de tiempo y luego se trasladan al flujo del proceso de administración de datos. "
   ]
  },
  {
   "cell_type": "markdown",
   "id": "a381d390",
   "metadata": {
    "slideshow": {
     "slide_type": "slide"
    }
   },
   "source": [
    "- La ingestión de datos se puede realizar utilizando formatos de distinto tipo.\n",
    "    - Datos estructurados (formato tabular). \n",
    "    - Semi-estructurados (ficheros JSON, CSV, etc.). \n",
    "    - No estructurados (imágenes, audio, video, etc.)."
   ]
  },
  {
   "cell_type": "markdown",
   "id": "af2b083a-841c-4cf9-b611-f3045604d36b",
   "metadata": {},
   "source": [
    "Fuente: {cite:ps}`Dumbill2012`"
   ]
  },
  {
   "cell_type": "markdown",
   "id": "a3c53ffc",
   "metadata": {
    "slideshow": {
     "slide_type": "slide"
    }
   },
   "source": [
    "## Buenas prácticas en ingestión de datos"
   ]
  },
  {
   "cell_type": "markdown",
   "id": "94a1a008",
   "metadata": {
    "slideshow": {
     "slide_type": "slide"
    }
   },
   "source": [
    "- Ancho de banda de la red:\n",
    "- El flujo de datos (*Data Pipeline*) debe poder competir con el tráfico comercial.\n",
    "- A veces el tráfico aumenta o disminuye, por lo que la escalabilidad del ancho de banda de la red es el mayor desafío del *Data Pipeline*.\n",
    "- Se requieren herramientas de ingestión de datos que permitan la limitación y compresión del ancho de banda en base a las necesidades del momento. "
   ]
  },
  {
   "cell_type": "markdown",
   "id": "e9bffde4",
   "metadata": {
    "slideshow": {
     "slide_type": "slide"
    }
   },
   "source": [
    "- Soporte para red no confiable:\n",
    "- La canalización en la ingestión de datos toma datos con múltiples estructuras, es decir, archivos de texto, datos de archivos tabulares, archivos XML, archivos de registro, etc. y debido a la velocidad variable de los datos que llegan, es posible que viajen a través de una red poco confiable.\n",
    "- La implementación del flujo de datos o *Data Pipeline* también debería ser capaz de soportar esto. "
   ]
  },
  {
   "cell_type": "markdown",
   "id": "158dbb76",
   "metadata": {
    "slideshow": {
     "slide_type": "slide"
    }
   },
   "source": [
    "- Transmisión de datos:\n",
    "- Las mejores prácticas de ingestión de datos dependen de la necesidad empresarial, ya sea para procesar los datos por lotes, flujos o en tiempo real.\n",
    "- En ocasiones, es posible que se necesiten todos a la vez para el procesamiento a través de la canalización de ingesta de datos, por lo que las herramientas deben ser capaces de admitirlos. "
   ]
  },
  {
   "cell_type": "markdown",
   "id": "5ba96851",
   "metadata": {
    "slideshow": {
     "slide_type": "slide"
    }
   },
   "source": [
    "- Tecnologías y Sistemas Heterogéneos:\n",
    "- Las herramientas para la canalización de la ingesta de datos deben poder utilizar diferentes tecnologías de fuentes de datos y diferentes sistemas operativos. "
   ]
  },
  {
   "cell_type": "markdown",
   "id": "935a8680",
   "metadata": {
    "slideshow": {
     "slide_type": "slide"
    }
   },
   "source": [
    "- Elección del formato de datos correcto:\n",
    "- Las herramientas de ingesta de datos deben proporcionar un formato de serialización de datos, lo que significa que, dado que los datos vienen en formatos variables, los convierte a un solo formato para proporcionar una forma más fácil de comprenderlos o relacionarlos. "
   ]
  },
  {
   "cell_type": "markdown",
   "id": "1373f499",
   "metadata": {
    "slideshow": {
     "slide_type": "slide"
    }
   },
   "source": [
    "- Repositorio único:\n",
    "- El análisis crítico es más efectivo cuando se combinan datos de múltiples fuentes.\n",
    "- Para la toma de decisiones de negocio, se debe tener un repositorio único para todos los datos que llegan. "
   ]
  },
  {
   "cell_type": "markdown",
   "id": "a1f81a2a",
   "metadata": {
    "slideshow": {
     "slide_type": "slide"
    }
   },
   "source": [
    "- Integraciones:\n",
    "- Todo el tiempo los datos siguen aumentando en el proceso de ingesta de datos, llegan datos nuevos y se modifican los datos antiguos, por lo cual a veces cada nueva integración puede tardar entre unos días y unos meses en completarse. "
   ]
  },
  {
   "cell_type": "markdown",
   "id": "f016f532",
   "metadata": {
    "slideshow": {
     "slide_type": "slide"
    }
   },
   "source": [
    "- Alta precisión:\n",
    "- La única forma de generar confianza con los datos es asegurarse de que los datos son auditables.\n",
    "- Una buena práctica que es fácil de implementar es nunca descartar entradas o formularios intermedios al modificar datos en el flujo del proceso de ingesta de datos. "
   ]
  },
  {
   "cell_type": "markdown",
   "id": "be85cba1",
   "metadata": {
    "slideshow": {
     "slide_type": "slide"
    }
   },
   "source": [
    "- Latencia:\n",
    "- Cuanto más actualizados sean los datos, más ágil puede ser la toma de decisiones en la organización, pero hay un coste a considerar.\n",
    "- La extracción de datos de APIs y bases de datos en tiempo real puede ser difícil, y muchas fuentes de datos de destino, incluidos grandes almacenes de objetos como Amazon S3 y bases de datos de análisis como Amazon Redshift, están optimizadas para recibir datos en fragmentos en lugar de una secuencia. "
   ]
  },
  {
   "cell_type": "markdown",
   "id": "7b2311f4",
   "metadata": {
    "slideshow": {
     "slide_type": "slide"
    }
   },
   "source": [
    "- Mantener la escalabilidad:\n",
    "- La ingesta de datos se puede aumentar o disminuir durante algunos períodos de tiempo.\n",
    "- El uso y tratamiento de los datos no es uniforme.\n",
    "- Se debe hacer que la canalización sea tan escalable que pueda manejar cualquier cantidad de datos que lleguen a una velocidad variable. "
   ]
  },
  {
   "cell_type": "markdown",
   "id": "408e5da9",
   "metadata": {
    "slideshow": {
     "slide_type": "slide"
    }
   },
   "source": [
    "## Herramientas para la ingesta de datos"
   ]
  },
  {
   "cell_type": "markdown",
   "id": "f59b4c53",
   "metadata": {
    "slideshow": {
     "slide_type": "slide"
    }
   },
   "source": [
    "- Apache Flume\n",
    "   - Un servicio distribuido, confiable y de alta disponibilidad que colecta, agrupa y mueve eficientemente grandes cantidades de logs y datos.\n",
    "   - Extraído de: <https://flume.apache.org/>."
   ]
  },
  {
   "cell_type": "markdown",
   "id": "180f5d98",
   "metadata": {
    "slideshow": {
     "slide_type": "slide"
    }
   },
   "source": [
    "- Es robusto y tolerante a fallas con mecanismos de confiabilidad ajustables.\n",
    "- Cuenta también con mecanismos de conmutación por error y recuperación.\n",
    "- Utiliza un modelo de datos extensible simple que permite la aplicación analítica en línea. "
   ]
  },
  {
   "cell_type": "markdown",
   "id": "55fdbb74",
   "metadata": {
    "slideshow": {
     "slide_type": "slide"
    }
   },
   "source": [
    "- Un evento Flume se define como una unidad de flujo de datos que tiene una carga útil de bytes y un conjunto opcional de atributos de cadena.\n",
    "- Un agente de Flume es un proceso (JVM) que aloja los componentes a través de los cuales fluyen los eventos desde una fuente externa hasta el siguiente destino (salto). "
   ]
  },
  {
   "cell_type": "markdown",
   "id": "1e2836c8",
   "metadata": {
    "slideshow": {
     "slide_type": "slide"
    }
   },
   "source": [
    "- Una fuente de Flume consume eventos que le envía una fuente externa como por ej. un servidor web.\n",
    "- La fuente externa envía eventos a Flume en un formato que es reconocido por la fuente de destino de Flume. "
   ]
  },
  {
   "cell_type": "markdown",
   "id": "f2be5082",
   "metadata": {
    "slideshow": {
     "slide_type": "fragment"
    }
   },
   "source": [
    "- Extraído de: <https://flume.apache.org/releases/content/1.9.0/FlumeUserGuide.html>."
   ]
  },
  {
   "cell_type": "markdown",
   "id": "19da143f",
   "metadata": {
    "slideshow": {
     "slide_type": "slide"
    }
   },
   "source": [
    "- Apache Nifi\n",
    "    - Es una de las mejores herramientas de *data ingestion* del mercado. \n",
    "    - Proveee un sistema fácil de usar, poderoso y confiable para procesar y distribuir datos.\n",
    "    - Extraído de: <https://nifi.apache.org/>."
   ]
  },
  {
   "cell_type": "markdown",
   "id": "7d6fe583",
   "metadata": {
    "slideshow": {
     "slide_type": "slide"
    }
   },
   "source": [
    "- Documentación: <https://nifi.apache.org/docs/nifi-docs/html/getting-started.html>.\n",
    "- Caso de uso: *Best practices and lessons learnt from Running Apache NiFi at Renault*  \n",
    "<https://fr.slideshare.net/Hadoop_Summit/best-practices-and-lessons-learnt-from-running-apache-nifi-at-renault>."
   ]
  },
  {
   "cell_type": "markdown",
   "id": "35c0745f",
   "metadata": {
    "slideshow": {
     "slide_type": "slide"
    }
   },
   "source": [
    "- Apache Flink\n",
    "    - Framework utilizado para el procesamiento de flujos distribuidos (*distributed stream*) que facilita resultados precisos, aún en el caso de datos que están desordenados o que llegan con retraso en la distribución.\n",
    "    - Extraído de: <https://flink.apache.org/>."
   ]
  },
  {
   "cell_type": "markdown",
   "id": "f4ccc84e",
   "metadata": {
    "slideshow": {
     "slide_type": "slide"
    }
   },
   "source": [
    "- Elastic Logstash\n",
    "    - Tubería (*pipeline*) de procesamiento de datos del lado del servidor de código abierto que ingiere datos de una multitud de fuentes, los transforma simultáneamente y luego los envía al reservatorio (*stash*), por ejemplo Elasticsearch. \n",
    "    - Extraído de: <https://www.elastic.co/>."
   ]
  },
  {
   "cell_type": "markdown",
   "id": "050bd787",
   "metadata": {
    "slideshow": {
     "slide_type": "slide"
    }
   },
   "source": [
    "- Apache Beam\n",
    "    - Es un modelo de programación unificado que permite implementar trabajos de procesamiento de datos por lotes y de *streaming* en cualquier motor de ejecución.\n",
    "    - Lee los datos desde diversas fuentes, ejecuta la lógica del negocio para *batch* y *streaming*, y finalmente los deposita en las soluciones de almacenamiento disponibles.\n",
    "    - Una canalización de Beam puede ejecutarse en los sistemas de procesamiento de datos distribuidos más populares, como Spark, Flink o Samza."
   ]
  },
  {
   "cell_type": "markdown",
   "id": "b977362c",
   "metadata": {
    "slideshow": {
     "slide_type": "slide"
    }
   },
   "source": [
    "- Apache Samza \n",
    "    - Permite crear aplicaciones con estado que procesan datos en tiempo real desde múltiples fuentes, incluido Apache Kafka.\n",
    "    - Admite opciones de implementación flexibles para ejecutarse en YARN o como una biblioteca independiente.\n",
    "    - Tutorial: <https://samza.apache.org/startup/hello-samza/1.6.0/>.\n",
    "    - Fuente: <https://samza.apache.org/>."
   ]
  },
  {
   "cell_type": "markdown",
   "id": "2bd5180c",
   "metadata": {
    "slideshow": {
     "slide_type": "slide"
    }
   },
   "source": [
    "- Fivetran es una cloud-based platform para ETL. \n",
    "    - <https://www.fivetran.com/>.\n",
    "- Stitch Data Loader mueve más de 130 tipos de fuentes al *data warehouse*.\n",
    "    - <https://www.stitchdata.com/>.\n",
    "- Airbyte es una herramienta open-source de integración de datos. \n",
    "    - <https://airbyte.com/>."
   ]
  },
  {
   "cell_type": "markdown",
   "id": "5bd1ab28",
   "metadata": {
    "slideshow": {
     "slide_type": "slide"
    }
   },
   "source": [
    "## Sistemas de mensajería"
   ]
  },
  {
   "cell_type": "markdown",
   "id": "8db6d888",
   "metadata": {
    "slideshow": {
     "slide_type": "slide"
    }
   },
   "source": [
    "- Apache Kafka\n",
    "    - Es una plataforma de transmisión de eventos distribuidos de código abierto utilizada por miles de empresas para canalizaciones de datos de alto rendimiento, análisis de streaming, integración de datos y aplicaciones de misión crítica.\n",
    "    - Es también un sistema de mensajería escalable que permite a los usuarios publicar y consumir grandes cantidades de mensajes en tiempo real por suscripción.\n",
    "    - Extraído de: <https://kafka.apache.org/>. "
   ]
  },
  {
   "cell_type": "markdown",
   "id": "2799373e",
   "metadata": {
    "slideshow": {
     "slide_type": "slide"
    }
   },
   "source": [
    "- La transmisión de eventos es el equivalente digital del sistema nervioso central del cuerpo humano.\n",
    "- Es la base tecnológica para el mundo 'siempre activo' donde las empresas están cada vez más definidas por software y automatizadas, y donde el usuario de software es más software (Inteligencia Artificial). "
   ]
  },
  {
   "cell_type": "markdown",
   "id": "ec0269d7",
   "metadata": {
    "slideshow": {
     "slide_type": "slide"
    }
   },
   "source": [
    "- Técnicamente hablando, la transmisión de eventos es la práctica de capturar datos en tiempo real de fuentes de eventos como bases de datos, sensores, dispositivos móviles, servicios en la nube y aplicaciones de software en forma de flujos de eventos; almacenar estos flujos de eventos de forma duradera para su posterior recuperación; manipular, procesar y reaccionar a los flujos de eventos en tiempo real y retrospectivamente; y enrutar los flujos de eventos a diferentes tecnologías de destino según sea necesario."
   ]
  },
  {
   "cell_type": "markdown",
   "id": "17a31356",
   "metadata": {
    "slideshow": {
     "slide_type": "slide"
    }
   },
   "source": [
    "- La version comercial de Apache Kafka es Confluent <https://www.confluent.io/es-es/>.\n",
    "- Otro *broker* de mensajería es RabbitMQ <https://www.rabbitmq.com/>."
   ]
  },
  {
   "cell_type": "markdown",
   "id": "b2aff9c3",
   "metadata": {
    "slideshow": {
     "slide_type": "slide"
    }
   },
   "source": [
    "- Apache ActiveMQ\n",
    "    - Es el sistema de mensajería multi protocolo open source más popular del mercado. \n",
    "    - Se conecta a clientes escritos en JavaScript, C, C++, Python, .Net, y más.\n",
    "    - Integra aplicaciones multiplataforma utilizando el protocolo AMQP. \n",
    "    - Intercambia mensajes mediante STOMP sobre *websockets*, gestiona dispositivos IoT con MQTT. \n",
    "    - Soporta la infraestructura JMS (*Java Message Service*). "
   ]
  },
  {
   "cell_type": "markdown",
   "id": "2e603f6d",
   "metadata": {
    "slideshow": {
     "slide_type": "fragment"
    }
   },
   "source": [
    "- Fuente: <https://activemq.apache.org/>"
   ]
  },
  {
   "cell_type": "markdown",
   "id": "43ff7edb",
   "metadata": {
    "slideshow": {
     "slide_type": "slide"
    }
   },
   "source": [
    "- Apache Pulsar\n",
    "    - Apache Pulsar es una plataforma de eventos distribuidos cloud similar a Kafka originalmente creada por Yahoo!\n",
    "    - <https://pulsar.apache.org/>.\n",
    "    - La versión comercial de sus creadores es StreamNative <https://streamnative.io/>."
   ]
  },
  {
   "cell_type": "markdown",
   "id": "67bff654",
   "metadata": {
    "slideshow": {
     "slide_type": "slide"
    }
   },
   "source": [
    "- Pub/Sub\n",
    "    - Es un sistema de mensajería que combina la escalabilidad horizontal de Apache Kafka y Pulsar con funciones del middleware como colas y filtros de mensajes no entregados de Apache ActiveMQ y RabbitMQ.\n",
    "    - Se complementa con Dataflow, que controla la anulación de mensajes duplicados, el procesamiento “solo una vez” y generación de marcas de agua a partir de eventos con marcas de tiempo. \n",
    "    - Para usar Dataflow se escribe la canalización con el SDK de Apache Beam y luego se ejecuta.\n",
    "    - <https://cloud.google.com/pubsub/docs/overview>"
   ]
  },
  {
   "cell_type": "markdown",
   "id": "9c9e8518",
   "metadata": {
    "slideshow": {
     "slide_type": "slide"
    }
   },
   "source": [
    "## Problemas en la ingesta de datos"
   ]
  },
  {
   "cell_type": "markdown",
   "id": "b441e277",
   "metadata": {
    "slideshow": {
     "slide_type": "slide"
    }
   },
   "source": [
    "- Cuando existen numerosas fuentes de Big Data con diferentes formatos, el mayor desafío para el negocio es ingerir datos a una velocidad razonable y procesarlos de manera eficiente.\n",
    "- De esta manera los datos pueden priorizarse y en consecuencia mejorar la toma de decisiones de negocio. "
   ]
  },
  {
   "cell_type": "markdown",
   "id": "b39d3b04",
   "metadata": {
    "slideshow": {
     "slide_type": "slide"
    }
   },
   "source": [
    "- Las fuentes de datos, las herramientas de ingestión de datos y las aplicaciones de consumo evolucionan permanentemente durante el proceso de ingestión de datos.\n",
    "- Los datos pueden modificar sus atributos sin previo aviso independientemente de la aplicación utilizada. "
   ]
  },
  {
   "cell_type": "markdown",
   "id": "e3f239d3",
   "metadata": {
    "slideshow": {
     "slide_type": "slide"
    }
   },
   "source": [
    "- Detección y captura de datos modificados: esta tarea es difícil, no solo por la naturaleza semiestructurada o no estructurada de los datos.\n",
    "- También lo es por tratar con baja latencia (una red informática que está optimizada para procesar un volumen muy alto de mensajes de datos con un retraso mínimo).\n",
    "- Estas redes están diseñadas para admitir operaciones que requieren acceso casi en tiempo real a datos que cambian rápidamente. "
   ]
  },
  {
   "cell_type": "markdown",
   "id": "75d56805",
   "metadata": {
    "slideshow": {
     "slide_type": "slide"
    }
   },
   "source": [
    "## Modelo semántico de datos (SDM) "
   ]
  },
  {
   "cell_type": "markdown",
   "id": "45164662",
   "metadata": {
    "slideshow": {
     "slide_type": "slide"
    }
   },
   "source": [
    "- El modelo semántico de datos (SDM) también cambia con el tiempo.\n",
    "- Se necesita un modelo de datos (*DM*) en el que se incluya información semántica.\n",
    "- Un *DM* que incluya la capacidad de expresar e intercambiar información permite a las partes interpretar el significado (semántica) de las instancias. "
   ]
  },
  {
   "cell_type": "markdown",
   "id": "1649ea96",
   "metadata": {
    "slideshow": {
     "slide_type": "slide"
    }
   },
   "source": [
    "- Extraído de: Semantic Data Model: <https://es.wikipedia.org/wiki/Modelo_sem%C3%A1ntico_de_datos>."
   ]
  },
  {
   "cell_type": "markdown",
   "id": "2100ab34",
   "metadata": {
    "slideshow": {
     "slide_type": "slide"
    }
   },
   "source": [
    "- En un modelo semántico los hechos generalmente se expresan mediante relaciones binarias entre elementos de datos, mientras que las relaciones de orden superior se expresan como colecciones de relaciones binarias.\n",
    "- Típicamente las relaciones binarias tienen la forma de ternas: Objeto-<Tipo de Relación>-Objeto. \n",
    "- Por ejemplo: La Torre Eiffel `<se encuentra en>` París. "
   ]
  },
  {
   "cell_type": "markdown",
   "id": "0ac1e2f7",
   "metadata": {
    "slideshow": {
     "slide_type": "slide"
    }
   },
   "source": [
    "- Según el conocido trabajo seminal de Smith y Smith (1977), tres abstracciones son muy importantes para el modelado de datos:\n",
    "     - Clasificación: modelo instancia_de_relaciones.\n",
    "     - Agregación: modelo tiene_relaciones.\n",
    "     - Generalización: modelo es_unas_relaciones. "
   ]
  },
  {
   "cell_type": "markdown",
   "id": "ea85855a",
   "metadata": {
    "slideshow": {
     "slide_type": "slide"
    }
   },
   "source": [
    "- Extraído de: Semantic Data Modelling: <http://www.jhterbekke.net/SemanticDataModeling.html>."
   ]
  },
  {
   "cell_type": "markdown",
   "id": "e3c63fee",
   "metadata": {
    "slideshow": {
     "slide_type": "slide"
    }
   },
   "source": [
    "- Integridad de datos: las especificaciones del modelo de datos implican la validez de ciertas reglas de integridad.\n",
    "- Relatividad: cada atributo en una definición de tipo está relacionado con uno y solo un tipo con el mismo nombre, mientras que cada tipo puede corresponder con varios atributos en otros tipos.\n",
    "- Convertibilidad: Cada definición de tipo es única: no hay definiciones de tipo que lleven el mismo nombre o la misma colección de atributos. "
   ]
  },
  {
   "cell_type": "code",
   "execution_count": 1,
   "id": "4bd0e191",
   "metadata": {
    "slideshow": {
     "slide_type": "slide"
    }
   },
   "outputs": [
    {
     "ename": "SyntaxError",
     "evalue": "invalid character '…' (U+2026) (656204593.py, line 19)",
     "output_type": "error",
     "traceback": [
      "\u001b[0;36m  Cell \u001b[0;32mIn [1], line 19\u001b[0;36m\u001b[0m\n\u001b[0;31m    …\u001b[0m\n\u001b[0m    ^\u001b[0m\n\u001b[0;31mSyntaxError\u001b[0m\u001b[0;31m:\u001b[0m invalid character '…' (U+2026)\n"
     ]
    }
   ],
   "source": [
    "database warehouse.\n",
    "\n",
    "base description (A16).\n",
    "type product kind (A8) = description.\n",
    "\n",
    "base color (A10).\n",
    "base stock (I8).\n",
    "base price (R4,2).\n",
    "type product (I7) = description, color, stock, price, product kind.\n",
    "\n",
    "base company name (A20).\n",
    "base address (A20).\n",
    "base zip (A6).\n",
    "base city (A16).\n",
    "type supplier (A8) = company name, address, zip, city.\n",
    "\n",
    "type purchased product (A9) = supplier, product, price.\n",
    "\n",
    "…\n",
    "\n",
    "base prepaid (R4,2).\n",
    "type sale (A7) = sold product, quantity, price, customer, date, prepaid.\n",
    "\n",
    "end."
   ]
  },
  {
   "cell_type": "markdown",
   "id": "80fa605e",
   "metadata": {
    "slideshow": {
     "slide_type": "slide"
    }
   },
   "source": [
    "- Artículo Semantic (Big) Data Analysis: An Extensive Literature Review.\n",
    "    - <https://latamt.ieeer9.org/index.php/transactions/article/download/673/207>."
   ]
  },
  {
   "cell_type": "markdown",
   "id": "c425d9e6",
   "metadata": {
    "slideshow": {
     "slide_type": "slide"
    }
   },
   "source": [
    "## Almacenamiento de datos (Data Storage)"
   ]
  },
  {
   "cell_type": "markdown",
   "id": "8122cb08",
   "metadata": {
    "slideshow": {
     "slide_type": "slide"
    }
   },
   "source": [
    "- El almacenamiento se convierte en un desafío cuando el tamaño de los datos es muy grande. \n",
    "- Varias posibles soluciones pueden ayudar a resolver este problema.\n",
    "- Encontrar la solución de almacenamiento más eficiente es el objetivo de este paso."
   ]
  },
  {
   "cell_type": "markdown",
   "id": "f4b9e8df",
   "metadata": {
    "slideshow": {
     "slide_type": "slide"
    }
   },
   "source": [
    "- Se necesitan diferentes tipos de bases de datos para manejar las diferentes variedades de datos, pero el uso de las mismas crea una sobrecarga en el sistema.\n",
    "- Es por este motivo que hay un nuevo concepto en el mundo de las bases de datos: la persistencia políglota. Es la idea de usar múltiples bases de datos para impulsar una sola aplicación.\n",
    "    - <https://en.wikipedia.org/wiki/Polyglot_persistence>"
   ]
  },
  {
   "cell_type": "markdown",
   "id": "ebedf4ad",
   "metadata": {
    "slideshow": {
     "slide_type": "slide"
    }
   },
   "source": [
    "- La persistencia políglota es la forma de compartir o dividir los datos en múltiples bases de datos y aprovechar su poder juntas.\n",
    "     - Relacionales\n",
    "     - No SQL\n",
    "     - Gráficas\n",
    "     - En memoria "
   ]
  },
  {
   "cell_type": "markdown",
   "id": "5edce8ed",
   "metadata": {
    "slideshow": {
     "slide_type": "slide"
    }
   },
   "source": [
    "- Polyglot Persistance tiene tiempos de respuesta más rápidos.\n",
    "- Las bases de datos NoSQL escalan bien cuando se modelan correctamente para los datos que se desean almacenar.\n",
    "- La experiencia de usuario es mejor cuando se aprovecha el poder de múltiples bases de datos al mismo tiempo.\n",
    "- Por ejemplo, si desea buscar productos en una aplicación de comercio electrónico, se utiliza ElasticSearch, que devuelve los resultados en función de la relevancia, lo que MongoDB no puede hacer fácilmente. "
   ]
  },
  {
   "cell_type": "markdown",
   "id": "3dbbe985",
   "metadata": {
    "slideshow": {
     "slide_type": "slide"
    }
   },
   "source": [
    "- Como contrapartida, tiene como desventaja la necesidad de contratar personal especializado para la integración de las bases de datos y una mayor cantidad de recursos de almacenamiento."
   ]
  },
  {
   "cell_type": "markdown",
   "id": "3818626f",
   "metadata": {
    "slideshow": {
     "slide_type": "slide"
    }
   },
   "source": [
    "## Herramientas de almacenamiento para Big Data"
   ]
  },
  {
   "cell_type": "markdown",
   "id": "39e6aceb",
   "metadata": {
    "slideshow": {
     "slide_type": "slide"
    }
   },
   "source": [
    "- HDFS : Hadoop Distributed File System.\n",
    "- Ozone: Un *object store* para Hadoop, la próxima generación de HDFS.\n",
    "- GlusterFS: Sistema de archivos distribuido confiable.\n",
    "- Ceph: Proporciona almacenamiento de objetos, bloques y sistemas de archivos en un solo clúster.\n",
    "- Cloud storage: Amazon S3 Storage Service, IBM Cloud Object Storage, Azure Blob Storage, Google Cloud Storage."
   ]
  },
  {
   "cell_type": "markdown",
   "id": "16b20d2a",
   "metadata": {
    "slideshow": {
     "slide_type": "slide"
    }
   },
   "source": [
    "## HDFS"
   ]
  },
  {
   "cell_type": "markdown",
   "id": "c15821ce",
   "metadata": {
    "slideshow": {
     "slide_type": "slide"
    }
   },
   "source": [
    "- HDFS es un sistema de ficheros basado en Java que provee almacenamiento confiable y escalable.\n",
    "- Fue diseñado para abarcar grandes grupos de servidores básicos (commodity servers).\n",
    "- HDFS contiene una gran cantidad de datos y proporciona un acceso a los mismos de manera sencilla y fácil.\n",
    "    - Extraído de: <https://hadoop.apache.org/docs/current/hadoop-project-dist/hadoop-hdfs/HdfsDesign.html>."
   ]
  },
  {
   "cell_type": "markdown",
   "id": "0892dcde",
   "metadata": {
    "slideshow": {
     "slide_type": "slide"
    }
   },
   "source": [
    "- Para almacenar una inmensa cantidad de datos, los ficheros son guardados en varias máquinas. \n",
    "- Estos ficheros son guardados de forma redundante para poder rescatar el sistema en caso de pérdida de datos a causa de fallos."
   ]
  },
  {
   "cell_type": "markdown",
   "id": "370bc649",
   "metadata": {
    "slideshow": {
     "slide_type": "slide"
    }
   },
   "source": [
    "- HDFS también proporciona la disponibilidad de aplicaciones para procesamiento en paralelo durante el paso de ingestión de datos. \n",
    "- HDFS fue construido para soportar aplicaciones con grandes conjuntos de datos, incluyendo ficheros con terabytes de tamaño."
   ]
  },
  {
   "cell_type": "markdown",
   "id": "8f627fb8",
   "metadata": {
    "slideshow": {
     "slide_type": "slide"
    }
   },
   "source": [
    "- Utiliza una arquitectura maestro/esclavo, en la que cada clúster consta de un solo *Namenode* que administra las operaciones del sistema de archivos y admite *Datanodes* que administran el almacenamiento de datos en nodos de cómputo individuales. "
   ]
  },
  {
   "cell_type": "markdown",
   "id": "c9f1a5e9",
   "metadata": {
    "slideshow": {
     "slide_type": "slide"
    }
   },
   "source": [
    "- Cuando HDFS toma datos, divide la información en partes separadas y las distribuye a diferentes nodos en un clúster, lo que permite el procesamiento paralelo. \n",
    "- El sistema de archivos en Ingestión de datos también copia cada pieza de datos varias veces y distribuye las copias a nodos individuales, colocando al menos una copia en un rack de servidor diferente. "
   ]
  },
  {
   "cell_type": "markdown",
   "id": "db1c3b76",
   "metadata": {
    "slideshow": {
     "slide_type": "slide"
    }
   },
   "source": [
    "## Apache Ozone"
   ]
  },
  {
   "cell_type": "markdown",
   "id": "9dffbb96",
   "metadata": {
    "slideshow": {
     "slide_type": "slide"
    }
   },
   "source": [
    "- Ozone es un *object store* escalable, redundante, y distribuído para Hadoop. \n",
    "- Además de escalar a billones de objetos de cualquier tamaño, Ozone puede trabajar puede funcionar de manera efectiva en entornos en contenedores como Kubernetes y YARN.\n",
    "    - Extraído de: <https://ozone.apache.org/>. "
   ]
  },
  {
   "cell_type": "markdown",
   "id": "611ab1bf",
   "metadata": {
    "slideshow": {
     "slide_type": "slide"
    }
   },
   "source": [
    "- Aplicaciones que utilizan frameworks como Apache Spark, YARN y Hive trabajan de forma nativa sin modificaciones.\n",
    "- Ozone está construido en una capa de almacenamiento en bloques altamente disponible y replicada llamada *Hadoop Distributed Data Store (HDDS)*.\n",
    "- Ozone viene un una biblioteca cliente para Java, soporte para el protocolo S3, y una interfaz de línea de comandos."
   ]
  },
  {
   "cell_type": "markdown",
   "id": "2d67c06f",
   "metadata": {
    "slideshow": {
     "slide_type": "slide"
    }
   },
   "source": [
    "- Ozone consta de volúmenes, cubos (*buckets*) y claves:\n",
    "    - Los volúmenes son similares a las cuentas de usuario. Solo los administradores pueden crear o eliminar volúmenes.\n",
    "    - Los cubos son similares a los directorios. Un cubo puede contener cualquier cantidad de claves, pero los cubos no pueden contener otros cubos.\n",
    "    - Las claves son similares a los archivos. "
   ]
  },
  {
   "cell_type": "markdown",
   "id": "e9a19b15",
   "metadata": {
    "slideshow": {
     "slide_type": "slide"
    }
   },
   "source": [
    "## GlusterFS"
   ]
  },
  {
   "cell_type": "markdown",
   "id": "788eed78",
   "metadata": {
    "slideshow": {
     "slide_type": "slide"
    }
   },
   "source": [
    "- Gluster es un sistema de ficheros en red escalable libre y de fuente abierta.\n",
    "    - Extraído de: <https://docs.gluster.org/en/latest/> | <https://www.gluster.org/>"
   ]
  },
  {
   "cell_type": "markdown",
   "id": "7ad08e88",
   "metadata": {
    "slideshow": {
     "slide_type": "fragment"
    }
   },
   "source": [
    "- Los sistemas de almacenamiento de escalamiento horizontal basados en GlusterFS son adecuados para datos no estructurados, como documentos, imágenes, archivos de audio y video, y archivos de registro. \n",
    "- Con esto, podemos crear grandes soluciones de almacenamiento distribuido para transmisión de medios, análisis de datos, ingesta de datos y otras tareas intensivas en datos y ancho de banda."
   ]
  },
  {
   "cell_type": "markdown",
   "id": "7d68b615",
   "metadata": {
    "slideshow": {
     "slide_type": "slide"
    }
   },
   "source": [
    "- La arquitectura GlusterFS agrega recursos informáticos, de almacenamiento y de E/S en un espacio de nombres global.\n",
    "- Cada servidor más el almacenamiento básico adjunto (configurado como almacenamiento adjunto directo, JBOD o utilizando una red de área de almacenamiento) se considera un nodo.\n",
    "     - Extraído de: <https://en.wikipedia.org/wiki/Gluster>. "
   ]
  },
  {
   "cell_type": "markdown",
   "id": "62179ebb",
   "metadata": {
    "slideshow": {
     "slide_type": "slide"
    }
   },
   "source": [
    "- La capacidad se escala agregando nodos adicionales o agregando almacenamiento adicional a cada nodo.\n",
    "- El rendimiento aumenta al implementar el almacenamiento entre más nodos.\n",
    "- La alta disponibilidad se logra mediante la replicación de datos de *n* vías entre nodos."
   ]
  },
  {
   "cell_type": "markdown",
   "id": "4eb20ef5",
   "metadata": {
    "slideshow": {
     "slide_type": "slide"
    }
   },
   "source": [
    "## Ceph"
   ]
  },
  {
   "cell_type": "markdown",
   "id": "1b73dfe9",
   "metadata": {
    "slideshow": {
     "slide_type": "slide"
    }
   },
   "source": [
    "- La base de Ceph es el *Reliable Autonomic Distributed Object Store (RADOS)*\n",
    "- Proporciona a las aplicaciones almacenamiento de objetos, bloques y sistemas de archivos en un solo clúster de almacenamiento unificado.\n",
    "- Esto lo hace altamente confiable y fácil de gestionar.\n",
    "    - Extraído de: <https://ceph.io/>"
   ]
  },
  {
   "cell_type": "markdown",
   "id": "14b73559",
   "metadata": {
    "slideshow": {
     "slide_type": "slide"
    }
   },
   "source": [
    "- El algoritmo CRUSH de Ceph libera a los clústeres de almacenamiento de las limitaciones de escalabilidad y rendimiento impuestas por el mapeo de tablas de datos centralizados.\n",
    "- Replica y reequilibra los datos dentro del clúster de forma dinámica, eliminando esta tediosa tarea para los administradores, al tiempo que ofrece escalabilidad infinita y alto rendimiento."
   ]
  },
  {
   "cell_type": "markdown",
   "id": "c8fbd2a4",
   "metadata": {
    "slideshow": {
     "slide_type": "slide"
    }
   },
   "source": [
    "- Recursos:\n",
    "    - Democratising Data Storage. DIGITAL REPORT 2021:\n",
    "    - <https://ceph.io/assets/pdfs/report-dec2021.pdf>.\n",
    "    - Ceph Quickstart: <https://rook.io/docs/rook/v1.8/quickstart.html>."
   ]
  },
  {
   "cell_type": "markdown",
   "id": "e8b75594",
   "metadata": {
    "slideshow": {
     "slide_type": "slide"
    }
   },
   "source": [
    "## Amazon Services"
   ]
  },
  {
   "cell_type": "markdown",
   "id": "65e29bbe",
   "metadata": {
    "slideshow": {
     "slide_type": "slide"
    }
   },
   "source": [
    "- Amazon Simple Storage Service (Amazon S3) es un almacenamiento de objetos con una interfaz web simple que permite almacenar y recuparar cualquier volumen de datos desde cualquier lugar en Internet.\n",
    "- Está diseñado para entregar un 99.999% de durabilidad y escalar a más de trillones de objetos en todo el mundo.\n",
    "    - Extraído de: <https://aws.amazon.com/free/storage/s3/>."
   ]
  },
  {
   "cell_type": "markdown",
   "id": "22cd62e5",
   "metadata": {
    "slideshow": {
     "slide_type": "slide"
    }
   },
   "source": [
    "- Amazon Redshift es un servicio de *data warehouse* en la nube.\n",
    "- Utiliza SQL para analizar datos estructurados y semiestructurados en almacenamientos de datos, bases de datos operativas y lagos de datos, con hardware y machine learning diseñado por AWS.  \n",
    "- Redshift permite guardar los resultados de las consultas en el *S3 data lake* utilizando formatos abiertos como Apache Parquet para su posterior análisis con Amazon EMR, Amazon Athena, y Amazon SageMaker.\n",
    "    - Extraído de: Amazon Redshift <https://aws.amazon.com/redshift/>"
   ]
  },
  {
   "cell_type": "markdown",
   "id": "eed2d7b0",
   "metadata": {
    "slideshow": {
     "slide_type": "slide"
    }
   },
   "source": [
    "- Todos los servicios de Amazon para análisis en Amazon:\n",
    "    - <https://aws.amazon.com/es/big-data/datalakes-and-analytics/>"
   ]
  },
  {
   "cell_type": "markdown",
   "id": "a51ae8e6",
   "metadata": {
    "slideshow": {
     "slide_type": "slide"
    }
   },
   "source": [
    "## Microsoft Azure Data Lake Store"
   ]
  },
  {
   "cell_type": "markdown",
   "id": "999b6743",
   "metadata": {
    "slideshow": {
     "slide_type": "slide"
    }
   },
   "source": [
    "- Lago de datos seguro y escalable de forma masiva para sus cargas de trabajo de análisis de alto rendimiento.\n",
    "- Fuente: <https://azure.microsoft.com/es-es/services/storage/data-lake-storage/>.\n",
    "- Soluciones en Big Data: <https://azure.microsoft.com/es-es/solutions/big-data/>."
   ]
  },
  {
   "cell_type": "markdown",
   "id": "010d6ce5",
   "metadata": {
    "slideshow": {
     "slide_type": "slide"
    }
   },
   "source": [
    "- Microsoft Azure Data Lake Analytics\n",
    "- Servicio de análisis en la nube para desarrollar y ejecutar fácilmente programas de procesamiento y transformación de petabytes de datos en paralelo de forma masiva con los lenguajes U-SQL, R, Python y .NET. \n",
    "- Sin infraestructura para administrar, se procesan los datos a petición, escalando las unidades de análisis de forma instantánea.\n",
    "- Fuente: <https://azure.microsoft.com/es-es/services/data-lake-analytics/#overview>."
   ]
  },
  {
   "cell_type": "markdown",
   "id": "924d5bc0",
   "metadata": {
    "slideshow": {
     "slide_type": "slide"
    }
   },
   "source": [
    "## Google BigQuery"
   ]
  },
  {
   "cell_type": "markdown",
   "id": "d675a6fc",
   "metadata": {
    "slideshow": {
     "slide_type": "slide"
    }
   },
   "source": [
    "- Almacén de datos multinube de alta escalabilidad, rentable y sin servidor.\n",
    "    - <https://cloud.google.com/bigquery>."
   ]
  },
  {
   "cell_type": "markdown",
   "id": "dbc22bae",
   "metadata": {
    "slideshow": {
     "slide_type": "slide"
    }
   },
   "source": [
    "- Google Cloud Smart Analytics Platform:\n",
    "- Es una plataforma de analíticas flexible, abierta y segura que ayuda a convertirse en una organización basada en la inteligencia. \n",
    "- Se basa en décadas de innovación de Google en el sector de la inteligencia artificial y en el desarrollo de servicios a escala de Internet. \n",
    "    - Extraído de <https://cloud.google.com/solutions/smart-analytics>."
   ]
  },
  {
   "cell_type": "markdown",
   "id": "cfbada30",
   "metadata": {
    "slideshow": {
     "slide_type": "slide"
    }
   },
   "source": [
    "## Databricks"
   ]
  },
  {
   "cell_type": "markdown",
   "id": "ba77a0fa",
   "metadata": {
    "slideshow": {
     "slide_type": "slide"
    }
   },
   "source": [
    "- Fundada en 2013 por los creadores originales de Apache Spark, Delta Lake y MLflow, Databricks reúne ingeniería de datos, ciencia y análisis en una plataforma abierta y unificada para que los equipos de datos puedan colaborar e innovar más rápido. \n",
    "- Está alojada en Microsoft Azure.\n",
    "    - Fuente: <https://databricks.com/>."
   ]
  },
  {
   "cell_type": "markdown",
   "id": "9eb77d0e",
   "metadata": {
    "slideshow": {
     "slide_type": "slide"
    }
   },
   "source": [
    "## Snowflake"
   ]
  },
  {
   "cell_type": "markdown",
   "id": "f1291c79",
   "metadata": {
    "slideshow": {
     "slide_type": "slide"
    }
   },
   "source": [
    "- Permite acceder, integrar y analizar datos de manera fácil y segura con una escalabilidad casi infinita, habilitada automáticamente o sobre la marcha.\n",
    "- Está alojada en Amazon AWS.\n",
    "    - Fuente: <https://www.snowflake.com/>."
   ]
  },
  {
   "cell_type": "markdown",
   "id": "ee90d9df",
   "metadata": {
    "slideshow": {
     "slide_type": "slide"
    }
   },
   "source": [
    "## NoSQL databases"
   ]
  },
  {
   "cell_type": "markdown",
   "id": "fe888dd6",
   "metadata": {
    "slideshow": {
     "slide_type": "slide"
    }
   },
   "source": [
    "- Las bases de datos NoSQL, (no solo SQL) o no relacionales, se utilizan mayoritariamente para la recopilación y análisis de Big Data.\n",
    "- Permiten la organización dinámica de datos no estructurados.\n",
    "- Las bases de datos relacionales, por otro lado, tienen un diseño estructurado y tabular."
   ]
  },
  {
   "cell_type": "markdown",
   "id": "e6bc0302",
   "metadata": {
    "slideshow": {
     "slide_type": "slide"
    }
   },
   "source": [
    "- Existen diversos tipos de bases de datos No SQL:\n",
    "    - Bases de datos de documentos (MongoDB, Couch DB)\n",
    "    - Pares de valores (Amazon DynamoDB, Redis)\n",
    "    - Columnares (Apache Cassandra, Apache HBase)\n",
    "    - Gráficas (Neo4j, Stardog)"
   ]
  },
  {
   "cell_type": "markdown",
   "id": "de526457",
   "metadata": {
    "slideshow": {
     "slide_type": "slide"
    }
   },
   "source": [
    "## Bases de datos de documentos"
   ]
  },
  {
   "cell_type": "markdown",
   "id": "bd19e787",
   "metadata": {
    "slideshow": {
     "slide_type": "slide"
    }
   },
   "source": [
    "## MongoDB"
   ]
  },
  {
   "cell_type": "markdown",
   "id": "3f4340b2",
   "metadata": {
    "slideshow": {
     "slide_type": "slide"
    }
   },
   "source": [
    "- MongoDB es una base de datos distribuida de propósito general, basada en documentos, creada para desarrolladores de aplicaciones modernas y para la era de la nube.\n",
    "- MongoDB es una base de datos de documentos, lo que significa que almacena datos en documentos similares a JSON. \n",
    "    - Fuente: <https://www.mongodb.com/>."
   ]
  },
  {
   "cell_type": "markdown",
   "id": "740934b7",
   "metadata": {
    "slideshow": {
     "slide_type": "slide"
    }
   },
   "source": [
    "## Apache CouchDB"
   ]
  },
  {
   "cell_type": "markdown",
   "id": "3fa7e7b5",
   "metadata": {
    "slideshow": {
     "slide_type": "slide"
    }
   },
   "source": [
    "- Apache CouchDB es una base de datos NoSQL orientada a documentos de código abierto, implementada en Erlang.\n",
    "- CouchDB usa múltiples formatos y protocolos para almacenar, transferir y procesar sus datos.\n",
    "- Utiliza JSON para almacenar datos, JavaScript como lenguaje de consulta usando MapReduce, y HTTP para una API. "
   ]
  },
  {
   "cell_type": "markdown",
   "id": "7ce738b3",
   "metadata": {
    "slideshow": {
     "slide_type": "slide"
    }
   },
   "source": [
    "- El protocolo *Couch Replication* permite que los datos fluyan sin problemas entre los clústeres de servidores y los teléfonos móviles / navegadores web.\n",
    "    - Fuente: <https://couchdb.apache.org/>."
   ]
  },
  {
   "cell_type": "markdown",
   "id": "0fd451d0",
   "metadata": {
    "slideshow": {
     "slide_type": "slide"
    }
   },
   "source": [
    "## Couchbase"
   ]
  },
  {
   "cell_type": "markdown",
   "id": "46068d13",
   "metadata": {
    "slideshow": {
     "slide_type": "slide"
    }
   },
   "source": [
    "- Couchbase es una base de datos en la nube NoSQL distribuida.\n",
    "- Ofrece versatilidad, rendimiento, escalabilidad y un valor financiero inigualables en implementaciones informáticas en la nube, en las instalaciones híbridas, en la nube distribuida y en edge computing.\n",
    "    - Fuente: <https://couchbase.com/>."
   ]
  },
  {
   "cell_type": "markdown",
   "id": "44391125",
   "metadata": {
    "slideshow": {
     "slide_type": "slide"
    }
   },
   "source": [
    "## Bases de datos con pares de valores"
   ]
  },
  {
   "cell_type": "markdown",
   "id": "d58276bf",
   "metadata": {
    "slideshow": {
     "slide_type": "slide"
    }
   },
   "source": [
    "## Redis database"
   ]
  },
  {
   "cell_type": "markdown",
   "id": "b8fc783b",
   "metadata": {
    "slideshow": {
     "slide_type": "slide"
    }
   },
   "source": [
    "- Redis es un almacén de estructura de datos en memoria de código abierto (con licencia BSD), que se utiliza como base de datos, caché y agente de mensajes.\n",
    "    - Fuente: <https://redislabs.com/>."
   ]
  },
  {
   "cell_type": "markdown",
   "id": "87969d6c",
   "metadata": {
    "slideshow": {
     "slide_type": "slide"
    }
   },
   "source": [
    "## Bases de datos columnares"
   ]
  },
  {
   "cell_type": "markdown",
   "id": "55cfee43",
   "metadata": {
    "slideshow": {
     "slide_type": "slide"
    }
   },
   "source": [
    "## Apache Cassandra"
   ]
  },
  {
   "cell_type": "markdown",
   "id": "c36c3a06",
   "metadata": {
    "slideshow": {
     "slide_type": "slide"
    }
   },
   "source": [
    "- Apache Cassandra es una base de datos distribuida NoSQL de código abierto.\n",
    "- La escalabilidad lineal y la tolerancia a fallas comprobada en hardware básico o infraestructura en la nube la convierten en la plataforma perfecta para datos de misión crítica.\n",
    "- El soporte de Cassandra para la replicación en múltiples centros de datos es el mejor en su clase, lo que proporciona una latencia más baja para sus usuarios. \n",
    "    - Fuente: <https://cassandra.apache.org/>."
   ]
  },
  {
   "cell_type": "markdown",
   "id": "eb840625",
   "metadata": {
    "slideshow": {
     "slide_type": "slide"
    }
   },
   "source": [
    "## Apache HBase"
   ]
  },
  {
   "cell_type": "markdown",
   "id": "12baac03",
   "metadata": {
    "slideshow": {
     "slide_type": "slide"
    }
   },
   "source": [
    "- Es una base de datos distribuida no relacional open source modelada en base al artículo científico *Google's Bigtable: A Distributed Storage System for Structured Data* de Chang et al."
   ]
  },
  {
   "cell_type": "markdown",
   "id": "4cce228b",
   "metadata": {
    "slideshow": {
     "slide_type": "fragment"
    }
   },
   "source": [
    "- Así como Bigtable aprovecha el almacenamiento de datos distribuido proporcionado por el sistema de archivos de Google, Apache HBase proporciona capacidades similares a las de Bigtable junto con Hadoop y HDFS.\n",
    "    - Extraído de: Apache HBase Docs & website: <https://hbase.apache.com/>. "
   ]
  },
  {
   "cell_type": "markdown",
   "id": "72f55444",
   "metadata": {
    "slideshow": {
     "slide_type": "slide"
    }
   },
   "source": [
    "## Bases de datos gráficas"
   ]
  },
  {
   "cell_type": "markdown",
   "id": "50bbc8e2",
   "metadata": {
    "slideshow": {
     "slide_type": "slide"
    }
   },
   "source": [
    "## Amazon Neptune"
   ]
  },
  {
   "cell_type": "markdown",
   "id": "4aac08a6",
   "metadata": {
    "slideshow": {
     "slide_type": "slide"
    }
   },
   "source": [
    "- Amazon Neptune es un motor de base de datos de gráficos de alto rendimiento optimizado para almacenar miles de millones de relaciones y consultar el gráfico con una latencia de milisegundos. \n",
    "- Admite los modelos de gráficos populares Property Graph y Resource Description Framework (RDF) del W3C, así como sus lenguajes de consulta asociados, Apache TinkerPop Gremlin y SPARQL.\n",
    "    - Fuente: <https://aws.amazon.com/es/nosql/graph/>.\n",
    "    - <https://aws.amazon.com/es/neptune/>."
   ]
  },
  {
   "cell_type": "markdown",
   "id": "f7c87756",
   "metadata": {
    "slideshow": {
     "slide_type": "slide"
    }
   },
   "source": [
    "## Stardog"
   ]
  },
  {
   "cell_type": "markdown",
   "id": "8cffdaa7",
   "metadata": {
    "slideshow": {
     "slide_type": "slide"
    }
   },
   "source": [
    "- Stardog es la única plataforma de gráficos que conecta datos en la capa de cómputo en lugar de la capa de almacenamiento. \n",
    "- No se necesita migrar las bases de datos ni copiarlas. \n",
    "- Los conectores facilitan la virtualización de datos en Stardog y consultan los datos conectados mediante aplicaciones, herramientas de BI y más. \n",
    "    - Fuente: <https://www.stardog.com/>."
   ]
  },
  {
   "cell_type": "markdown",
   "id": "7d87122e",
   "metadata": {
    "slideshow": {
     "slide_type": "slide"
    }
   },
   "source": [
    "- Cómo funcionan los gráficos de conocimiento: \n",
    "    - <https://www.stardog.com/knowledge-graph/>.\n",
    "- Tutorial Stardog:\n",
    "    - <https://www.stardog.com/tutorials/getting-started-1>."
   ]
  },
  {
   "cell_type": "markdown",
   "id": "924cc993",
   "metadata": {
    "slideshow": {
     "slide_type": "slide"
    }
   },
   "source": [
    "## Neo4j"
   ]
  },
  {
   "cell_type": "markdown",
   "id": "378f892a",
   "metadata": {
    "slideshow": {
     "slide_type": "slide"
    }
   },
   "source": [
    "- Neo4j permite construir aplicaciones y flujos de trabajos de ML.\n",
    "- Almacena y administra datos manteniendo relaciones que brindan consultas veloces, un contexto más profundo para el análisis y un modelo de datos modificable sin complicaciones.\n",
    "    - Fuente: <https://neo4j.com/>."
   ]
  },
  {
   "cell_type": "markdown",
   "id": "7015fb03",
   "metadata": {
    "slideshow": {
     "slide_type": "slide"
    }
   },
   "source": [
    "## Procesamiento, análisis y consulta de datos "
   ]
  },
  {
   "cell_type": "markdown",
   "id": "d869539c",
   "metadata": {
    "slideshow": {
     "slide_type": "slide"
    }
   },
   "source": [
    "- Los datos recolectados en la fase anterior serán procesados en este paso. \n",
    "- Aquí, el sistema de procesamiento de canalización de datos enruta los datos a un destino diferente, clasifica el flujo de datos y es el primer punto donde puede tener lugar el análisis.\n",
    "- Esta es la capa donde las consultas (*queries*) y el proceso analítico activo se ejecutan."
   ]
  },
  {
   "cell_type": "markdown",
   "id": "143713e1",
   "metadata": {
    "slideshow": {
     "slide_type": "slide"
    }
   },
   "source": [
    "- Para ello, los analistas emplean diferentes herramientas y estrategias como, por ejemplo:\n",
    "    - Modelado estadístico\n",
    "    - Algoritmos\n",
    "    - Inteligencia artificial (AI)\n",
    "    - Minería de datos\n",
    "    - Aprendizaje automático (ML)"
   ]
  },
  {
   "cell_type": "markdown",
   "id": "78cabec2",
   "metadata": {
    "slideshow": {
     "slide_type": "slide"
    }
   },
   "source": [
    "- Para análisis fuera de línea, se utiliza un sistema de procesamiento por lotes simple. \n",
    "- Apache Sqoop es la aplicación que se encarga de esto.\n",
    "- Transfiere eficientemente datos estructurados entre Apache Hadoop y las bases de datos relacionales.\n",
    "- Spark por otro lado, es utilizado mayoritariamente para el análisis y procesamiento de datos en tiempo real.\n",
    "- Otra herramienta conocida pero menos utilizada es Apache Storm.\n",
    "    - Extraído de: <https://sqoop.apache.org/>."
   ]
  },
  {
   "cell_type": "markdown",
   "id": "8e673659",
   "metadata": {
    "slideshow": {
     "slide_type": "slide"
    }
   },
   "source": [
    "- KNIME hace que la comprensión de datos y el diseño de flujos de trabajo de ciencia de datos y componentes reutilizables sean accesibles para todos.\n",
    "    - <https://www.knime.com/>.\n",
    "- Apache Mahout es un framework distribuido de álgebra linear y Scala DSL matemáticamente expresivo.  \n",
    "    - <https://mahout.apache.org/>.\n",
    "- Weka 3: Machine Learning Software en Java para hacer análisis simple.\n",
    "    - <https://www.cs.waikato.ac.nz/ml/weka/>."
   ]
  },
  {
   "cell_type": "markdown",
   "id": "ded0f15c",
   "metadata": {
    "slideshow": {
     "slide_type": "slide"
    }
   },
   "source": [
    "## Apache Sqoop (in the Attic) "
   ]
  },
  {
   "cell_type": "markdown",
   "id": "3833c8b6",
   "metadata": {
    "slideshow": {
     "slide_type": "slide"
    }
   },
   "source": [
    "- Transfiere eficientemente datos estructurados entre Apache Hadoop y las bases de datos relacionales.\n",
    "    - Extraído de: <https://sqoop.apache.org/>."
   ]
  },
  {
   "cell_type": "markdown",
   "id": "756d067b",
   "metadata": {
    "slideshow": {
     "slide_type": "slide"
    }
   },
   "source": [
    "- Se puede usar Sqoop para importar datos desde un sistema de administración de bases de datos relacionales (RDBMS) como MySQL, Oracle, o un mainframe al sistema de archivos distribuidos de Hadoop (HDFS), transformar los datos utilizando Hadoop MapReduce, y luego exportar los datos nuevamente a un RDBMS."
   ]
  },
  {
   "cell_type": "markdown",
   "id": "e9918909",
   "metadata": {
    "slideshow": {
     "slide_type": "slide"
    }
   },
   "source": [
    "## Apache Spark"
   ]
  },
  {
   "cell_type": "markdown",
   "id": "486d0928",
   "metadata": {
    "slideshow": {
     "slide_type": "slide"
    }
   },
   "source": [
    "- Framework de procesamiento paralelo y de código abierto para ejecutar aplicaciones de análisis de datos a gran escala en sistemas agrupados.\n",
    "    - Extraído de: <https://spark.apache.org/>."
   ]
  },
  {
   "cell_type": "markdown",
   "id": "69baf8a0",
   "metadata": {
    "slideshow": {
     "slide_type": "slide"
    }
   },
   "source": [
    "- Se utiliza para realizar trabajos informáticos con grandes cargas de datos junto a Apache Kafka. \n",
    "- Fue desarrollado en la University of California, Berkeley.\n",
    "- Con Spark ejecutándose en Apache Hadoop YARN, los desarrolladores pueden crear aplicaciones para explotar el poder de Spark, obtener información y enriquecer sus cargas de trabajo de ciencia de datos dentro de un único conjunto de datos compartidos en Hadoop."
   ]
  },
  {
   "cell_type": "markdown",
   "id": "57eb785f",
   "metadata": {
    "slideshow": {
     "slide_type": "slide"
    }
   },
   "source": [
    "## Apache Storm"
   ]
  },
  {
   "cell_type": "markdown",
   "id": "01001816",
   "metadata": {
    "slideshow": {
     "slide_type": "slide"
    }
   },
   "source": [
    "- Es un sistema distribuido open source para procesar datos en tiempo real durante la ingesta de datos. \n",
    "- Es escalable, tiene tolerancia a fallos, y es fácil de configurar y operar.\n",
    "- Facilita el procesamiento confiable de flujos ilimitados de datos, haciendo para el procesamiento en tiempo real lo que Hadoop hizo para el procesamiento por lotes.\n",
    "    - Extraído de: <https://storm.apache.org/>."
   ]
  },
  {
   "cell_type": "markdown",
   "id": "1f89507b",
   "metadata": {
    "slideshow": {
     "slide_type": "slide"
    }
   },
   "source": [
    "- Casos de uso:\n",
    "    - Análisis en tiempo real\n",
    "    - Aprendizaje automático\n",
    "    - Monitoreo continuo de operaciones\n",
    "    - RPC distribuido, ETL, y más."
   ]
  },
  {
   "cell_type": "markdown",
   "id": "e42df12c",
   "metadata": {
    "slideshow": {
     "slide_type": "slide"
    }
   },
   "source": [
    "## Visualización de datos (Big Data Visualization)"
   ]
  },
  {
   "cell_type": "markdown",
   "id": "497ce4da",
   "metadata": {
    "slideshow": {
     "slide_type": "slide"
    }
   },
   "source": [
    "- La fase de visualización o presentación es donde los usuarios pueden sentir el VALOR de los DATOS. \n",
    "- La visualización de hallazgos ayuda a tomar mejores decisiones de negocios.\n",
    "- Aquí se generan informes por tipo de audiencia (comerciales, marketing, estrategia, técnicos, etc)."
   ]
  },
  {
   "cell_type": "markdown",
   "id": "433fb9e2",
   "metadata": {
    "slideshow": {
     "slide_type": "slide"
    }
   },
   "source": [
    "## Elastic Stack"
   ]
  },
  {
   "cell_type": "markdown",
   "id": "67e338e5",
   "metadata": {
    "slideshow": {
     "slide_type": "slide"
    }
   },
   "source": [
    "- Elasticsearch es el componente central de Elastic Stack, un conjunto de herramientas de código abierto para la ingesta, el enriquecimiento, el almacenamiento, el análisis y la visualización de datos.\n",
    "- El ELK Stack se compone de las aplicaciones Elasticsearch, Logstash, Kibana, y Beats.\n",
    "- Actualmente se lo conoce como Elastic Stack, nombre que le permite agregar nuevas funcionalidades.\n",
    "- Kibana es la interfaz de usuario gratuita y abierta que permite visualizar los datos."
   ]
  },
  {
   "cell_type": "markdown",
   "id": "f8098436",
   "metadata": {
    "slideshow": {
     "slide_type": "fragment"
    }
   },
   "source": [
    "- Fuente: <https://www.elastic.co/what-is/elasticsearch>."
   ]
  },
  {
   "cell_type": "markdown",
   "id": "2fccf0c1",
   "metadata": {
    "slideshow": {
     "slide_type": "slide"
    }
   },
   "source": [
    "- Casos de uso:\n",
    "    - Búsqueda de aplicaciones\n",
    "    - Búsqueda de sitio web\n",
    "    - Búsqueda Empresarial\n",
    "    - Logging y analíticas de log\n",
    "    - Métricas de infraestructura y monitoreo de contenedores\n",
    "    - Monitoreo de rendimiento de aplicaciones\n",
    "    - Análisis y visualización de datos geoespaciales\n",
    "    - Analítica de Seguridad\n",
    "    - Analítica de Negocios"
   ]
  },
  {
   "cell_type": "markdown",
   "id": "7151e3ee",
   "metadata": {
    "slideshow": {
     "slide_type": "slide"
    }
   },
   "source": [
    "## Salesforce, Google y Microsoft"
   ]
  },
  {
   "cell_type": "markdown",
   "id": "3fe1c7d9",
   "metadata": {
    "slideshow": {
     "slide_type": "slide"
    }
   },
   "source": [
    "- Otras herramientas de modelización y visualización de datos son las proporcionadas por Salesforce, Google y Microsoft.\n",
    "- Salesforce adquirió Tableau y google hizo lo mismo con Looker en 2019.\n",
    "- La reciente integración entre estos productos le permitirán al usuario modelar datos con LookML y usar Tableau, o Looker para explorar ese modelo."
   ]
  },
  {
   "cell_type": "markdown",
   "id": "e4ba20b9",
   "metadata": {
    "slideshow": {
     "slide_type": "fragment"
    }
   },
   "source": [
    "- <https://looker.com/google-cloud>.\n",
    "- <https://www.tableau.com/>."
   ]
  },
  {
   "cell_type": "markdown",
   "id": "18a31a05",
   "metadata": {
    "slideshow": {
     "slide_type": "slide"
    }
   },
   "source": [
    "- Microsoft cuenta por su parte con PowerBI.\n",
    "    - <https://powerbi.microsoft.com/es-es/>."
   ]
  },
  {
   "cell_type": "markdown",
   "id": "bf445b3b",
   "metadata": {
    "slideshow": {
     "slide_type": "slide"
    }
   },
   "source": [
    "## Monitoreo de datos"
   ]
  },
  {
   "cell_type": "markdown",
   "id": "758a75a9",
   "metadata": {
    "slideshow": {
     "slide_type": "slide"
    }
   },
   "source": [
    "- El seguimiento continuo de los datos es una parte importante de los mecanismos de gobernanza.\n",
    "- Apache Flume es útil para procesar datos de registro.\n",
    "- Apache Storm se utiliza para el monitoreo de operaciones.\n",
    "- Apache Spark sirve para transmisión de datos, procesamiento de gráficos y aprendizaje automático.\n",
    "- El monitoreo puede ocurrir en el paso de almacenamiento de datos."
   ]
  },
  {
   "cell_type": "markdown",
   "id": "6244c581",
   "metadata": {
    "slideshow": {
     "slide_type": "slide"
    }
   },
   "source": [
    "## Herramientas para Big Data"
   ]
  },
  {
   "cell_type": "markdown",
   "id": "246e9036",
   "metadata": {
    "slideshow": {
     "slide_type": "slide"
    }
   },
   "source": [
    "## Apache Mesos"
   ]
  },
  {
   "cell_type": "markdown",
   "id": "da749aa7",
   "metadata": {
    "slideshow": {
     "slide_type": "slide"
    }
   },
   "source": [
    "- Un núcleo (*kernel*) de sistemas distribuidos.\n",
    "- Mesos está construido usando los mismos principios que el *kernel* de Linux, solo que en un nivel diferente de abstracción.\n",
    "- abstrae la CPU, la memoria, el almacenamiento y otros recursos informáticos de las máquinas (físicas o virtuales), lo que permite que los sistemas distribuidos elásticos y tolerantes a fallas se construyan fácilmente y se ejecuten de manera efectiva."
   ]
  },
  {
   "cell_type": "markdown",
   "id": "3406c42c",
   "metadata": {
    "slideshow": {
     "slide_type": "fragment"
    }
   },
   "source": [
    "- El *kernel* de Mesos se ejecuta en todas las máquinas y proporciona aplicaciones (p. ej., Hadoop, Spark, Kafka, Elasticsearch) y una API para la gestión y programación de recursos para todo el centro de datos y entornos de nube.\n",
    "    - Extraído de: <https://mesos.apache.org/>."
   ]
  },
  {
   "cell_type": "markdown",
   "id": "759636e6",
   "metadata": {
    "slideshow": {
     "slide_type": "slide"
    }
   },
   "source": [
    "## Apache Zookeeper"
   ]
  },
  {
   "cell_type": "markdown",
   "id": "786e3754",
   "metadata": {
    "slideshow": {
     "slide_type": "slide"
    }
   },
   "source": [
    "- ZooKeeper es un servicio centralizado para mantener la información de configuración, nombrar, brindar sincronización distribuida y servicios grupales.\n",
    "    - Extraído de: <https://zookeeper.apache.org/>. "
   ]
  },
  {
   "cell_type": "markdown",
   "id": "60b85ea0",
   "metadata": {
    "slideshow": {
     "slide_type": "slide"
    }
   },
   "source": [
    "## Apache Ambari (in the Attic) "
   ]
  },
  {
   "cell_type": "markdown",
   "id": "5930acad",
   "metadata": {
    "slideshow": {
     "slide_type": "slide"
    }
   },
   "source": [
    "- El proyecto Apache Ambari tiene como objetivo simplificar la administración de Hadoop mediante el desarrollo de software para el aprovisionamiento, la administración y el monitoreo de clústeres de Apache Hadoop.\n",
    "- Ambari proporciona una interfaz de usuario web de administración de Hadoop intuitiva y fácil de usar respaldada por sus API RESTful. \n",
    "    - Extraído de: <https://ambari.apache.org/>. "
   ]
  },
  {
   "cell_type": "markdown",
   "id": "581b2b91",
   "metadata": {
    "slideshow": {
     "slide_type": "slide"
    }
   },
   "source": [
    "## Apache Ranger"
   ]
  },
  {
   "cell_type": "markdown",
   "id": "ec4d5e78",
   "metadata": {
    "slideshow": {
     "slide_type": "slide"
    }
   },
   "source": [
    "- Apache Ranger™ es un framework para habilitar, monitorear y administrar la seguridad integral de los datos en toda la plataforma Hadoop.\n",
    "    - Extraído de: <https://ranger.apache.org/>. "
   ]
  },
  {
   "cell_type": "markdown",
   "id": "86b17935",
   "metadata": {
    "slideshow": {
     "slide_type": "slide"
    }
   },
   "source": [
    "## Apache Sentry"
   ]
  },
  {
   "cell_type": "markdown",
   "id": "556db67c",
   "metadata": {
    "slideshow": {
     "slide_type": "slide"
    }
   },
   "source": [
    "- Apache Sentry™ es un sistema para hacer cumplir la autorización detallada basada en roles para datos y metadatos almacenados en un clúster de Hadoop.\n",
    "    - Extraído de: <https://sentry.apache.org/>. "
   ]
  },
  {
   "cell_type": "markdown",
   "id": "662ec080",
   "metadata": {
    "slideshow": {
     "slide_type": "slide"
    }
   },
   "source": [
    "## Apache Airflow"
   ]
  },
  {
   "cell_type": "markdown",
   "id": "015994de",
   "metadata": {
    "slideshow": {
     "slide_type": "slide"
    }
   },
   "source": [
    "- Apache Airflow es una plataforma que permite crear, programar temporalmente, y monitorar flujos de trabajo utilizando Python como lenguaje.\n",
    "- Automatiza la ingestas de datos, acciones de mantenimiento periódicas y realiza tareas de administración.\n",
    "    - Extraído de: <https://airflow.apache.org/>. "
   ]
  },
  {
   "cell_type": "markdown",
   "id": "f1454aa2",
   "metadata": {
    "slideshow": {
     "slide_type": "slide"
    }
   },
   "source": [
    "- Un flujo de trabajo de ejemplo puede ser:\n",
    "    - Obtener datos de una base de datos relacional como PosgreSQL para enviarlos a Kafka. \n",
    "    - Transformar los datos con Apache Spark y finalmente enviar un mensaje de finalización."
   ]
  }
 ],
 "metadata": {
  "celltoolbar": "Slideshow",
  "kernelspec": {
   "display_name": "Python 3 (ipykernel)",
   "language": "python",
   "name": "python3"
  },
  "language_info": {
   "codemirror_mode": {
    "name": "ipython",
    "version": 3
   },
   "file_extension": ".py",
   "mimetype": "text/x-python",
   "name": "python",
   "nbconvert_exporter": "python",
   "pygments_lexer": "ipython3",
   "version": "3.10.12"
  },
  "toc": {
   "base_numbering": 1,
   "nav_menu": {},
   "number_sections": true,
   "sideBar": true,
   "skip_h1_title": false,
   "title_cell": "Table of Contents",
   "title_sidebar": "Contents",
   "toc_cell": false,
   "toc_position": {},
   "toc_section_display": true,
   "toc_window_display": false
  },
  "widgets": {
   "application/vnd.jupyter.widget-state+json": {
    "state": {},
    "version_major": 2,
    "version_minor": 0
   }
  }
 },
 "nbformat": 4,
 "nbformat_minor": 5
}