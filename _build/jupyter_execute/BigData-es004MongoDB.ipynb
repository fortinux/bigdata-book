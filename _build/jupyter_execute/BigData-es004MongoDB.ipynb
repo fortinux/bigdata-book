{
 "cells": [
  {
   "cell_type": "markdown",
   "id": "149cb3a8",
   "metadata": {
    "slideshow": {
     "slide_type": "slide"
    }
   },
   "source": [
    "# Tutorial MongoDB"
   ]
  },
  {
   "cell_type": "markdown",
   "id": "3f4340b2",
   "metadata": {
    "slideshow": {
     "slide_type": "slide"
    }
   },
   "source": [
    "- MongoDB es una base de datos distribuida de propósito general y basada en documentos.\n",
    "- Fue creada para el desarrollo de aplicaciones modernas y para la era de la nube.\n",
    "- Es una base de datos de documentos, lo que significa que almacena datos en documentos similares a JSON. \n",
    "    - Fuente: <https://www.mongodb.com/>"
   ]
  },
  {
   "cell_type": "markdown",
   "id": "b3b6cf3f",
   "metadata": {
    "slideshow": {
     "slide_type": "slide"
    }
   },
   "source": [
    "## Versiones de MongoDB"
   ]
  },
  {
   "cell_type": "markdown",
   "id": "8db6d888",
   "metadata": {
    "slideshow": {
     "slide_type": "slide"
    }
   },
   "source": [
    "- MongoDB Community es la fuente disponible y la edición de uso gratuito de MongoDB.\n",
    "- MongoDB Enterprise está disponible como parte de la suscripción MongoDB Enterprise Advanced e incluye soporte integral para su implementación de MongoDB.\n",
    "- MongoDB Enterprise también agrega funciones centradas en la empresa, como compatibilidad con LDAP y Kerberos, cifrado en disco y auditoría."
   ]
  },
  {
   "cell_type": "markdown",
   "id": "2799373e",
   "metadata": {
    "slideshow": {
     "slide_type": "slide"
    }
   },
   "source": [
    "- MongoDB también ofrece Atlas, una opción de servicio alojado de MongoDB Enterprise en la nube que no requiere gastos generales de instalación y ofrece un nivel gratuito para comenzar.\n",
    "- <https://www.mongodb.com/cloud/atlas/signup>"
   ]
  },
  {
   "cell_type": "markdown",
   "id": "abc3061f",
   "metadata": {
    "slideshow": {
     "slide_type": "slide"
    }
   },
   "source": [
    "## MongoDB paso a paso"
   ]
  },
  {
   "cell_type": "markdown",
   "id": "ec0269d7",
   "metadata": {
    "slideshow": {
     "slide_type": "slide"
    }
   },
   "source": [
    "- Adaptado del tutorial <https://docs.atlas.mongodb.com/tutorial/deploy-free-tier-cluster/>."
   ]
  },
  {
   "cell_type": "markdown",
   "id": "072b74b8",
   "metadata": {
    "slideshow": {
     "slide_type": "slide"
    }
   },
   "source": [
    "- Crear una cuenta gratuita y entrar a:\n",
    "    - MongoDB Atlas: https://account.mongodb.com/account/login?"
   ]
  },
  {
   "cell_type": "markdown",
   "id": "a6c3fe16",
   "metadata": {
    "slideshow": {
     "slide_type": "slide"
    }
   },
   "source": [
    "- Crear una base de datos compartida gratuita:\n",
    "    - Opción Deploy a cloud database \n",
    "    - Free shared"
   ]
  },
  {
   "cell_type": "markdown",
   "id": "8cfd3258",
   "metadata": {
    "slideshow": {
     "slide_type": "slide"
    }
   },
   "source": [
    "- Parámetros:\n",
    "    - Región y proveedor cloud: seleccionar gratuitos (Frankfurt, Paris, Irlanda...)\n",
    "    - Cluster Tier: M0 Sandbox (Shared RAM, 512 MB Storage)\n",
    "    - MongoDB 5.0, No Backup \n",
    "    - Nombre al cluster: Cluster0"
   ]
  },
  {
   "cell_type": "markdown",
   "id": "cfbada30",
   "metadata": {
    "slideshow": {
     "slide_type": "slide"
    }
   },
   "source": [
    "- Crear un/a usuaria/o para la base de datos: \n",
    "    - Nombre de usuario: usuaria/o\n",
    "    - Clave:\n",
    "- Asignar clave al usuario *dbTestUser*"
   ]
  },
  {
   "cell_type": "markdown",
   "id": "ba77a0fa",
   "metadata": {
    "slideshow": {
     "slide_type": "slide"
    }
   },
   "source": [
    "- En la vista del Cluster0 en la página principal clicar en *Connect*\n",
    "    - Seleccionar *connection security -> Connect using MongoDB Compass* \n",
    "    - Descargar e instalar *MongoDB Compass*\n",
    "    - Copiar el enlace de acceso, por ejemplo: \n",
    "    <mongodb+srv://dbTestUser:<password>@cluster_name.h1a5h.mongodb.net/test>"
   ]
  },
  {
   "cell_type": "markdown",
   "id": "759636e6",
   "metadata": {
    "slideshow": {
     "slide_type": "slide"
    }
   },
   "source": [
    "- A la Izquierda, desde el menú *Security* seleccionar *Network Access*\n",
    "- Agregar la propia IP para conectarse a la base de datos"
   ]
  },
  {
   "cell_type": "markdown",
   "id": "786e3754",
   "metadata": {
    "slideshow": {
     "slide_type": "slide"
    }
   },
   "source": [
    "- OPCIONAL: \n",
    "- Descargar e instalar la shell mongosh: \n",
    "    <https://docs.atlas.mongodb.com/tutorial/connect-to-your-cluster/>"
   ]
  },
  {
   "cell_type": "markdown",
   "id": "60b85ea0",
   "metadata": {
    "slideshow": {
     "slide_type": "slide"
    }
   },
   "source": [
    "- Abrir *MongoDB Compass* y conectarse al cluster:\n",
    "- <mongodb+srv://dbTestUser:<password>@cluster0.h1a5h.mongodb.net/test>"
   ]
  },
  {
   "cell_type": "markdown",
   "id": "5930acad",
   "metadata": {
    "slideshow": {
     "slide_type": "slide"
    }
   },
   "source": [
    "- Una vez conectada la base de datos, se utiliza la shell *MongoSH* localizada en la parte inferior de la pantalla para crear una base de datos:"
   ]
  },
  {
   "cell_type": "markdown",
   "id": "2d6fbf73-f0d6-48ea-aaa8-117734628860",
   "metadata": {
    "slideshow": {
     "slide_type": "slide"
    }
   },
   "source": [
    "use gettingStarted"
   ]
  },
  {
   "cell_type": "markdown",
   "id": "d7e16af7",
   "metadata": {
    "slideshow": {
     "slide_type": "slide"
    }
   },
   "source": [
    "- Inserir un documento en la base de datos:"
   ]
  },
  {
   "cell_type": "markdown",
   "id": "39635ad1-9962-4883-9321-1c7e11012a43",
   "metadata": {
    "slideshow": {
     "slide_type": "slide"
    }
   },
   "source": [
    "db.people.insertOne({\n",
    "  name: { first: 'Alan', last: 'Turing' },\n",
    "  birth: new Date('Jun 23, 1912'),\n",
    "  death: new Date('Jun 07, 1954'),\n",
    "  contribs: [ 'Turing machine', 'Turing test', 'Turingery' ],\n",
    "  views : Long(1250000)\n",
    "})"
   ]
  },
  {
   "cell_type": "markdown",
   "id": "d8754350",
   "metadata": {
    "slideshow": {
     "slide_type": "slide"
    }
   },
   "source": [
    "- Verificar si está todo correcto:"
   ]
  },
  {
   "cell_type": "markdown",
   "id": "dceb4f41-b1ca-4d31-aaf9-7d02b328f741",
   "metadata": {
    "slideshow": {
     "slide_type": "slide"
    }
   },
   "source": [
    "db.people.find({ \"name.last\": \"Turing\" })"
   ]
  },
  {
   "cell_type": "markdown",
   "id": "f59b4c53",
   "metadata": {
    "slideshow": {
     "slide_type": "slide"
    }
   },
   "source": [
    "## Consultar documentos"
   ]
  },
  {
   "cell_type": "markdown",
   "id": "19da143f",
   "metadata": {
    "slideshow": {
     "slide_type": "slide"
    }
   },
   "source": [
    "- Adaptado del tutorial <https://docs.mongodb.com/manual/tutorial/query-documents/>"
   ]
  },
  {
   "cell_type": "markdown",
   "id": "f4ccc84e",
   "metadata": {
    "slideshow": {
     "slide_type": "slide"
    }
   },
   "source": [
    "- Crear una nueva base de datos llamada \"inventario\":"
   ]
  },
  {
   "cell_type": "markdown",
   "id": "b256cc27-a562-4501-ab69-119a21bc9e30",
   "metadata": {
    "slideshow": {
     "slide_type": "slide"
    }
   },
   "source": [
    "use inventario"
   ]
  },
  {
   "cell_type": "markdown",
   "id": "8122cb08",
   "metadata": {
    "slideshow": {
     "slide_type": "slide"
    }
   },
   "source": [
    "- Ingresar datos en la base de datos:"
   ]
  },
  {
   "cell_type": "markdown",
   "id": "dd4796a7-505e-4555-ad05-101fb5fcdacd",
   "metadata": {
    "slideshow": {
     "slide_type": "slide"
    }
   },
   "source": [
    "db.inventario.insertMany([\n",
    "   { item: \"journal\", qty: 25, size: { h: 14, w: 21, uom: \"cm\" }, status: \"A\" },\n",
    "   { item: \"notebook\", qty: 50, size: { h: 8.5, w: 11, uom: \"in\" }, status: \"A\" },\n",
    "   { item: \"paper\", qty: 100, size: { h: 8.5, w: 11, uom: \"in\" }, status: \"D\" },\n",
    "   { item: \"planner\", qty: 75, size: { h: 22.85, w: 30, uom: \"cm\" }, status: \"D\" },\n",
    "   { item: \"postcard\", qty: 45, size: { h: 10, w: 15.25, uom: \"cm\" }, status: \"A\" }\n",
    "]);"
   ]
  },
  {
   "cell_type": "markdown",
   "id": "288a575f",
   "metadata": {
    "slideshow": {
     "slide_type": "slide"
    }
   },
   "source": [
    "- Seleccionar todos los documentos en \"inventario\":"
   ]
  },
  {
   "cell_type": "markdown",
   "id": "71a2a948-d34a-46a0-bd40-e9fa1f795864",
   "metadata": {
    "slideshow": {
     "slide_type": "slide"
    }
   },
   "source": [
    "db.inventario.find( {} )"
   ]
  },
  {
   "cell_type": "markdown",
   "id": "0892dcde",
   "metadata": {
    "slideshow": {
     "slide_type": "slide"
    }
   },
   "source": [
    "- Esta orden es similar a la utilizada en SQL: `SELECT * FROM inventario`"
   ]
  },
  {
   "cell_type": "markdown",
   "id": "370bc649",
   "metadata": {
    "slideshow": {
     "slide_type": "slide"
    }
   },
   "source": [
    "- Seleccionar todos los documentos donde la clave \"status\" es igual a \"D\":"
   ]
  },
  {
   "cell_type": "markdown",
   "id": "ca31159f-c684-4cd5-9d35-bb11d0a29960",
   "metadata": {
    "slideshow": {
     "slide_type": "slide"
    }
   },
   "source": [
    "db.inventario.find( { status: \"D\" } )"
   ]
  },
  {
   "cell_type": "markdown",
   "id": "20be1a28-baf5-439c-ad29-d54ad76f492c",
   "metadata": {
    "slideshow": {
     "slide_type": "slide"
    }
   },
   "source": [
    "SELECT * FROM inventario WHERE status = \"D\""
   ]
  },
  {
   "cell_type": "markdown",
   "id": "788eed78",
   "metadata": {
    "slideshow": {
     "slide_type": "slide"
    }
   },
   "source": [
    "- Mostrar todos los documents de \"inventario\" donde \"status\" es igual a \"A\" o \"D\":"
   ]
  },
  {
   "cell_type": "markdown",
   "id": "1cef8802-ad83-4d26-b31f-772045ac16e9",
   "metadata": {
    "slideshow": {
     "slide_type": "slide"
    }
   },
   "source": [
    "db.inventario.find( { status: { $in: [ \"A\", \"D\" ] } } )"
   ]
  },
  {
   "cell_type": "markdown",
   "id": "58639b97-de7e-4df8-9842-b028dab3d3d5",
   "metadata": {
    "slideshow": {
     "slide_type": "slide"
    }
   },
   "source": [
    "SELECT * FROM inventario WHERE status in (\"A\", \"D\")"
   ]
  },
  {
   "cell_type": "markdown",
   "id": "14b73559",
   "metadata": {
    "slideshow": {
     "slide_type": "slide"
    }
   },
   "source": [
    "- Recuperar todos los documentos de \"inventario\" donde \"status\" es igual a \"A\" y \"qty\" es menor que ($lt) 30:"
   ]
  },
  {
   "cell_type": "markdown",
   "id": "d5085dae-2051-4ac9-9602-65a7198e2823",
   "metadata": {
    "slideshow": {
     "slide_type": "slide"
    }
   },
   "source": [
    "db.inventario.find( { status: \"A\", qty: { $lt: 30 } } )"
   ]
  },
  {
   "cell_type": "markdown",
   "id": "94b02f23-5e7a-42f9-9d3e-d45124e7c912",
   "metadata": {
    "slideshow": {
     "slide_type": "slide"
    }
   },
   "source": [
    "SELECT * FROM inventario WHERE status = \"A\" AND qty < 30"
   ]
  },
  {
   "cell_type": "markdown",
   "id": "143713e1",
   "metadata": {
    "slideshow": {
     "slide_type": "slide"
    }
   },
   "source": [
    "- Recuperar todos los documentos de \"inventario\" donde \"status\" es igual a \"A\" o \"qty\" es menor que ($lt) 30:"
   ]
  },
  {
   "cell_type": "markdown",
   "id": "2a50437a-5f64-4a07-9b10-cb9f80c030ad",
   "metadata": {
    "slideshow": {
     "slide_type": "slide"
    }
   },
   "source": [
    "db.inventario.find( { $or: [ { status: \"A\" }, { qty: { $lt: 30 } } ] } )"
   ]
  },
  {
   "cell_type": "markdown",
   "id": "de3bf98a-a2fb-4d7f-9ea6-3d22f3899f5f",
   "metadata": {
    "slideshow": {
     "slide_type": "slide"
    }
   },
   "source": [
    "SELECT * FROM inventario WHERE status = \"A\" OR qty < 30"
   ]
  },
  {
   "cell_type": "markdown",
   "id": "7299983b",
   "metadata": {
    "slideshow": {
     "slide_type": "slide"
    }
   },
   "source": [
    "- Recuperar todos los documentos de \"inventario\" donde \"status\" es igual a \"A\" y/o \"qty\" es menor que ($lt) 30, o item comienza con la letra p:"
   ]
  },
  {
   "cell_type": "markdown",
   "id": "54501168-ebc9-48c4-b820-30e2c6179547",
   "metadata": {
    "slideshow": {
     "slide_type": "slide"
    }
   },
   "source": [
    "db.inventario.find( {\n",
    "     status: \"A\",\n",
    "     $or: [ { qty: { $lt: 30 } }, { item: /^p/ } ]\n",
    "} )"
   ]
  },
  {
   "cell_type": "markdown",
   "id": "748b93c1-47e1-459f-8147-a8cc78aa8357",
   "metadata": {
    "slideshow": {
     "slide_type": "slide"
    }
   },
   "source": [
    "SELECT * FROM inventario WHERE status = \"A\" AND ( qty < 30 OR item LIKE \"p%\")"
   ]
  }
 ],
 "metadata": {
  "celltoolbar": "Slideshow",
  "kernelspec": {
   "display_name": "Python 3 (ipykernel)",
   "language": "python",
   "name": "python3"
  },
  "language_info": {
   "codemirror_mode": {
    "name": "ipython",
    "version": 3
   },
   "file_extension": ".py",
   "mimetype": "text/x-python",
   "name": "python",
   "nbconvert_exporter": "python",
   "pygments_lexer": "ipython3",
   "version": "3.10.12"
  },
  "widgets": {
   "application/vnd.jupyter.widget-state+json": {
    "state": {},
    "version_major": 2,
    "version_minor": 0
   }
  }
 },
 "nbformat": 4,
 "nbformat_minor": 5
}