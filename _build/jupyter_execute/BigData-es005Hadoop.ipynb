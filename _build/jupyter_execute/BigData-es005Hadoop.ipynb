{
 "cells": [
  {
   "cell_type": "markdown",
   "id": "149cb3a8",
   "metadata": {
    "slideshow": {
     "slide_type": "slide"
    }
   },
   "source": [
    "# Tutorial Apache Hadoop"
   ]
  },
  {
   "cell_type": "markdown",
   "id": "65fd69cf",
   "metadata": {
    "slideshow": {
     "slide_type": "slide"
    }
   },
   "source": [
    "- El proyecto Apache™ Hadoop® desarrolla software de código abierto para computación distribuida, escalable y confiable.\n",
    "    - Extraído de: <https://hadoop.apache.org/>."
   ]
  },
  {
   "cell_type": "markdown",
   "id": "922ca41e",
   "metadata": {
    "slideshow": {
     "slide_type": "slide"
    }
   },
   "source": [
    "- Apache Hadoop es un framework para el procesamiento distribuido de grandes conjuntos de datos en grupos de computadoras que utilizan modelos de programación simples.\n",
    "- Diseñado para escalar desde servidores individuales a miles de máquinas, cada una de las cuales ofrece computación y almacenamiento locales."
   ]
  },
  {
   "cell_type": "markdown",
   "id": "75ecd98a",
   "metadata": {
    "slideshow": {
     "slide_type": "slide"
    }
   },
   "source": [
    "- En lugar de depender del hardware para brindar alta disponibilidad, la biblioteca en sí está diseñada para detectar y manejar fallas en la capa de la aplicación, por lo que brinda un servicio de alta disponibilidad sobre un grupo de computadoras, cada una de las cuales puede ser propensa a fallas."
   ]
  },
  {
   "cell_type": "markdown",
   "id": "abc3061f",
   "metadata": {
    "slideshow": {
     "slide_type": "slide"
    }
   },
   "source": [
    "## Configuración inicial"
   ]
  },
  {
   "cell_type": "markdown",
   "id": "7dac7572",
   "metadata": {
    "slideshow": {
     "slide_type": "slide"
    }
   },
   "source": [
    "- La máquina virtual con Hadoop instalado se descarga de:\n",
    "- <https://bitnami.com/stack/hadoop/virtual-machine>.\n",
    "- Se puede acceder a la información sobre la configuración predeterminada de la máquina virtual de Bitnami en:\n",
    "- <https://docs.bitnami.com/virtual-machine/apps/hadoop/get-started/understand-default-config/>."
   ]
  },
  {
   "cell_type": "markdown",
   "id": "ec0269d7",
   "metadata": {
    "slideshow": {
     "slide_type": "slide"
    }
   },
   "source": [
    "- Una vez instalado Apache Hadoop se deberán abrir los puertos del servidor para los distintos servicios web del framework."
   ]
  },
  {
   "cell_type": "markdown",
   "id": "e6c2dba2-6499-46b5-bdb1-babb6aacbcf4",
   "metadata": {
    "slideshow": {
     "slide_type": "fragment"
    }
   },
   "source": [
    "sudo ufw allow 8042, 8088, 8188, 19888, 9780, 9868, 9864, 10002 proto tcp"
   ]
  },
  {
   "cell_type": "markdown",
   "id": "a6c3fe16",
   "metadata": {
    "slideshow": {
     "slide_type": "slide"
    }
   },
   "source": [
    "- Mostrar el estado de los servicios"
   ]
  },
  {
   "cell_type": "markdown",
   "id": "be8f911a-ab9d-4c19-8a36-d7c304a8d848",
   "metadata": {
    "slideshow": {
     "slide_type": "fragment"
    }
   },
   "source": [
    "sudo /opt/bitnami/ctlscript.sh status"
   ]
  },
  {
   "cell_type": "markdown",
   "id": "cfbada30",
   "metadata": {
    "slideshow": {
     "slide_type": "slide"
    }
   },
   "source": [
    "- Iniciar un servicio"
   ]
  },
  {
   "cell_type": "markdown",
   "id": "b1978f10-1df1-4a6f-8156-73f9d6bd8261",
   "metadata": {
    "slideshow": {
     "slide_type": "fragment"
    }
   },
   "source": [
    "sudo /opt/bitnami/ctlscript.sh start"
   ]
  },
  {
   "cell_type": "markdown",
   "id": "759636e6",
   "metadata": {
    "slideshow": {
     "slide_type": "slide"
    }
   },
   "source": [
    "- Reiniciar un servicio"
   ]
  },
  {
   "cell_type": "markdown",
   "id": "6cccee56-9692-4414-8b88-fff99539fe8a",
   "metadata": {
    "slideshow": {
     "slide_type": "fragment"
    }
   },
   "source": [
    "sudo /opt/bitnami/ctlscript.sh restart apache"
   ]
  },
  {
   "cell_type": "markdown",
   "id": "60b85ea0",
   "metadata": {
    "slideshow": {
     "slide_type": "slide"
    }
   },
   "source": [
    "- Detener todos los servicios"
   ]
  },
  {
   "cell_type": "markdown",
   "id": "35976047-0abb-4c0e-8771-2195b1d7f541",
   "metadata": {
    "slideshow": {
     "slide_type": "fragment"
    }
   },
   "source": [
    "sudo /opt/bitnami/ctlscript.sh stop"
   ]
  },
  {
   "cell_type": "markdown",
   "id": "d7e16af7",
   "metadata": {
    "slideshow": {
     "slide_type": "slide"
    }
   },
   "source": [
    "## Ejecutar tareas de pruebas en Hadoop "
   ]
  },
  {
   "cell_type": "markdown",
   "id": "d8754350",
   "metadata": {
    "slideshow": {
     "slide_type": "slide"
    }
   },
   "source": [
    "- Ejecutar una tarea (job) de test en Hadoop con mapreduce\n",
    "- Este ejemplo obtiene una estimación del número PI"
   ]
  },
  {
   "cell_type": "markdown",
   "id": "8da8f8ae-1322-41e8-9887-88cd888d158b",
   "metadata": {
    "slideshow": {
     "slide_type": "fragment"
    }
   },
   "source": [
    "hadoop jar /opt/bitnami/hadoop/share/hadoop/mapreduce/hadoop-mapreduce-examples-*.jar pi 10 100"
   ]
  },
  {
   "cell_type": "markdown",
   "id": "610b6441",
   "metadata": {
    "slideshow": {
     "slide_type": "slide"
    }
   },
   "source": [
    "- Ejecutar una tarea con mapreduce involucrando a HDFS\n",
    "- Este ejemplo cuenta la cantidad de palabras y letras c que aparecen en el texto"
   ]
  },
  {
   "cell_type": "markdown",
   "id": "2937cf13-70bd-4b9f-9895-1611d68494d6",
   "metadata": {
    "slideshow": {
     "slide_type": "fragment"
    }
   },
   "source": [
    "echo \"A Cuesta le cuesta subir la cuesta y en medio de la cuesta va y se acuesta.\" | \\ \n",
    "hadoop fs -put - /tmp/hdfs-ejemplo-input"
   ]
  },
  {
   "cell_type": "markdown",
   "id": "5832a0c0-c7bc-4a12-8ac7-2ab9699561f3",
   "metadata": {
    "slideshow": {
     "slide_type": "slide"
    }
   },
   "source": [
    "hadoop jar /opt/bitnami/hadoop/share/hadoop/mapreduce/hadoop-mapreduce-examples-*.jar \\\n",
    "grep /tmp/hdfs-ejemplo-input /tmp/hdfs-ejemplo-output 'c*'"
   ]
  },
  {
   "cell_type": "markdown",
   "id": "8dd22d08-f3db-44d6-b994-ee5865a47090",
   "metadata": {
    "slideshow": {
     "slide_type": "fragment"
    }
   },
   "source": [
    "hadoop fs -cat /tmp/hdfs-ejemplo-output/part-r-00000"
   ]
  },
  {
   "cell_type": "markdown",
   "id": "1de5e2bc",
   "metadata": {
    "slideshow": {
     "slide_type": "slide"
    }
   },
   "source": [
    "## Apache Hive"
   ]
  },
  {
   "cell_type": "markdown",
   "id": "f4ccc84e",
   "metadata": {
    "slideshow": {
     "slide_type": "slide"
    }
   },
   "source": [
    "- Para conectarse a Hive a través de la interfaz web:\n",
    "- <http://localhost:10002>"
   ]
  },
  {
   "cell_type": "markdown",
   "id": "8122cb08",
   "metadata": {
    "slideshow": {
     "slide_type": "fragment"
    }
   },
   "source": [
    "- Para conectarse a Hive a través de un túnel SSH:"
   ]
  },
  {
   "cell_type": "markdown",
   "id": "6c678078-51e2-4c8c-b037-9337fcd66e7c",
   "metadata": {
    "slideshow": {
     "slide_type": "fragment"
    }
   },
   "source": [
    "beeline -u jdbc:hive2://localhost:10000 -n hadoop"
   ]
  },
  {
   "cell_type": "markdown",
   "id": "288a575f",
   "metadata": {
    "slideshow": {
     "slide_type": "slide"
    }
   },
   "source": [
    "- Acceder a la información básica"
   ]
  },
  {
   "cell_type": "markdown",
   "id": "0208bc36-fb08-4754-86ab-b6570422642d",
   "metadata": {
    "slideshow": {
     "slide_type": "fragment"
    }
   },
   "source": [
    "help"
   ]
  },
  {
   "cell_type": "markdown",
   "id": "0892dcde",
   "metadata": {
    "slideshow": {
     "slide_type": "slide"
    }
   },
   "source": [
    "- Crear una base de datos"
   ]
  },
  {
   "cell_type": "markdown",
   "id": "7c4013d1-262f-44f5-a029-833e871e9eb0",
   "metadata": {
    "slideshow": {
     "slide_type": "fragment"
    }
   },
   "source": [
    "show databases;\n",
    "show tables;"
   ]
  },
  {
   "cell_type": "markdown",
   "id": "439b2b7a-c88d-4cf7-8b5c-8cc881cb7053",
   "metadata": {
    "slideshow": {
     "slide_type": "fragment"
    }
   },
   "source": [
    "CREATE DATABASE basededatos;    # También se puede usar la orden CREATE SCHEMA"
   ]
  },
  {
   "cell_type": "markdown",
   "id": "370bc649",
   "metadata": {
    "slideshow": {
     "slide_type": "slide"
    }
   },
   "source": [
    "- También se puede utilizar JDBC para crear una base de datos.\n",
    "- El script se guarda en un fichero llamado HiveCreateDb.java con el siguiente código:"
   ]
  },
  {
   "cell_type": "markdown",
   "id": "e683d858-1d99-4b5e-9894-54bf1bfe66f1",
   "metadata": {
    "slideshow": {
     "slide_type": "slide"
    }
   },
   "source": [
    "import java.sql.SQLException;\n",
    "import java.sql.Connection;\n",
    "import java.sql.ResultSet;\n",
    "import java.sql.Statement;\n",
    "import java.sql.DriverManager;\n",
    "\n",
    "public class HiveCreateDb {\n",
    "   private static String driverName = \"org.apache.hadoop.hive.jdbc.HiveDriver\";\n",
    "   \n",
    "   public static void main(String[] args) throws SQLException {\n",
    "      // Register driver and create driver instance\n",
    "   \n",
    "      Class.forName(driverName);\n",
    "      // get connection\n",
    "      \n",
    "      Connection con = DriverManager.getConnection(\"jdbc:hive://localhost:10000/default\", \"\", \"\");\n",
    "      Statement stmt = con.createStatement();\n",
    "      \n",
    "      stmt.executeQuery(\"CREATE DATABASE basededatos\");\n",
    "      System.out.println(“Base de datos creada exitosamente.”);\n",
    "      \n",
    "      con.close();\n",
    "   }\n",
    "}"
   ]
  },
  {
   "cell_type": "markdown",
   "id": "788eed78",
   "metadata": {
    "slideshow": {
     "slide_type": "slide"
    }
   },
   "source": [
    "- Para compilar y ejecutar el programa:"
   ]
  },
  {
   "cell_type": "markdown",
   "id": "c40a90e8-c818-46e6-947e-c465ad1bdb27",
   "metadata": {
    "slideshow": {
     "slide_type": "slide"
    }
   },
   "source": [
    "javac HiveCreateDb.java\n",
    "java HiveCreateDb"
   ]
  },
  {
   "cell_type": "markdown",
   "id": "6a96bea7",
   "metadata": {
    "slideshow": {
     "slide_type": "fragment"
    }
   },
   "source": [
    "Documentación: <https://cwiki.apache.org/confluence/display/Hive/GettingStarted>"
   ]
  },
  {
   "cell_type": "markdown",
   "id": "14b73559",
   "metadata": {
    "slideshow": {
     "slide_type": "slide"
    }
   },
   "source": [
    "## Apache Spark"
   ]
  },
  {
   "cell_type": "markdown",
   "id": "a427a32c",
   "metadata": {
    "slideshow": {
     "slide_type": "slide"
    }
   },
   "source": [
    "- Abrir el puerto 4040"
   ]
  },
  {
   "cell_type": "markdown",
   "id": "9f7f99b7-81bb-4b43-997a-aa9e740a92ca",
   "metadata": {
    "slideshow": {
     "slide_type": "fragment"
    }
   },
   "source": [
    "sudo ufw allow 4040"
   ]
  },
  {
   "cell_type": "markdown",
   "id": "143713e1",
   "metadata": {
    "slideshow": {
     "slide_type": "slide"
    }
   },
   "source": [
    "- Crear el fichero a analizar"
   ]
  },
  {
   "cell_type": "markdown",
   "id": "723ce0c6-2e88-497e-b012-4ce85d4a2a55",
   "metadata": {
    "slideshow": {
     "slide_type": "fragment"
    }
   },
   "source": [
    "vim entrada.txt"
   ]
  },
  {
   "cell_type": "markdown",
   "id": "7299983b",
   "metadata": {
    "slideshow": {
     "slide_type": "slide"
    }
   },
   "source": [
    "- Entrar a la shell de spark"
   ]
  },
  {
   "cell_type": "markdown",
   "id": "1d57f714-ba68-49f8-87dc-5b8daa6b4d2d",
   "metadata": {
    "slideshow": {
     "slide_type": "slide"
    }
   },
   "source": [
    "spark-shell"
   ]
  },
  {
   "cell_type": "markdown",
   "id": "66f2d2b9-1459-463d-afe0-6b160a4f4c94",
   "metadata": {
    "slideshow": {
     "slide_type": "fragment"
    }
   },
   "source": [
    ":help"
   ]
  },
  {
   "cell_type": "markdown",
   "id": "e1d76d76",
   "metadata": {
    "slideshow": {
     "slide_type": "slide"
    }
   },
   "source": [
    "- Crear el RDD para el fichero entrada.txt"
   ]
  },
  {
   "cell_type": "markdown",
   "id": "71b57c74-a774-4408-a568-1d357f2097da",
   "metadata": {
    "slideshow": {
     "slide_type": "fragment"
    }
   },
   "source": [
    "val inputfile = sc.textFile(\"entrada.txt\")"
   ]
  },
  {
   "cell_type": "markdown",
   "id": "0d00e8ea",
   "metadata": {
    "slideshow": {
     "slide_type": "slide"
    }
   },
   "source": [
    "- Contar las palabras:"
   ]
  },
  {
   "cell_type": "markdown",
   "id": "c45a3582-a168-4d9a-9c47-4c3fea3242dc",
   "metadata": {
    "slideshow": {
     "slide_type": "fragment"
    }
   },
   "source": [
    "val counts = inputfile.flatMap(line => line.split(\" \")).map(word => (word, 1)).reduceByKey(_+_);"
   ]
  },
  {
   "cell_type": "markdown",
   "id": "220ca0d7",
   "metadata": {
    "slideshow": {
     "slide_type": "slide"
    }
   },
   "source": [
    "- Mostrar para tareas de debugging el RDD "
   ]
  },
  {
   "cell_type": "markdown",
   "id": "d7819d3f-386f-4ee5-9ba7-4f982f4b18a8",
   "metadata": {
    "slideshow": {
     "slide_type": "fragment"
    }
   },
   "source": [
    "counts.toDebugString"
   ]
  },
  {
   "cell_type": "markdown",
   "id": "af4fe468",
   "metadata": {
    "slideshow": {
     "slide_type": "slide"
    }
   },
   "source": [
    "- Guardar en memoria"
   ]
  },
  {
   "cell_type": "markdown",
   "id": "5b5e0863-a129-4705-92f0-8763491b251d",
   "metadata": {
    "slideshow": {
     "slide_type": "fragment"
    }
   },
   "source": [
    "counts.cache()"
   ]
  },
  {
   "cell_type": "markdown",
   "id": "a5df5892",
   "metadata": {
    "slideshow": {
     "slide_type": "slide"
    }
   },
   "source": [
    "- Guardar la salida en un fichero"
   ]
  },
  {
   "cell_type": "markdown",
   "id": "58d6c715-c478-4989-95cb-2fc4e77cafc2",
   "metadata": {
    "slideshow": {
     "slide_type": "fragment"
    }
   },
   "source": [
    "val outputfile = sc.textFile(\"salida.txt\")"
   ]
  },
  {
   "cell_type": "markdown",
   "id": "7bd16392",
   "metadata": {
    "slideshow": {
     "slide_type": "slide"
    }
   },
   "source": [
    "- Almacenamiento no persistente de RDD"
   ]
  },
  {
   "cell_type": "markdown",
   "id": "58972d66-8659-4b55-a7ba-59e54b026973",
   "metadata": {
    "slideshow": {
     "slide_type": "fragment"
    }
   },
   "source": [
    "counts.unpersist()"
   ]
  },
  {
   "cell_type": "markdown",
   "id": "b36d022c",
   "metadata": {
    "slideshow": {
     "slide_type": "slide"
    }
   },
   "source": [
    "- Fuentes:\n",
    "- <https://docs.bitnami.com/virtual-machine/apps/hadoop/>.\n",
    "- <https://fortinux.com/linux-2-tutoriales/hadoop-installation-centos8/>.\n",
    "- <https://hadoop.apache.org/docs/r1.2.1/mapred_tutorial.html>.\n",
    "- <https://spark.apache.org/docs/latest/quick-start.html>."
   ]
  }
 ],
 "metadata": {
  "celltoolbar": "Slideshow",
  "kernelspec": {
   "display_name": "Python 3 (ipykernel)",
   "language": "python",
   "name": "python3"
  },
  "language_info": {
   "codemirror_mode": {
    "name": "ipython",
    "version": 3
   },
   "file_extension": ".py",
   "mimetype": "text/x-python",
   "name": "python",
   "nbconvert_exporter": "python",
   "pygments_lexer": "ipython3",
   "version": "3.10.12"
  },
  "widgets": {
   "application/vnd.jupyter.widget-state+json": {
    "state": {},
    "version_major": 2,
    "version_minor": 0
   }
  }
 },
 "nbformat": 4,
 "nbformat_minor": 5
}