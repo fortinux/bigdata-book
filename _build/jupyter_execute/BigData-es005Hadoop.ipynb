{
 "cells": [
  {
   "cell_type": "markdown",
   "id": "149cb3a8",
   "metadata": {
    "slideshow": {
     "slide_type": "slide"
    }
   },
   "source": [
    "# Tutorial Apache Hadoop"
   ]
  },
  {
   "cell_type": "markdown",
   "id": "65fd69cf",
   "metadata": {
    "slideshow": {
     "slide_type": "slide"
    }
   },
   "source": [
    "- El proyecto Apache™ Hadoop® desarrolla software de código abierto para computación distribuida, escalable y confiable.\n",
    "    - Extraído de: <https://hadoop.apache.org/>."
   ]
  },
  {
   "cell_type": "markdown",
   "id": "922ca41e",
   "metadata": {
    "slideshow": {
     "slide_type": "slide"
    }
   },
   "source": [
    "- Apache Hadoop es un framework para el procesamiento distribuido de grandes conjuntos de datos en grupos de computadoras que utilizan modelos de programación simples.\n",
    "- Diseñado para escalar desde servidores individuales a miles de máquinas, cada una de las cuales ofrece computación y almacenamiento locales."
   ]
  },
  {
   "cell_type": "markdown",
   "id": "75ecd98a",
   "metadata": {
    "slideshow": {
     "slide_type": "slide"
    }
   },
   "source": [
    "- En lugar de depender del hardware para brindar alta disponibilidad, la biblioteca en sí está diseñada para detectar y manejar fallas en la capa de la aplicación, por lo que brinda un servicio de alta disponibilidad sobre un grupo de computadoras, cada una de las cuales puede ser propensa a fallas."
   ]
  },
  {
   "cell_type": "markdown",
   "id": "abc3061f",
   "metadata": {
    "slideshow": {
     "slide_type": "slide"
    }
   },
   "source": [
    "## Configuración inicial"
   ]
  },
  {
   "cell_type": "markdown",
   "id": "7dac7572",
   "metadata": {
    "slideshow": {
     "slide_type": "slide"
    }
   },
   "source": [
    "- La máquina virtual con Hadoop instalado se descarga de:\n",
    "- <https://bitnami.com/stack/hadoop/virtual-machine>.\n",
    "- Se puede acceder a la información sobre la configuración predeterminada de la máquina virtual de Bitnami en:\n",
    "- <https://docs.bitnami.com/virtual-machine/apps/hadoop/get-started/understand-default-config/>."
   ]
  },
  {
   "cell_type": "markdown",
   "id": "ec0269d7",
   "metadata": {
    "slideshow": {
     "slide_type": "slide"
    }
   },
   "source": [
    "- Una vez instalado Apache Hadoop se deberán abrir los puertos del servidor para los distintos servicios web del framework."
   ]
  },
  {
   "cell_type": "code",
   "execution_count": 1,
   "id": "20d14d1f",
   "metadata": {
    "slideshow": {
     "slide_type": "fragment"
    }
   },
   "outputs": [
    {
     "ename": "SyntaxError",
     "evalue": "invalid syntax (2454650064.py, line 1)",
     "output_type": "error",
     "traceback": [
      "\u001b[0;36m  Cell \u001b[0;32mIn [1], line 1\u001b[0;36m\u001b[0m\n\u001b[0;31m    sudo ufw allow 8042, 8088, 8188, 19888, 9780, 9868, 9864, 10002 proto tcp\u001b[0m\n\u001b[0m         ^\u001b[0m\n\u001b[0;31mSyntaxError\u001b[0m\u001b[0;31m:\u001b[0m invalid syntax\n"
     ]
    }
   ],
   "source": [
    "sudo ufw allow 8042, 8088, 8188, 19888, 9780, 9868, 9864, 10002 proto tcp"
   ]
  },
  {
   "cell_type": "markdown",
   "id": "a6c3fe16",
   "metadata": {
    "slideshow": {
     "slide_type": "slide"
    }
   },
   "source": [
    "- Mostrar el estado de los servicios"
   ]
  },
  {
   "cell_type": "code",
   "execution_count": null,
   "id": "2451fe87",
   "metadata": {
    "slideshow": {
     "slide_type": "fragment"
    }
   },
   "outputs": [],
   "source": [
    "sudo /opt/bitnami/ctlscript.sh status"
   ]
  },
  {
   "cell_type": "markdown",
   "id": "cfbada30",
   "metadata": {
    "slideshow": {
     "slide_type": "slide"
    }
   },
   "source": [
    "- Iniciar un servicio"
   ]
  },
  {
   "cell_type": "code",
   "execution_count": null,
   "id": "0be79fa9",
   "metadata": {
    "slideshow": {
     "slide_type": "fragment"
    }
   },
   "outputs": [],
   "source": [
    "sudo /opt/bitnami/ctlscript.sh start"
   ]
  },
  {
   "cell_type": "markdown",
   "id": "759636e6",
   "metadata": {
    "slideshow": {
     "slide_type": "slide"
    }
   },
   "source": [
    "- Reiniciar un servicio"
   ]
  },
  {
   "cell_type": "code",
   "execution_count": null,
   "id": "6a76ab54",
   "metadata": {
    "slideshow": {
     "slide_type": "fragment"
    }
   },
   "outputs": [],
   "source": [
    "sudo /opt/bitnami/ctlscript.sh restart apache"
   ]
  },
  {
   "cell_type": "markdown",
   "id": "60b85ea0",
   "metadata": {
    "slideshow": {
     "slide_type": "slide"
    }
   },
   "source": [
    "- Detener todos los servicios"
   ]
  },
  {
   "cell_type": "code",
   "execution_count": null,
   "id": "ba261dff",
   "metadata": {
    "slideshow": {
     "slide_type": "fragment"
    }
   },
   "outputs": [],
   "source": [
    "sudo /opt/bitnami/ctlscript.sh stop"
   ]
  },
  {
   "cell_type": "markdown",
   "id": "d7e16af7",
   "metadata": {
    "slideshow": {
     "slide_type": "slide"
    }
   },
   "source": [
    "## Ejecutar tareas de pruebas en Hadoop "
   ]
  },
  {
   "cell_type": "markdown",
   "id": "d8754350",
   "metadata": {
    "slideshow": {
     "slide_type": "slide"
    }
   },
   "source": [
    "- Ejecutar una tarea (job) de test en Hadoop con mapreduce\n",
    "- Este ejemplo obtiene una estimación del número PI"
   ]
  },
  {
   "cell_type": "code",
   "execution_count": null,
   "id": "df485b7a",
   "metadata": {
    "slideshow": {
     "slide_type": "fragment"
    }
   },
   "outputs": [],
   "source": [
    "hadoop jar /opt/bitnami/hadoop/share/hadoop/mapreduce/hadoop-mapreduce-examples-*.jar pi 10 100"
   ]
  },
  {
   "cell_type": "markdown",
   "id": "610b6441",
   "metadata": {
    "slideshow": {
     "slide_type": "slide"
    }
   },
   "source": [
    "- Ejecutar una tarea con mapreduce involucrando a HDFS\n",
    "- Este ejemplo cuenta la cantidad de palabras y letras c que aparecen en el texto"
   ]
  },
  {
   "cell_type": "code",
   "execution_count": null,
   "id": "4d529eb7",
   "metadata": {
    "slideshow": {
     "slide_type": "fragment"
    }
   },
   "outputs": [],
   "source": [
    "echo \"A Cuesta le cuesta subir la cuesta y en medio de la cuesta va y se acuesta.\" | \\ \n",
    "hadoop fs -put - /tmp/hdfs-ejemplo-input"
   ]
  },
  {
   "cell_type": "code",
   "execution_count": null,
   "id": "181ca921",
   "metadata": {
    "slideshow": {
     "slide_type": "slide"
    }
   },
   "outputs": [],
   "source": [
    "hadoop jar /opt/bitnami/hadoop/share/hadoop/mapreduce/hadoop-mapreduce-examples-*.jar \\\n",
    "grep /tmp/hdfs-ejemplo-input /tmp/hdfs-ejemplo-output 'c*'"
   ]
  },
  {
   "cell_type": "code",
   "execution_count": null,
   "id": "07043e52",
   "metadata": {
    "slideshow": {
     "slide_type": "fragment"
    }
   },
   "outputs": [],
   "source": [
    "hadoop fs -cat /tmp/hdfs-ejemplo-output/part-r-00000"
   ]
  },
  {
   "cell_type": "markdown",
   "id": "1de5e2bc",
   "metadata": {
    "slideshow": {
     "slide_type": "slide"
    }
   },
   "source": [
    "## Apache Hive"
   ]
  },
  {
   "cell_type": "markdown",
   "id": "f4ccc84e",
   "metadata": {
    "slideshow": {
     "slide_type": "slide"
    }
   },
   "source": [
    "- Para conectarse a Hive a través de la interfaz web:\n",
    "- <http://localhost:10002>"
   ]
  },
  {
   "cell_type": "markdown",
   "id": "8122cb08",
   "metadata": {
    "slideshow": {
     "slide_type": "fragment"
    }
   },
   "source": [
    "- Para conectarse a Hive a través de un túnel SSH:"
   ]
  },
  {
   "cell_type": "code",
   "execution_count": null,
   "id": "fe981637",
   "metadata": {
    "slideshow": {
     "slide_type": "fragment"
    }
   },
   "outputs": [],
   "source": [
    "beeline -u jdbc:hive2://localhost:10000 -n hadoop"
   ]
  },
  {
   "cell_type": "markdown",
   "id": "288a575f",
   "metadata": {
    "slideshow": {
     "slide_type": "slide"
    }
   },
   "source": [
    "- Acceder a la información básica"
   ]
  },
  {
   "cell_type": "code",
   "execution_count": null,
   "id": "ba048e27",
   "metadata": {
    "slideshow": {
     "slide_type": "fragment"
    }
   },
   "outputs": [],
   "source": [
    "help"
   ]
  },
  {
   "cell_type": "markdown",
   "id": "0892dcde",
   "metadata": {
    "slideshow": {
     "slide_type": "slide"
    }
   },
   "source": [
    "- Crear una base de datos"
   ]
  },
  {
   "cell_type": "code",
   "execution_count": null,
   "id": "0c9268cf",
   "metadata": {
    "slideshow": {
     "slide_type": "fragment"
    }
   },
   "outputs": [],
   "source": [
    "show databases;\n",
    "show tables;"
   ]
  },
  {
   "cell_type": "code",
   "execution_count": null,
   "id": "233d0f2f",
   "metadata": {
    "slideshow": {
     "slide_type": "fragment"
    }
   },
   "outputs": [],
   "source": [
    "CREATE DATABASE basededatos;    # También se puede usar la orden CREATE SCHEMA"
   ]
  },
  {
   "cell_type": "markdown",
   "id": "370bc649",
   "metadata": {
    "slideshow": {
     "slide_type": "slide"
    }
   },
   "source": [
    "- También se puede utilizar JDBC para crear una base de datos.\n",
    "- El script se guarda en un fichero llamado HiveCreateDb.java con el siguiente código:"
   ]
  },
  {
   "cell_type": "code",
   "execution_count": null,
   "id": "faa597f5",
   "metadata": {
    "slideshow": {
     "slide_type": "slide"
    }
   },
   "outputs": [],
   "source": [
    "import java.sql.SQLException;\n",
    "import java.sql.Connection;\n",
    "import java.sql.ResultSet;\n",
    "import java.sql.Statement;\n",
    "import java.sql.DriverManager;\n",
    "\n",
    "public class HiveCreateDb {\n",
    "   private static String driverName = \"org.apache.hadoop.hive.jdbc.HiveDriver\";\n",
    "   \n",
    "   public static void main(String[] args) throws SQLException {\n",
    "      // Register driver and create driver instance\n",
    "   \n",
    "      Class.forName(driverName);\n",
    "      // get connection\n",
    "      \n",
    "      Connection con = DriverManager.getConnection(\"jdbc:hive://localhost:10000/default\", \"\", \"\");\n",
    "      Statement stmt = con.createStatement();\n",
    "      \n",
    "      stmt.executeQuery(\"CREATE DATABASE basededatos\");\n",
    "      System.out.println(“Base de datos creada exitosamente.”);\n",
    "      \n",
    "      con.close();\n",
    "   }\n",
    "}"
   ]
  },
  {
   "cell_type": "markdown",
   "id": "788eed78",
   "metadata": {
    "slideshow": {
     "slide_type": "slide"
    }
   },
   "source": [
    "- Para compilar y ejecutar el programa:"
   ]
  },
  {
   "cell_type": "code",
   "execution_count": null,
   "id": "bc6eeb50",
   "metadata": {
    "slideshow": {
     "slide_type": "slide"
    }
   },
   "outputs": [],
   "source": [
    "javac HiveCreateDb.java\n",
    "java HiveCreateDb"
   ]
  },
  {
   "cell_type": "markdown",
   "id": "6a96bea7",
   "metadata": {
    "slideshow": {
     "slide_type": "fragment"
    }
   },
   "source": [
    "Documentación: <https://cwiki.apache.org/confluence/display/Hive/GettingStarted>"
   ]
  },
  {
   "cell_type": "markdown",
   "id": "14b73559",
   "metadata": {
    "slideshow": {
     "slide_type": "slide"
    }
   },
   "source": [
    "## Apache Spark"
   ]
  },
  {
   "cell_type": "markdown",
   "id": "a427a32c",
   "metadata": {
    "slideshow": {
     "slide_type": "slide"
    }
   },
   "source": [
    "- Abrir el puerto 4040"
   ]
  },
  {
   "cell_type": "code",
   "execution_count": null,
   "id": "6b0b4774",
   "metadata": {
    "slideshow": {
     "slide_type": "fragment"
    }
   },
   "outputs": [],
   "source": [
    "sudo ufw allow 4040"
   ]
  },
  {
   "cell_type": "markdown",
   "id": "143713e1",
   "metadata": {
    "slideshow": {
     "slide_type": "slide"
    }
   },
   "source": [
    "- Crear el fichero a analizar"
   ]
  },
  {
   "cell_type": "code",
   "execution_count": null,
   "id": "7d743421",
   "metadata": {
    "slideshow": {
     "slide_type": "fragment"
    }
   },
   "outputs": [],
   "source": [
    "vim entrada.txt"
   ]
  },
  {
   "cell_type": "markdown",
   "id": "7299983b",
   "metadata": {
    "slideshow": {
     "slide_type": "slide"
    }
   },
   "source": [
    "- Entrar a la shell de spark"
   ]
  },
  {
   "cell_type": "code",
   "execution_count": null,
   "id": "47399adc",
   "metadata": {
    "slideshow": {
     "slide_type": "slide"
    }
   },
   "outputs": [],
   "source": [
    "spark-shell"
   ]
  },
  {
   "cell_type": "code",
   "execution_count": null,
   "id": "33baa161",
   "metadata": {
    "slideshow": {
     "slide_type": "fragment"
    }
   },
   "outputs": [],
   "source": [
    ":help"
   ]
  },
  {
   "cell_type": "markdown",
   "id": "e1d76d76",
   "metadata": {
    "slideshow": {
     "slide_type": "slide"
    }
   },
   "source": [
    "- Crear el RDD para el fichero entrada.txt"
   ]
  },
  {
   "cell_type": "code",
   "execution_count": null,
   "id": "d59519ef",
   "metadata": {
    "slideshow": {
     "slide_type": "fragment"
    }
   },
   "outputs": [],
   "source": [
    "val inputfile = sc.textFile(\"entrada.txt\")"
   ]
  },
  {
   "cell_type": "markdown",
   "id": "0d00e8ea",
   "metadata": {
    "slideshow": {
     "slide_type": "slide"
    }
   },
   "source": [
    "- Contar las palabras:"
   ]
  },
  {
   "cell_type": "code",
   "execution_count": null,
   "id": "d0bc891a",
   "metadata": {
    "slideshow": {
     "slide_type": "fragment"
    }
   },
   "outputs": [],
   "source": [
    "val counts = inputfile.flatMap(line => line.split(\" \")).map(word => (word, 1)).reduceByKey(_+_);"
   ]
  },
  {
   "cell_type": "markdown",
   "id": "220ca0d7",
   "metadata": {
    "slideshow": {
     "slide_type": "slide"
    }
   },
   "source": [
    "- Mostrar para tareas de debugging el RDD "
   ]
  },
  {
   "cell_type": "code",
   "execution_count": null,
   "id": "811378cc",
   "metadata": {
    "slideshow": {
     "slide_type": "fragment"
    }
   },
   "outputs": [],
   "source": [
    "counts.toDebugString"
   ]
  },
  {
   "cell_type": "markdown",
   "id": "af4fe468",
   "metadata": {
    "slideshow": {
     "slide_type": "slide"
    }
   },
   "source": [
    "- Guardar en memoria"
   ]
  },
  {
   "cell_type": "code",
   "execution_count": null,
   "id": "f2911af2",
   "metadata": {
    "slideshow": {
     "slide_type": "fragment"
    }
   },
   "outputs": [],
   "source": [
    "counts.cache()"
   ]
  },
  {
   "cell_type": "markdown",
   "id": "a5df5892",
   "metadata": {
    "slideshow": {
     "slide_type": "slide"
    }
   },
   "source": [
    "- Guardar la salida en un fichero"
   ]
  },
  {
   "cell_type": "code",
   "execution_count": null,
   "id": "3453f0d1",
   "metadata": {
    "slideshow": {
     "slide_type": "fragment"
    }
   },
   "outputs": [],
   "source": [
    "val outputfile = sc.textFile(\"salida.txt\")"
   ]
  },
  {
   "cell_type": "markdown",
   "id": "7bd16392",
   "metadata": {
    "slideshow": {
     "slide_type": "slide"
    }
   },
   "source": [
    "- Almacenamiento no persistente de RDD"
   ]
  },
  {
   "cell_type": "code",
   "execution_count": null,
   "id": "23bb5b4e",
   "metadata": {
    "slideshow": {
     "slide_type": "fragment"
    }
   },
   "outputs": [],
   "source": [
    "counts.unpersist()"
   ]
  },
  {
   "cell_type": "markdown",
   "id": "b36d022c",
   "metadata": {
    "slideshow": {
     "slide_type": "slide"
    }
   },
   "source": [
    "- Fuentes:\n",
    "- <https://docs.bitnami.com/virtual-machine/apps/hadoop/>.\n",
    "- <https://fortinux.com/linux-2-tutoriales/hadoop-installation-centos8/>.\n",
    "- <https://hadoop.apache.org/docs/r1.2.1/mapred_tutorial.html>.\n",
    "- <https://spark.apache.org/docs/latest/quick-start.html>."
   ]
  }
 ],
 "metadata": {
  "celltoolbar": "Slideshow",
  "kernelspec": {
   "display_name": "Python 3 (ipykernel)",
   "language": "python",
   "name": "python3"
  },
  "language_info": {
   "codemirror_mode": {
    "name": "ipython",
    "version": 3
   },
   "file_extension": ".py",
   "mimetype": "text/x-python",
   "name": "python",
   "nbconvert_exporter": "python",
   "pygments_lexer": "ipython3",
   "version": "3.10.12"
  },
  "widgets": {
   "application/vnd.jupyter.widget-state+json": {
    "state": {},
    "version_major": 2,
    "version_minor": 0
   }
  }
 },
 "nbformat": 4,
 "nbformat_minor": 5
}