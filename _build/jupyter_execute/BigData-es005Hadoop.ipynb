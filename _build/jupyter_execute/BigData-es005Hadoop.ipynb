{
 "cells": [
  {
   "cell_type": "markdown",
   "id": "149cb3a8",
   "metadata": {
    "slideshow": {
     "slide_type": "slide"
    }
   },
   "source": [
    "# Tutorial Apache Hadoop"
   ]
  },
  {
   "cell_type": "markdown",
   "id": "65fd69cf",
   "metadata": {
    "slideshow": {
     "slide_type": "slide"
    }
   },
   "source": [
    "- El proyecto Apache™ Hadoop® desarrolla software de código abierto para computación distribuida, escalable y confiable.\n",
    "    - Extraído de: <https://hadoop.apache.org/>."
   ]
  },
  {
   "cell_type": "markdown",
   "id": "922ca41e",
   "metadata": {
    "slideshow": {
     "slide_type": "slide"
    }
   },
   "source": [
    "- Apache Hadoop es un framework para el procesamiento distribuido de grandes conjuntos de datos en grupos de computadoras que utilizan modelos de programación simples.\n",
    "- Diseñado para escalar desde servidores individuales a miles de máquinas, cada una de las cuales ofrece computación y almacenamiento locales."
   ]
  },
  {
   "cell_type": "markdown",
   "id": "75ecd98a",
   "metadata": {
    "slideshow": {
     "slide_type": "slide"
    }
   },
   "source": [
    "- En lugar de depender del hardware para brindar alta disponibilidad, la biblioteca en sí está diseñada para detectar y manejar fallas en la capa de la aplicación, por lo que brinda un servicio de alta disponibilidad sobre un grupo de computadoras, cada una de las cuales puede ser propensa a fallas."
   ]
  },
  {
   "cell_type": "markdown",
   "id": "abc3061f",
   "metadata": {
    "slideshow": {
     "slide_type": "slide"
    }
   },
   "source": [
    "## Configuración inicial"
   ]
  },
  {
   "cell_type": "markdown",
   "id": "7dac7572",
   "metadata": {
    "slideshow": {
     "slide_type": "slide"
    }
   },
   "source": [
    "- La máquina virtual con Hadoop instalado se descarga de:\n",
    "- <https://bitnami.com/stack/hadoop/virtual-machine>.\n",
    "- Se puede acceder a la información sobre la configuración predeterminada de la máquina virtual de Bitnami en:\n",
    "- <https://docs.bitnami.com/virtual-machine/apps/hadoop/get-started/understand-default-config/>."
   ]
  },
  {
   "cell_type": "markdown",
   "id": "ec0269d7",
   "metadata": {
    "slideshow": {
     "slide_type": "slide"
    }
   },
   "source": [
    "- Una vez instalado Apache Hadoop se deberán abrir los puertos del servidor para los distintos servicios web del framework."
   ]
  },
  {
   "cell_type": "raw",
   "id": "e91ebe9f-7a25-4c82-9b2c-87d5086e02d1",
   "metadata": {
    "slideshow": {
     "slide_type": "fragment"
    }
   },
   "source": [
    "sudo ufw allow 8042, 8088, 8188, 19888, 9780, 9868, 9864, 10002 proto tcp"
   ]
  },
  {
   "cell_type": "markdown",
   "id": "a6c3fe16",
   "metadata": {
    "slideshow": {
     "slide_type": "slide"
    }
   },
   "source": [
    "- Mostrar el estado de los servicios"
   ]
  },
  {
   "cell_type": "raw",
   "id": "8fa90c7a-6a6d-4c1a-a5bd-6b841119f5f0",
   "metadata": {
    "slideshow": {
     "slide_type": "fragment"
    }
   },
   "source": [
    "sudo /opt/bitnami/ctlscript.sh status"
   ]
  },
  {
   "cell_type": "markdown",
   "id": "cfbada30",
   "metadata": {
    "slideshow": {
     "slide_type": "slide"
    }
   },
   "source": [
    "- Iniciar un servicio"
   ]
  },
  {
   "cell_type": "raw",
   "id": "c68287b9-d4a5-4520-b9fc-7a200bdb0f98",
   "metadata": {
    "slideshow": {
     "slide_type": "fragment"
    }
   },
   "source": [
    "sudo /opt/bitnami/ctlscript.sh start"
   ]
  },
  {
   "cell_type": "markdown",
   "id": "759636e6",
   "metadata": {
    "slideshow": {
     "slide_type": "slide"
    }
   },
   "source": [
    "- Reiniciar un servicio"
   ]
  },
  {
   "cell_type": "raw",
   "id": "9a746432-dfb7-4f62-a858-31b54c0a0a51",
   "metadata": {
    "slideshow": {
     "slide_type": "fragment"
    }
   },
   "source": [
    "sudo /opt/bitnami/ctlscript.sh restart apache"
   ]
  },
  {
   "cell_type": "markdown",
   "id": "60b85ea0",
   "metadata": {
    "slideshow": {
     "slide_type": "slide"
    }
   },
   "source": [
    "- Detener todos los servicios"
   ]
  },
  {
   "cell_type": "raw",
   "id": "9dcefba4-1880-4b54-ac0c-e88198df2274",
   "metadata": {
    "slideshow": {
     "slide_type": "fragment"
    }
   },
   "source": [
    "sudo /opt/bitnami/ctlscript.sh stop"
   ]
  },
  {
   "cell_type": "markdown",
   "id": "d7e16af7",
   "metadata": {
    "slideshow": {
     "slide_type": "slide"
    }
   },
   "source": [
    "## Ejecutar tareas de pruebas en Hadoop "
   ]
  },
  {
   "cell_type": "markdown",
   "id": "d8754350",
   "metadata": {
    "slideshow": {
     "slide_type": "slide"
    }
   },
   "source": [
    "- Ejecutar una tarea (job) de test en Hadoop con mapreduce\n",
    "- Este ejemplo obtiene una estimación del número PI"
   ]
  },
  {
   "cell_type": "raw",
   "id": "54369399-7b96-44ca-8654-312cba746ede",
   "metadata": {
    "slideshow": {
     "slide_type": "fragment"
    }
   },
   "source": [
    "hadoop jar /opt/bitnami/hadoop/share/hadoop/mapreduce/hadoop-mapreduce-examples-*.jar pi 10 100"
   ]
  },
  {
   "cell_type": "markdown",
   "id": "610b6441",
   "metadata": {
    "slideshow": {
     "slide_type": "slide"
    }
   },
   "source": [
    "- Ejecutar una tarea con mapreduce involucrando a HDFS\n",
    "- Este ejemplo cuenta la cantidad de palabras y letras c que aparecen en el texto"
   ]
  },
  {
   "cell_type": "raw",
   "id": "85a6af93-9b97-4acc-864b-efb549e76672",
   "metadata": {
    "slideshow": {
     "slide_type": "fragment"
    }
   },
   "source": [
    "echo \"A Cuesta le cuesta subir la cuesta y en medio de la cuesta va y se acuesta.\" | \\ \n",
    "hadoop fs -put - /tmp/hdfs-ejemplo-input"
   ]
  },
  {
   "cell_type": "raw",
   "id": "23a983cd-ae65-44c7-8c80-14486a56274e",
   "metadata": {
    "slideshow": {
     "slide_type": "slide"
    }
   },
   "source": [
    "hadoop jar /opt/bitnami/hadoop/share/hadoop/mapreduce/hadoop-mapreduce-examples-*.jar \\\n",
    "grep /tmp/hdfs-ejemplo-input /tmp/hdfs-ejemplo-output 'c*'"
   ]
  },
  {
   "cell_type": "raw",
   "id": "4003f816-4898-45d0-b3fb-737f24cb2258",
   "metadata": {
    "slideshow": {
     "slide_type": "fragment"
    }
   },
   "source": [
    "hadoop fs -cat /tmp/hdfs-ejemplo-output/part-r-00000"
   ]
  },
  {
   "cell_type": "markdown",
   "id": "1de5e2bc",
   "metadata": {
    "slideshow": {
     "slide_type": "slide"
    }
   },
   "source": [
    "## Apache Hive"
   ]
  },
  {
   "cell_type": "markdown",
   "id": "f4ccc84e",
   "metadata": {
    "slideshow": {
     "slide_type": "slide"
    }
   },
   "source": [
    "- Para conectarse a Hive a través de la interfaz web:\n",
    "- <http://localhost:10002>"
   ]
  },
  {
   "cell_type": "markdown",
   "id": "8122cb08",
   "metadata": {
    "slideshow": {
     "slide_type": "fragment"
    }
   },
   "source": [
    "- Para conectarse a Hive a través de un túnel SSH:"
   ]
  },
  {
   "cell_type": "raw",
   "id": "678325d6-0fa8-4ead-8004-b6c4bf60f774",
   "metadata": {
    "slideshow": {
     "slide_type": "fragment"
    }
   },
   "source": [
    "beeline -u jdbc:hive2://localhost:10000 -n hadoop"
   ]
  },
  {
   "cell_type": "markdown",
   "id": "288a575f",
   "metadata": {
    "slideshow": {
     "slide_type": "slide"
    }
   },
   "source": [
    "- Acceder a la información básica"
   ]
  },
  {
   "cell_type": "raw",
   "id": "e29e7c0b-83a0-4648-92a6-6510c20a874b",
   "metadata": {
    "slideshow": {
     "slide_type": "fragment"
    }
   },
   "source": [
    "help"
   ]
  },
  {
   "cell_type": "markdown",
   "id": "0892dcde",
   "metadata": {
    "slideshow": {
     "slide_type": "slide"
    }
   },
   "source": [
    "- Crear una base de datos"
   ]
  },
  {
   "cell_type": "raw",
   "id": "8819843f-8640-4a2a-b85f-9b1cd7be68a2",
   "metadata": {
    "slideshow": {
     "slide_type": "fragment"
    }
   },
   "source": [
    "show databases;\n",
    "show tables;"
   ]
  },
  {
   "cell_type": "raw",
   "id": "c68033e3-8181-44db-9584-8106390f9c33",
   "metadata": {
    "slideshow": {
     "slide_type": "fragment"
    }
   },
   "source": [
    "CREATE DATABASE basededatos;    # También se puede usar la orden CREATE SCHEMA"
   ]
  },
  {
   "cell_type": "markdown",
   "id": "370bc649",
   "metadata": {
    "slideshow": {
     "slide_type": "slide"
    }
   },
   "source": [
    "- También se puede utilizar JDBC para crear una base de datos.\n",
    "- El script se guarda en un fichero llamado HiveCreateDb.java con el siguiente código:"
   ]
  },
  {
   "cell_type": "raw",
   "id": "f198f2f2-1bb0-4315-9960-15ecce989887",
   "metadata": {
    "slideshow": {
     "slide_type": "slide"
    }
   },
   "source": [
    "import java.sql.SQLException;\n",
    "import java.sql.Connection;\n",
    "import java.sql.ResultSet;\n",
    "import java.sql.Statement;\n",
    "import java.sql.DriverManager;\n",
    "\n",
    "public class HiveCreateDb {\n",
    "   private static String driverName = \"org.apache.hadoop.hive.jdbc.HiveDriver\";\n",
    "   \n",
    "   public static void main(String[] args) throws SQLException {\n",
    "      // Register driver and create driver instance\n",
    "   \n",
    "      Class.forName(driverName);\n",
    "      // get connection\n",
    "      \n",
    "      Connection con = DriverManager.getConnection(\"jdbc:hive://localhost:10000/default\", \"\", \"\");\n",
    "      Statement stmt = con.createStatement();\n",
    "      \n",
    "      stmt.executeQuery(\"CREATE DATABASE basededatos\");\n",
    "      System.out.println(“Base de datos creada exitosamente.”);\n",
    "      \n",
    "      con.close();\n",
    "   }\n",
    "}"
   ]
  },
  {
   "cell_type": "markdown",
   "id": "788eed78",
   "metadata": {
    "slideshow": {
     "slide_type": "slide"
    }
   },
   "source": [
    "- Para compilar y ejecutar el programa:"
   ]
  },
  {
   "cell_type": "raw",
   "id": "e1583b8d-653c-45bf-af13-e6c1e8bce39c",
   "metadata": {
    "slideshow": {
     "slide_type": "slide"
    }
   },
   "source": [
    "javac HiveCreateDb.java\n",
    "java HiveCreateDb"
   ]
  },
  {
   "cell_type": "markdown",
   "id": "6a96bea7",
   "metadata": {
    "slideshow": {
     "slide_type": "fragment"
    }
   },
   "source": [
    "Documentación: <https://cwiki.apache.org/confluence/display/Hive/GettingStarted>"
   ]
  },
  {
   "cell_type": "markdown",
   "id": "14b73559",
   "metadata": {
    "slideshow": {
     "slide_type": "slide"
    }
   },
   "source": [
    "## Apache Spark"
   ]
  },
  {
   "cell_type": "markdown",
   "id": "a427a32c",
   "metadata": {
    "slideshow": {
     "slide_type": "slide"
    }
   },
   "source": [
    "- Abrir el puerto 4040"
   ]
  },
  {
   "cell_type": "raw",
   "id": "20bfe309-755e-46b3-88f0-616053ec5ba8",
   "metadata": {
    "slideshow": {
     "slide_type": "fragment"
    }
   },
   "source": [
    "sudo ufw allow 4040"
   ]
  },
  {
   "cell_type": "markdown",
   "id": "143713e1",
   "metadata": {
    "slideshow": {
     "slide_type": "slide"
    }
   },
   "source": [
    "- Crear el fichero a analizar"
   ]
  },
  {
   "cell_type": "raw",
   "id": "708f5552-e618-47d0-90a6-29a2de5077cc",
   "metadata": {
    "slideshow": {
     "slide_type": "fragment"
    }
   },
   "source": [
    "vim entrada.txt"
   ]
  },
  {
   "cell_type": "markdown",
   "id": "7299983b",
   "metadata": {
    "slideshow": {
     "slide_type": "slide"
    }
   },
   "source": [
    "- Entrar a la shell de spark"
   ]
  },
  {
   "cell_type": "raw",
   "id": "d3a20612-ac33-4b77-80ea-5001862a311e",
   "metadata": {
    "slideshow": {
     "slide_type": "slide"
    }
   },
   "source": [
    "spark-shell"
   ]
  },
  {
   "cell_type": "raw",
   "id": "1f99cbe5-016a-4157-ba48-b363b5679b21",
   "metadata": {
    "slideshow": {
     "slide_type": "fragment"
    }
   },
   "source": [
    ":help"
   ]
  },
  {
   "cell_type": "markdown",
   "id": "e1d76d76",
   "metadata": {
    "slideshow": {
     "slide_type": "slide"
    }
   },
   "source": [
    "- Crear el RDD para el fichero entrada.txt"
   ]
  },
  {
   "cell_type": "raw",
   "id": "6e30b218-a691-4b70-b45c-221f10c514a8",
   "metadata": {
    "slideshow": {
     "slide_type": "fragment"
    }
   },
   "source": [
    "val inputfile = sc.textFile(\"entrada.txt\")"
   ]
  },
  {
   "cell_type": "markdown",
   "id": "0d00e8ea",
   "metadata": {
    "slideshow": {
     "slide_type": "slide"
    }
   },
   "source": [
    "- Contar las palabras:"
   ]
  },
  {
   "cell_type": "raw",
   "id": "a1d1e2f8-7547-4c5b-b57f-ffe23f5eddf1",
   "metadata": {
    "slideshow": {
     "slide_type": "fragment"
    }
   },
   "source": [
    "val counts = inputfile.flatMap(line => line.split(\" \")).map(word => (word, 1)).reduceByKey(_+_);"
   ]
  },
  {
   "cell_type": "markdown",
   "id": "220ca0d7",
   "metadata": {
    "slideshow": {
     "slide_type": "slide"
    }
   },
   "source": [
    "- Mostrar para tareas de debugging el RDD "
   ]
  },
  {
   "cell_type": "raw",
   "id": "be4caf65-4827-4276-8ecc-2a71893c5df8",
   "metadata": {
    "slideshow": {
     "slide_type": "fragment"
    }
   },
   "source": [
    "counts.toDebugString"
   ]
  },
  {
   "cell_type": "markdown",
   "id": "af4fe468",
   "metadata": {
    "slideshow": {
     "slide_type": "slide"
    }
   },
   "source": [
    "- Guardar en memoria"
   ]
  },
  {
   "cell_type": "raw",
   "id": "3f7afc6d-b457-43c8-ab9f-144c9615cb9f",
   "metadata": {
    "slideshow": {
     "slide_type": "fragment"
    }
   },
   "source": [
    "counts.cache()"
   ]
  },
  {
   "cell_type": "markdown",
   "id": "a5df5892",
   "metadata": {
    "slideshow": {
     "slide_type": "slide"
    }
   },
   "source": [
    "- Guardar la salida en un fichero"
   ]
  },
  {
   "cell_type": "raw",
   "id": "238e30b6-fe65-42d8-840f-5da5ff9f859e",
   "metadata": {
    "slideshow": {
     "slide_type": "fragment"
    }
   },
   "source": [
    "val outputfile = sc.textFile(\"salida.txt\")"
   ]
  },
  {
   "cell_type": "markdown",
   "id": "7bd16392",
   "metadata": {
    "slideshow": {
     "slide_type": "slide"
    }
   },
   "source": [
    "- Almacenamiento no persistente de RDD"
   ]
  },
  {
   "cell_type": "raw",
   "id": "d6042c03-71f8-4211-8b61-df269c36b8c0",
   "metadata": {
    "slideshow": {
     "slide_type": "fragment"
    }
   },
   "source": [
    "counts.unpersist()"
   ]
  },
  {
   "cell_type": "markdown",
   "id": "b36d022c",
   "metadata": {
    "slideshow": {
     "slide_type": "slide"
    }
   },
   "source": [
    "- Fuentes:\n",
    "- <https://docs.bitnami.com/virtual-machine/apps/hadoop/>.\n",
    "- <https://fortinux.com/linux-2-tutoriales/hadoop-installation-centos8/>.\n",
    "- <https://hadoop.apache.org/docs/r1.2.1/mapred_tutorial.html>.\n",
    "- <https://spark.apache.org/docs/latest/quick-start.html>."
   ]
  }
 ],
 "metadata": {
  "celltoolbar": "Slideshow",
  "kernelspec": {
   "display_name": "Python 3 (ipykernel)",
   "language": "python",
   "name": "python3"
  },
  "language_info": {
   "codemirror_mode": {
    "name": "ipython",
    "version": 3
   },
   "file_extension": ".py",
   "mimetype": "text/x-python",
   "name": "python",
   "nbconvert_exporter": "python",
   "pygments_lexer": "ipython3",
   "version": "3.10.12"
  },
  "widgets": {
   "application/vnd.jupyter.widget-state+json": {
    "state": {},
    "version_major": 2,
    "version_minor": 0
   }
  }
 },
 "nbformat": 4,
 "nbformat_minor": 5
}