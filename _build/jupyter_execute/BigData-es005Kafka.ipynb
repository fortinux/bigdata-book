{
 "cells": [
  {
   "cell_type": "markdown",
   "id": "149cb3a8",
   "metadata": {
    "slideshow": {
     "slide_type": "slide"
    }
   },
   "source": [
    "# Tutorial Apache Kafka"
   ]
  },
  {
   "cell_type": "markdown",
   "id": "65fd69cf",
   "metadata": {
    "slideshow": {
     "slide_type": "slide"
    }
   },
   "source": [
    "- Apache Kafka es una plataforma de transmisión de eventos distribuidos de código abierto utilizada por miles de empresas para canalizaciones de datos de alto rendimiento, análisis de streaming, integración de datos y aplicaciones de misión crítica.\n",
    "- Es un sistema de mensajería escalable que permite a los usuarios publicar y consumir grandes cantidades de mensajes en tiempo real por suscripción.\n",
    "    - Extraído de: <https://kafka.apache.org/>. "
   ]
  },
  {
   "cell_type": "markdown",
   "id": "abc3061f",
   "metadata": {
    "slideshow": {
     "slide_type": "slide"
    }
   },
   "source": [
    "## Configuración inicial"
   ]
  },
  {
   "cell_type": "markdown",
   "id": "7dac7572",
   "metadata": {
    "slideshow": {
     "slide_type": "slide"
    }
   },
   "source": [
    "- La máquina virtual con Hadoop instalado se descarga de:\n",
    "- <https://bitnami.com/stack/kafka>.\n",
    "- Se puede acceder a la información sobre la configuración predeterminada de la máquina virtual de Bitnami en:\n",
    "- <https://docs.bitnami.com/general/infrastructure/kafka/get-started/understand-default-config/>."
   ]
  },
  {
   "cell_type": "markdown",
   "id": "ec0269d7",
   "metadata": {
    "slideshow": {
     "slide_type": "slide"
    }
   },
   "source": [
    "- Una vez instalado Apache Kafka se deberán abrir los puertos del servidor para los distintos servicios del framework.\n",
    "- Puerto 9092 para Kafka y puerto 2181 para Zookeeper."
   ]
  },
  {
   "cell_type": "raw",
   "id": "71a0ea25-879e-4658-81e3-80b3e4204b11",
   "metadata": {
    "slideshow": {
     "slide_type": "fragment"
    }
   },
   "source": [
    "sudo ufw allow 9092"
   ]
  },
  {
   "cell_type": "raw",
   "id": "012f5bf0-c31f-44d9-b32d-3d3dea819172",
   "metadata": {},
   "source": [
    "sudo ufw allow 2081"
   ]
  },
  {
   "cell_type": "markdown",
   "id": "a6c3fe16",
   "metadata": {
    "slideshow": {
     "slide_type": "slide"
    }
   },
   "source": [
    "- Mostrar el estado de los servicios"
   ]
  },
  {
   "cell_type": "raw",
   "id": "f3da3805-5015-4342-b7dd-b4504d3345e5",
   "metadata": {
    "slideshow": {
     "slide_type": "fragment"
    }
   },
   "source": [
    "sudo /opt/bitnami/ctlscript.sh status"
   ]
  },
  {
   "cell_type": "markdown",
   "id": "cfbada30",
   "metadata": {
    "slideshow": {
     "slide_type": "slide"
    }
   },
   "source": [
    "- Iniciar un servicio"
   ]
  },
  {
   "cell_type": "raw",
   "id": "1a48234e-f491-4599-9084-42e9cfd542fd",
   "metadata": {
    "slideshow": {
     "slide_type": "fragment"
    }
   },
   "source": [
    "sudo /opt/bitnami/ctlscript.sh start"
   ]
  },
  {
   "cell_type": "markdown",
   "id": "759636e6",
   "metadata": {
    "slideshow": {
     "slide_type": "slide"
    }
   },
   "source": [
    "- Reiniciar un servicio"
   ]
  },
  {
   "cell_type": "raw",
   "id": "c260fb6e-f0ee-4828-9949-b6bb43e53c42",
   "metadata": {
    "slideshow": {
     "slide_type": "fragment"
    }
   },
   "source": [
    "sudo /opt/bitnami/ctlscript.sh restart apache"
   ]
  },
  {
   "cell_type": "markdown",
   "id": "60b85ea0",
   "metadata": {
    "slideshow": {
     "slide_type": "slide"
    }
   },
   "source": [
    "- Detener todos los servicios"
   ]
  },
  {
   "cell_type": "raw",
   "id": "36f10c3d-e33e-431d-a4dc-fc34fdd5f1e2",
   "metadata": {
    "slideshow": {
     "slide_type": "fragment"
    }
   },
   "source": [
    "sudo /opt/bitnami/ctlscript.sh stop"
   ]
  },
  {
   "cell_type": "markdown",
   "id": "d7e16af7",
   "metadata": {
    "slideshow": {
     "slide_type": "slide"
    }
   },
   "source": [
    "## Ejecutar un productor y un consumidor en Kafka"
   ]
  },
  {
   "cell_type": "markdown",
   "id": "d8754350",
   "metadata": {
    "slideshow": {
     "slide_type": "slide"
    }
   },
   "source": [
    "- Crear y colectar un tópico en Kafka utilizando la consola.\n",
    "- Se inicia exportando la configuración de autenticación a Kafka."
   ]
  },
  {
   "cell_type": "raw",
   "id": "8ec07427-e6b7-4906-a1e6-eca138b5479c",
   "metadata": {
    "slideshow": {
     "slide_type": "fragment"
    }
   },
   "source": [
    "export KAFKA_OPTS=\"-Djava.security.auth.login.config=/opt/bitnami/kafka/config/kafka_jaas.conf\""
   ]
  },
  {
   "cell_type": "markdown",
   "id": "610b6441",
   "metadata": {
    "slideshow": {
     "slide_type": "slide"
    }
   },
   "source": [
    "- Crear un nuevo tópico con una única partición y una única réplica."
   ]
  },
  {
   "cell_type": "raw",
   "id": "e13b4e5c-7c1d-4093-b617-020f6c7e2e5c",
   "metadata": {
    "slideshow": {
     "slide_type": "fragment"
    }
   },
   "source": [
    "/opt/bitnami/kafka/bin/kafka-topics.sh --create --zookeeper \\ \n",
    "SERVER-IP:2181 --replication-factor 1 --partitions 1 --topic test"
   ]
  },
  {
   "cell_type": "markdown",
   "id": "f4ccc84e",
   "metadata": {
    "slideshow": {
     "slide_type": "slide"
    }
   },
   "source": [
    "- Crear un nuevo productor y generar el mensaje para el tópico."
   ]
  },
  {
   "cell_type": "raw",
   "id": "a5b7ca80-6773-42d7-98f3-97aed51c7486",
   "metadata": {
    "slideshow": {
     "slide_type": "fragment"
    }
   },
   "source": [
    "/opt/bitnami/kafka/bin/kafka-console-producer.sh --broker-list \\\n",
    "SERVER-IP:9092 --producer.config /opt/bitnami/kafka/config/producer.properties --topic test"
   ]
  },
  {
   "cell_type": "raw",
   "id": "2a10fd13-b04c-474d-8889-8e7e7b2d0b84",
   "metadata": {
    "slideshow": {
     "slide_type": "fragment"
    }
   },
   "source": [
    "  Este es mi primer mensaje\n",
    "  ... y este es el segundo"
   ]
  },
  {
   "cell_type": "markdown",
   "id": "288a575f",
   "metadata": {
    "slideshow": {
     "slide_type": "slide"
    }
   },
   "source": [
    "- Recuperar y presentar los mensajes."
   ]
  },
  {
   "cell_type": "raw",
   "id": "9ad089a0-858b-4132-ba6e-9ebf94c6df02",
   "metadata": {
    "slideshow": {
     "slide_type": "fragment"
    }
   },
   "source": [
    "/opt/bitnami/kafka/bin/kafka-console-consumer.sh --bootstrap-server localhost:9092 \\\n",
    "--topic test --consumer.config /opt/bitnami/kafka/config/consumer.properties --from-beginning"
   ]
  },
  {
   "cell_type": "markdown",
   "id": "b36d022c",
   "metadata": {
    "slideshow": {
     "slide_type": "slide"
    }
   },
   "source": [
    "- Fuentes:\n",
    "- <https://docs.bitnami.com/virtual-machine/apps/kafka/>.\n",
    "- <https://docs.bitnami.com/general/infrastructure/kafka/administration/run-producer-consumer/>."
   ]
  }
 ],
 "metadata": {
  "celltoolbar": "Slideshow",
  "kernelspec": {
   "display_name": "Python 3 (ipykernel)",
   "language": "python",
   "name": "python3"
  },
  "language_info": {
   "codemirror_mode": {
    "name": "ipython",
    "version": 3
   },
   "file_extension": ".py",
   "mimetype": "text/x-python",
   "name": "python",
   "nbconvert_exporter": "python",
   "pygments_lexer": "ipython3",
   "version": "3.10.12"
  },
  "widgets": {
   "application/vnd.jupyter.widget-state+json": {
    "state": {},
    "version_major": 2,
    "version_minor": 0
   }
  }
 },
 "nbformat": 4,
 "nbformat_minor": 5
}