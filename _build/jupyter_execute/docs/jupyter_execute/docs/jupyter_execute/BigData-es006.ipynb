{
 "cells": [
  {
   "cell_type": "markdown",
   "id": "149cb3a8",
   "metadata": {
    "slideshow": {
     "slide_type": "slide"
    }
   },
   "source": [
    "# Big Data tema 6"
   ]
  },
  {
   "cell_type": "markdown",
   "id": "8842a76d",
   "metadata": {
    "slideshow": {
     "slide_type": "slide"
    }
   },
   "source": [
    "## Elastic Stack"
   ]
  },
  {
   "cell_type": "markdown",
   "id": "83b55512",
   "metadata": {
    "slideshow": {
     "slide_type": "slide"
    }
   },
   "source": [
    "- El ELK Stack se compone de las aplicaciones Elasticsearch, Logstash, Kibana, y Beats.\n",
    "- Actualmente se lo conoce como Elastic Stack, nombre que le permite agregar nuevas funcionalidades denominadas *beats*."
   ]
  },
  {
   "cell_type": "markdown",
   "id": "811918b4",
   "metadata": {
    "slideshow": {
     "slide_type": "slide"
    }
   },
   "source": [
    "- Elasticsearch 8.0\n",
    "- Logstash 8.0\n",
    "- Kibana 8.0\n",
    "- Beats 8.0"
   ]
  },
  {
   "cell_type": "markdown",
   "id": "dfd19b9a",
   "metadata": {
    "slideshow": {
     "slide_type": "fragment"
    }
   },
   "source": [
    "- Extraído de: <https://www.elastic.co/what-is/elasticsearch>."
   ]
  },
  {
   "cell_type": "markdown",
   "id": "fe5cae3c",
   "metadata": {
    "slideshow": {
     "slide_type": "slide"
    }
   },
   "source": [
    "## Casos de uso"
   ]
  },
  {
   "cell_type": "markdown",
   "id": "a3534ad4",
   "metadata": {
    "slideshow": {
     "slide_type": "slide"
    }
   },
   "source": [
    "- Búsqueda de aplicaciones\n",
    "- Búsqueda de sitio web\n",
    "- Búsqueda Empresarial\n",
    "- Logging y analíticas de log\n",
    "- Métricas de infraestructura y monitoreo de contenedores\n",
    "- Monitoreo de rendimiento de aplicaciones\n",
    "- Análisis y visualización de datos geoespaciales\n",
    "- Analítica de Seguridad\n",
    "- Analítica de Negocios"
   ]
  },
  {
   "cell_type": "markdown",
   "id": "d8754350",
   "metadata": {
    "slideshow": {
     "slide_type": "slide"
    }
   },
   "source": [
    "## Elasticsearch"
   ]
  },
  {
   "cell_type": "markdown",
   "id": "061591d4",
   "metadata": {
    "slideshow": {
     "slide_type": "slide"
    }
   },
   "source": [
    "- Elasticsearch es un motor de análisis y búsqueda de código abierto distribuido para todo tipo de datos, incluidos textuales, numéricos, geoespaciales, estructurados y no estructurados.\n",
    "- Elasticsearch se basa en Apache Lucene y fue lanzado por primera vez en 2010 por Elasticsearch N.V. (ahora conocido como Elastic). \n",
    "    - Extraído de: <https://www.elastic.co/>."
   ]
  },
  {
   "cell_type": "markdown",
   "id": "e8465bd1",
   "metadata": {
    "slideshow": {
     "slide_type": "slide"
    }
   },
   "source": [
    "- Conocido por sus API REST simples, naturaleza distribuida, velocidad y escalabilidad, Elasticsearch es el componente central de Elastic Stack, un conjunto de herramientas de código abierto para la ingesta, el enriquecimiento, el almacenamiento, el análisis y la visualización de datos."
   ]
  },
  {
   "cell_type": "markdown",
   "id": "a4691527",
   "metadata": {
    "slideshow": {
     "slide_type": "slide"
    }
   },
   "source": [
    "- La ingesta de datos es el proceso mediante el cual estos datos sin procesar se analizan, normalizan y enriquecen antes de indexarlos en Elasticsearch. \n",
    "- Los datos sin procesar fluyen hacia Elasticsearch desde una variedad de fuentes, incluidos registros, métricas del sistema y aplicaciones web."
   ]
  },
  {
   "cell_type": "markdown",
   "id": "2a74e838",
   "metadata": {
    "slideshow": {
     "slide_type": "slide"
    }
   },
   "source": [
    "## Apache Lucene"
   ]
  },
  {
   "cell_type": "markdown",
   "id": "9c438b04",
   "metadata": {
    "slideshow": {
     "slide_type": "slide"
    }
   },
   "source": [
    "- Lucene Core es una biblioteca de Java que proporciona potentes funciones de indexación y búsqueda, así como funciones de corrección ortográfica, resaltado de aciertos y análisis/tokenización avanzados.\n",
    "    - Extraído de: <https://lucene.apache.org/>."
   ]
  },
  {
   "cell_type": "markdown",
   "id": "56b4aa41",
   "metadata": {
    "slideshow": {
     "slide_type": "slide"
    }
   },
   "source": [
    "- Entre los proyectos relacionados se encuentra PyLucene que proporciona enlaces de Python para Lucene Core. \n",
    "- PyLucene incorpora una VM de Java con Lucene en un proceso de Python.\n",
    "- El módulo de Python llamado *lucene* es generado por máquina por JCC.\n",
    "    - Extraído de: <https://lucene.apache.org/pylucene/>.    "
   ]
  },
  {
   "cell_type": "markdown",
   "id": "8d3e6da8",
   "metadata": {
    "slideshow": {
     "slide_type": "slide"
    }
   },
   "source": [
    "- Lucene Core tiene una serie de proyectos relacionados, entre los cuales se encuentran: "
   ]
  },
  {
   "cell_type": "markdown",
   "id": "355f7920",
   "metadata": {
    "slideshow": {
     "slide_type": "slide"
    }
   },
   "source": [
    "- Manifold: Framework de código abierto para conectar repositorios de contenido de origen, como Microsoft Sharepoint y EMC Documentum, a repositorios o índices de destino, como Apache Solr, Open Search Server o ElasticSearch.\n",
    "    - <https://manifoldcf.apache.org/en_US/index.html>. \n",
    "- LUCENE.net: biblioteca de motor de búsqueda de alto rendimiento para .NET\n",
    "    - <https://lucenenet.apache.org/>."
   ]
  },
  {
   "cell_type": "markdown",
   "id": "46de690e",
   "metadata": {
    "slideshow": {
     "slide_type": "slide"
    }
   },
   "source": [
    "- Apache Tika: El kit de herramientas Apache Tika detecta y extrae metadatos y texto de más de mil tipos de archivos diferentes (como PPT, XLS y PDF). Todos estos tipos de archivos se pueden analizar a través de una sola interfaz, lo que hace que Tika sea útil para la indexación de motores de búsqueda, el análisis de contenido, la traducción y mucho más.\n",
    "    - <https://tika.apache.org/>"
   ]
  },
  {
   "cell_type": "markdown",
   "id": "69238778",
   "metadata": {
    "slideshow": {
     "slide_type": "slide"
    }
   },
   "source": [
    "- Nutch es un rastreador web altamente extensible, altamente escalable, maduro y listo para producción que permite una configuración detallada y se adapta a una amplia variedad de tareas de adquisición de datos.\n",
    "    - <https://nutch.apache.org/>."
   ]
  },
  {
   "cell_type": "markdown",
   "id": "690e9a21",
   "metadata": {
    "slideshow": {
     "slide_type": "slide"
    }
   },
   "source": [
    "- La biblioteca Apache OpenNLP es un conjunto de herramientas basado en el aprendizaje automático para el procesamiento de texto en lenguaje natural.\n",
    "- Admite las tareas más comunes de NLP, como la tokenización, la segmentación de oraciones, el etiquetado de partes del discurso, la extracción de entidades nombradas, la fragmentación, el análisis y la resolución de correferencias.\n",
    "    - Extraído de: <https://opennlp.apache.org/>."
   ]
  },
  {
   "cell_type": "markdown",
   "id": "f88cbee0",
   "metadata": {
    "slideshow": {
     "slide_type": "slide"
    }
   },
   "source": [
    "- Apache Mahout es un framework distribuido de álgebra linear y Scala DSL que tiene como objetivo crear aplicaciones de aprendizaje automático (ML) escalables y eficaces. \n",
    "    - <https://mahout.apache.org/>."
   ]
  },
  {
   "cell_type": "markdown",
   "id": "a20dc0a6",
   "metadata": {
    "slideshow": {
     "slide_type": "slide"
    }
   },
   "source": [
    "## Apache Solr"
   ]
  },
  {
   "cell_type": "markdown",
   "id": "d296cc6d",
   "metadata": {
    "slideshow": {
     "slide_type": "slide"
    }
   },
   "source": [
    "- Solr es un servidor de búsqueda de alto rendimiento creado con Lucene Core.\n",
    "- Solr es altamente escalable y proporciona indexación, búsqueda y análisis distribuidos totalmente tolerantes a fallas.\n",
    "- Expone las características de Lucene a través de interfaces JSON/HTTP fáciles de usar o de clientes nativos para Java y otros lenguajes. \n",
    "    - Extraído de: <https://lucene.apache.org/>."
   ]
  },
  {
   "cell_type": "markdown",
   "id": "4cd108f8",
   "metadata": {
    "slideshow": {
     "slide_type": "slide"
    }
   },
   "source": [
    "- Tutorial Sorl: \n",
    "    - <https://solr.apache.org/guide/8_11/solr-tutorial.html/>."
   ]
  },
  {
   "cell_type": "markdown",
   "id": "01ceb013",
   "metadata": {
    "slideshow": {
     "slide_type": "slide"
    }
   },
   "source": [
    "## Logstash"
   ]
  },
  {
   "cell_type": "markdown",
   "id": "cd4fe992",
   "metadata": {
    "slideshow": {
     "slide_type": "slide"
    }
   },
   "source": [
    "- Logstash se usa para agregar y procesar datos y enviarlos a Elasticsearch.\n",
    "- Es una canalización (*pipeline*) de procesamiento de datos del lado del servidor de código abierto que le permite ingerir datos de múltiples fuentes simultáneamente y enriquecerlos y transformarlos antes de que se indexen en Elasticsearch."
   ]
  },
  {
   "cell_type": "markdown",
   "id": "85cd8c74",
   "metadata": {
    "slideshow": {
     "slide_type": "slide"
    }
   },
   "source": [
    "- Un índice de Elasticsearch es una colección de documentos que están relacionados entre sí.\n",
    "- Elasticsearch almacena datos como documentos JSON.\n",
    "- Cada documento correlaciona un conjunto de claves (nombres de campos o propiedades) con sus valores correspondientes (cadenas, números, booleanos, fechas, matrices de valores, geolocalizaciones u otros tipos de datos)."
   ]
  },
  {
   "cell_type": "markdown",
   "id": "10fd75b3",
   "metadata": {
    "slideshow": {
     "slide_type": "slide"
    }
   },
   "source": [
    "- Elasticsearch utiliza una estructura de datos denominada índice invertido, que está diseñada para permitir búsquedas de texto completo muy rápidas.\n",
    "- Un índice invertido enumera cada palabra única que aparece en cualquier documento e identifica todos los documentos en los que aparece cada palabra."
   ]
  },
  {
   "cell_type": "markdown",
   "id": "8ebdf3c5",
   "metadata": {
    "slideshow": {
     "slide_type": "slide"
    }
   },
   "source": [
    "- La indexación se inicia con la API de índice, a través de la cual puede agregar o actualizar un documento JSON en un índice específico.\n",
    "- Durante el proceso de indexación, Elasticsearch almacena documentos y crea un índice invertido para que los datos del documento se puedan buscar casi en tiempo real."
   ]
  },
  {
   "cell_type": "markdown",
   "id": "f664fa84",
   "metadata": {
    "slideshow": {
     "slide_type": "slide"
    }
   },
   "source": [
    "- Una vez indexados en Elasticsearch, los usuarios pueden ejecutar consultas complejas en sus datos y usar agregaciones para recuperar resúmenes complejos de sus datos.\n",
    "- Desde Kibana, los usuarios pueden crear potentes visualizaciones de sus datos, compartir paneles y administrar el Elastic Stack."
   ]
  },
  {
   "cell_type": "markdown",
   "id": "b4fbd11b",
   "metadata": {
    "slideshow": {
     "slide_type": "slide"
    }
   },
   "source": [
    "## Elasticsearch Kibana"
   ]
  },
  {
   "cell_type": "markdown",
   "id": "8e2194e3",
   "metadata": {
    "slideshow": {
     "slide_type": "slide"
    }
   },
   "source": [
    "- Kibana es una herramienta de visualización y gestión de datos para Elasticsearch que brinda histogramas en tiempo real, gráficos circulares y mapas. \n",
    "- Kibana también incluye aplicaciones avanzadas, como Canvas, que permite a los usuarios crear infografías dinámicas personalizadas con base en sus datos, y Elastic Maps para visualizar los datos geoespaciales."
   ]
  },
  {
   "cell_type": "markdown",
   "id": "bf90edda",
   "metadata": {
    "slideshow": {
     "slide_type": "slide"
    }
   },
   "source": [
    "## Lenguajes soportados"
   ]
  },
  {
   "cell_type": "markdown",
   "id": "c3901e06",
   "metadata": {
    "slideshow": {
     "slide_type": "slide"
    }
   },
   "source": [
    "- Elasticsearch soporta una variedad de lenguajes de programación facilitando clientes para:\n",
    "    - Java\n",
    "    - JavaScript (Node.js)\n",
    "    - Go\n",
    "    - .NET (C#)\n",
    "    - PHP\n",
    "    - Perl\n",
    "    - Python\n",
    "    - Ruby"
   ]
  },
  {
   "cell_type": "markdown",
   "id": "a4927613",
   "metadata": {
    "slideshow": {
     "slide_type": "slide"
    }
   },
   "source": [
    "## Herramientas para la línea de comandos"
   ]
  },
  {
   "cell_type": "markdown",
   "id": "f59b4c53",
   "metadata": {
    "slideshow": {
     "slide_type": "slide"
    }
   },
   "source": [
    "- elasticsearch-certgen\n",
    "- elasticsearch-certutil\n",
    "- elasticsearch-croneval\n",
    "- elasticsearch-keystore\n",
    "- elasticsearch-migrate"
   ]
  },
  {
   "cell_type": "markdown",
   "id": "f4ccc84e",
   "metadata": {
    "slideshow": {
     "slide_type": "fragment"
    }
   },
   "source": [
    "- Font: <https://www.elastic.co/guide/en/elasticsearch/reference/current/commands.html>."
   ]
  },
  {
   "cell_type": "markdown",
   "id": "19da143f",
   "metadata": {
    "slideshow": {
     "slide_type": "slide"
    }
   },
   "source": [
    "- elasticsearch-node\n",
    "- elasticsearch-saml-metadata\n",
    "- elasticsearch-setup-passwords\n",
    "- elasticsearch-shard\n",
    "- elasticsearch-syskeygen\n",
    "- elasticsearch-users"
   ]
  },
  {
   "cell_type": "markdown",
   "id": "82fe0afa",
   "metadata": {
    "slideshow": {
     "slide_type": "slide"
    }
   },
   "source": [
    "## Kibana dev tools"
   ]
  },
  {
   "cell_type": "code",
   "execution_count": 1,
   "id": "d2b884c9",
   "metadata": {
    "slideshow": {
     "slide_type": "slide"
    }
   },
   "outputs": [
    {
     "ename": "SyntaxError",
     "evalue": "':' expected after dictionary key (62880121.py, line 5)",
     "output_type": "error",
     "traceback": [
      "\u001b[0;36m  Cell \u001b[0;32mIn [1], line 5\u001b[0;36m\u001b[0m\n\u001b[0;31m    ...\u001b[0m\n\u001b[0m       ^\u001b[0m\n\u001b[0;31mSyntaxError\u001b[0m\u001b[0;31m:\u001b[0m ':' expected after dictionary key\n"
     ]
    }
   ],
   "source": [
    "# Un documento puede contener varios campos con valores\n",
    "\n",
    "{\n",
    "  \"name\" : \"Elastic\",\n",
    "  ...\n",
    "  <field> : <value>\n",
    "}"
   ]
  },
  {
   "cell_type": "markdown",
   "id": "ddc553e4",
   "metadata": {
    "slideshow": {
     "slide_type": "fragment"
    }
   },
   "source": [
    "- Fuente: (assets.contentstack.io) [<https://assets.contentstack.io/v3/assets/bltefdd0b53724fa2ce/blt56ad3f4e2c755f29/5d37c1602a506857d64eff48/es_commands.txt>]"
   ]
  },
  {
   "cell_type": "markdown",
   "id": "0fce2935",
   "metadata": {
    "slideshow": {
     "slide_type": "slide"
    }
   },
   "source": [
    "## Tutorial Elasticsearch"
   ]
  },
  {
   "cell_type": "markdown",
   "id": "29d9f5dc",
   "metadata": {
    "slideshow": {
     "slide_type": "slide"
    }
   },
   "source": [
    "- Descargar e instalar la máquina virtual de elasticsearch en Bitnami\n",
    "- <https://bitnami.com/stack/elasticsearch/virtual-machine>. "
   ]
  }
 ],
 "metadata": {
  "celltoolbar": "Slideshow",
  "kernelspec": {
   "display_name": "Python 3 (ipykernel)",
   "language": "python",
   "name": "python3"
  },
  "language_info": {
   "codemirror_mode": {
    "name": "ipython",
    "version": 3
   },
   "file_extension": ".py",
   "mimetype": "text/x-python",
   "name": "python",
   "nbconvert_exporter": "python",
   "pygments_lexer": "ipython3",
   "version": "3.10.12"
  },
  "widgets": {
   "application/vnd.jupyter.widget-state+json": {
    "state": {},
    "version_major": 2,
    "version_minor": 0
   }
  }
 },
 "nbformat": 4,
 "nbformat_minor": 5
}